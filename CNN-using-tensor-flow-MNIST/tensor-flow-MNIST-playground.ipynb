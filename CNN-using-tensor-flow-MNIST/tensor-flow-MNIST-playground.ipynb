{
 "cells": [
  {
   "cell_type": "code",
   "execution_count": 1,
   "metadata": {},
   "outputs": [],
   "source": [
    "import model\n",
    "import data\n",
    "import tensorflow as tf\n",
    "import numpy as np\n",
    "import random"
   ]
  },
  {
   "cell_type": "code",
   "execution_count": 3,
   "metadata": {},
   "outputs": [
    {
     "name": "stdout",
     "output_type": "stream",
     "text": [
      "Extracting ./train-images-idx3-ubyte.gz\n",
      "Extracting ./train-labels-idx1-ubyte.gz\n",
      "Extracting ./t10k-images-idx3-ubyte.gz\n",
      "Extracting ./t10k-labels-idx1-ubyte.gz\n",
      "55000\n"
     ]
    }
   ],
   "source": [
    "dataset = data.Dataset(batch_size=128)"
   ]
  },
  {
   "cell_type": "code",
   "execution_count": 25,
   "metadata": {},
   "outputs": [],
   "source": [
    "x = dataset.get_train_data()"
   ]
  },
  {
   "cell_type": "code",
   "execution_count": null,
   "metadata": {},
   "outputs": [],
   "source": [
    "x.next_batch"
   ]
  },
  {
   "cell_type": "code",
   "execution_count": 4,
   "metadata": {},
   "outputs": [],
   "source": [
    "learning_rate= 0.001\n",
    "num_steps = 5000\n",
    "batch_size = 128"
   ]
  },
  {
   "cell_type": "code",
   "execution_count": 5,
   "metadata": {},
   "outputs": [],
   "source": [
    "temperature = 5.0\n",
    "dropout = 0.75"
   ]
  },
  {
   "cell_type": "code",
   "execution_count": 6,
   "metadata": {},
   "outputs": [],
   "source": [
    "checkpoint_dir= \"teachercpt\""
   ]
  },
  {
   "cell_type": "code",
   "execution_count": 7,
   "metadata": {},
   "outputs": [],
   "source": [
    "teacher_model = model.BigModel(num_steps=num_steps, \n",
    "                               batch_size=batch_size,\n",
    "                               learning_rate=learning_rate,\n",
    "                               temperature=temperature,\n",
    "                               dropoutprob=dropout,\n",
    "                               checkpoint_dir=checkpoint_dir,\n",
    "                               model_type=\"teacher\");"
   ]
  },
  {
   "cell_type": "raw",
   "metadata": {},
   "source": [
    "teacher_model.start_session()\n",
    "teacher_model.train(dataset)"
   ]
  },
  {
   "cell_type": "code",
   "execution_count": 9,
   "metadata": {},
   "outputs": [
    {
     "name": "stdout",
     "output_type": "stream",
     "text": [
      "Reading model parameters from teachercpt/bigmodel.ckpt\n",
      "Testing Accuracy: 0.979786\n"
     ]
    }
   ],
   "source": [
    "# Load the best model from created checkpoint\n",
    "teacher_model.load_model_from_file(checkpoint_dir)\n",
    "# Test the model against the testing set\n",
    "teacher_model.run_inference(dataset)"
   ]
  },
  {
   "cell_type": "code",
   "execution_count": 10,
   "metadata": {},
   "outputs": [],
   "source": [
    "# Close current tf session\n",
    "teacher_model.close_session()"
   ]
  },
  {
   "cell_type": "code",
   "execution_count": 11,
   "metadata": {},
   "outputs": [],
   "source": [
    "checkpoint_dir=\"sstudentcpt\""
   ]
  },
  {
   "cell_type": "code",
   "execution_count": 12,
   "metadata": {},
   "outputs": [],
   "source": [
    "student_model = model.SmallModel(num_steps=num_steps, \n",
    "                                 batch_size=batch_size,\n",
    "                                 learning_rate=learning_rate,\n",
    "                                 temperature=temperature,\n",
    "                                 dropoutprob=dropout,\n",
    "                                 checkpoint_dir=checkpoint_dir,\n",
    "                                 model_type=\"student\")"
   ]
  },
  {
   "cell_type": "code",
   "execution_count": 13,
   "metadata": {},
   "outputs": [
    {
     "name": "stdout",
     "output_type": "stream",
     "text": [
      "Starting Training\n",
      "Model Checkpointed to sstudentcpt/smallmodel \n",
      "Step 1, Validation Loss= 12.7858, Validation Accuracy= 0.123\n",
      "Model Checkpointed to sstudentcpt/smallmodel \n",
      "Step 100, Validation Loss= 7.4580, Validation Accuracy= 0.227\n",
      "Model Checkpointed to sstudentcpt/smallmodel \n",
      "Step 200, Validation Loss= 5.1854, Validation Accuracy= 0.353\n",
      "Model Checkpointed to sstudentcpt/smallmodel \n",
      "Step 300, Validation Loss= 3.8549, Validation Accuracy= 0.454\n",
      "Model Checkpointed to sstudentcpt/smallmodel \n",
      "Step 400, Validation Loss= 3.0159, Validation Accuracy= 0.530\n",
      "Model Checkpointed to sstudentcpt/smallmodel \n",
      "Step 500, Validation Loss= 2.4774, Validation Accuracy= 0.589\n",
      "Model Checkpointed to sstudentcpt/smallmodel \n",
      "Step 600, Validation Loss= 2.0951, Validation Accuracy= 0.637\n",
      "Model Checkpointed to sstudentcpt/smallmodel \n",
      "Step 700, Validation Loss= 1.8067, Validation Accuracy= 0.670\n",
      "Model Checkpointed to sstudentcpt/smallmodel \n",
      "Step 800, Validation Loss= 1.5945, Validation Accuracy= 0.704\n",
      "Model Checkpointed to sstudentcpt/smallmodel \n",
      "Step 900, Validation Loss= 1.4355, Validation Accuracy= 0.720\n",
      "Model Checkpointed to sstudentcpt/smallmodel \n",
      "Step 1000, Validation Loss= 1.3032, Validation Accuracy= 0.742\n",
      "Model Checkpointed to sstudentcpt/smallmodel \n",
      "Step 1100, Validation Loss= 1.2007, Validation Accuracy= 0.758\n",
      "Model Checkpointed to sstudentcpt/smallmodel \n",
      "Step 1200, Validation Loss= 1.1154, Validation Accuracy= 0.777\n",
      "Model Checkpointed to sstudentcpt/smallmodel \n",
      "Step 1300, Validation Loss= 1.0442, Validation Accuracy= 0.785\n",
      "Model Checkpointed to sstudentcpt/smallmodel \n",
      "Step 1400, Validation Loss= 0.9875, Validation Accuracy= 0.795\n",
      "Model Checkpointed to sstudentcpt/smallmodel \n",
      "Step 1500, Validation Loss= 0.9403, Validation Accuracy= 0.804\n",
      "Model Checkpointed to sstudentcpt/smallmodel \n",
      "Step 1600, Validation Loss= 0.8949, Validation Accuracy= 0.812\n",
      "Model Checkpointed to sstudentcpt/smallmodel \n",
      "Step 1700, Validation Loss= 0.8570, Validation Accuracy= 0.819\n",
      "Model Checkpointed to sstudentcpt/smallmodel \n",
      "Step 1800, Validation Loss= 0.8230, Validation Accuracy= 0.825\n",
      "Model Checkpointed to sstudentcpt/smallmodel \n",
      "Step 1900, Validation Loss= 0.7938, Validation Accuracy= 0.830\n",
      "Model Checkpointed to sstudentcpt/smallmodel \n",
      "Step 2000, Validation Loss= 0.7684, Validation Accuracy= 0.836\n",
      "Model Checkpointed to sstudentcpt/smallmodel \n",
      "Step 2100, Validation Loss= 0.7431, Validation Accuracy= 0.842\n",
      "Model Checkpointed to sstudentcpt/smallmodel \n",
      "Step 2200, Validation Loss= 0.7205, Validation Accuracy= 0.845\n",
      "Model Checkpointed to sstudentcpt/smallmodel \n",
      "Step 2300, Validation Loss= 0.7032, Validation Accuracy= 0.848\n",
      "Model Checkpointed to sstudentcpt/smallmodel \n",
      "Step 2400, Validation Loss= 0.6871, Validation Accuracy= 0.853\n",
      "Model Checkpointed to sstudentcpt/smallmodel \n",
      "Step 2500, Validation Loss= 0.6683, Validation Accuracy= 0.857\n",
      "Model Checkpointed to sstudentcpt/smallmodel \n",
      "Step 2600, Validation Loss= 0.6544, Validation Accuracy= 0.858\n",
      "Model Checkpointed to sstudentcpt/smallmodel \n",
      "Step 2700, Validation Loss= 0.6378, Validation Accuracy= 0.859\n",
      "Model Checkpointed to sstudentcpt/smallmodel \n",
      "Step 2800, Validation Loss= 0.6235, Validation Accuracy= 0.864\n",
      "Model Checkpointed to sstudentcpt/smallmodel \n",
      "Step 2900, Validation Loss= 0.6139, Validation Accuracy= 0.866\n",
      "Model Checkpointed to sstudentcpt/smallmodel \n",
      "Step 3000, Validation Loss= 0.5990, Validation Accuracy= 0.869\n",
      "Model Checkpointed to sstudentcpt/smallmodel \n",
      "Step 3100, Validation Loss= 0.5887, Validation Accuracy= 0.870\n",
      "Model Checkpointed to sstudentcpt/smallmodel \n",
      "Step 3200, Validation Loss= 0.5817, Validation Accuracy= 0.871\n",
      "Model Checkpointed to sstudentcpt/smallmodel \n",
      "Step 3300, Validation Loss= 0.5713, Validation Accuracy= 0.872\n",
      "Model Checkpointed to sstudentcpt/smallmodel \n",
      "Step 3400, Validation Loss= 0.5624, Validation Accuracy= 0.876\n",
      "Model Checkpointed to sstudentcpt/smallmodel \n",
      "Step 3500, Validation Loss= 0.5513, Validation Accuracy= 0.875\n",
      "Model Checkpointed to sstudentcpt/smallmodel \n",
      "Step 3600, Validation Loss= 0.5439, Validation Accuracy= 0.877\n",
      "Model Checkpointed to sstudentcpt/smallmodel \n",
      "Step 3700, Validation Loss= 0.5399, Validation Accuracy= 0.878\n",
      "Model Checkpointed to sstudentcpt/smallmodel \n",
      "Step 3800, Validation Loss= 0.5309, Validation Accuracy= 0.879\n",
      "Model Checkpointed to sstudentcpt/smallmodel \n",
      "Step 3900, Validation Loss= 0.5242, Validation Accuracy= 0.881\n",
      "Model Checkpointed to sstudentcpt/smallmodel \n",
      "Step 4000, Validation Loss= 0.5162, Validation Accuracy= 0.884\n",
      "Model Checkpointed to sstudentcpt/smallmodel \n",
      "Step 4100, Validation Loss= 0.5122, Validation Accuracy= 0.882\n",
      "Model Checkpointed to sstudentcpt/smallmodel \n",
      "Step 4200, Validation Loss= 0.5060, Validation Accuracy= 0.884\n",
      "Model Checkpointed to sstudentcpt/smallmodel \n",
      "Step 4300, Validation Loss= 0.4990, Validation Accuracy= 0.886\n",
      "Model Checkpointed to sstudentcpt/smallmodel \n",
      "Step 4400, Validation Loss= 0.4934, Validation Accuracy= 0.887\n",
      "Model Checkpointed to sstudentcpt/smallmodel \n",
      "Step 4500, Validation Loss= 0.4872, Validation Accuracy= 0.887\n",
      "Model Checkpointed to sstudentcpt/smallmodel \n",
      "Step 4600, Validation Loss= 0.4818, Validation Accuracy= 0.887\n",
      "Model Checkpointed to sstudentcpt/smallmodel \n",
      "Step 4700, Validation Loss= 0.4802, Validation Accuracy= 0.889\n",
      "Model Checkpointed to sstudentcpt/smallmodel \n",
      "Step 4800, Validation Loss= 0.4737, Validation Accuracy= 0.891\n",
      "Model Checkpointed to sstudentcpt/smallmodel \n",
      "Step 4900, Validation Loss= 0.4684, Validation Accuracy= 0.890\n",
      "Model Checkpointed to sstudentcpt/smallmodel \n",
      "Step 5000, Validation Loss= 0.4661, Validation Accuracy= 0.892\n",
      "Model Checkpointed to sstudentcpt/smallmodel \n",
      "Step 5000, Validation Loss= 0.4661, Validation Accuracy= 0.892\n",
      "Optimization Finished!\n"
     ]
    }
   ],
   "source": [
    "student_model.start_session()\n",
    "student_model.train(dataset)"
   ]
  },
  {
   "cell_type": "code",
   "execution_count": 14,
   "metadata": {},
   "outputs": [
    {
     "name": "stdout",
     "output_type": "stream",
     "text": [
      "Reading model parameters from sstudentcpt/smallmodel\n",
      "Testing Accuracy: 0.888075\n"
     ]
    }
   ],
   "source": [
    "# Load the best model from created checkpoint\n",
    "student_model.load_model_from_file(checkpoint_dir)\n",
    "# Test the model against the testing set\n",
    "student_model.run_inference(dataset)"
   ]
  },
  {
   "cell_type": "code",
   "execution_count": 15,
   "metadata": {},
   "outputs": [],
   "source": [
    "# Close current tf session\n",
    "student_model.close_session()"
   ]
  },
  {
   "cell_type": "code",
   "execution_count": 6,
   "metadata": {},
   "outputs": [],
   "source": [
    "# Model definition\n",
    "teacher_model = model.BigModel(num_steps=num_steps, \n",
    "                               batch_size=batch_size,\n",
    "                               learning_rate=learning_rate,\n",
    "                               temperature=temperature,\n",
    "                               dropoutprob=dropout,\n",
    "                               checkpoint_dir=\"teachercpt\",\n",
    "                               model_type=\"teacher\");\n",
    "# Start tf session\n",
    "teacher_model.start_session()"
   ]
  },
  {
   "cell_type": "code",
   "execution_count": 7,
   "metadata": {},
   "outputs": [
    {
     "name": "stdout",
     "output_type": "stream",
     "text": [
      "Reading model parameters from teachercpt/bigmodel.ckpt\n"
     ]
    }
   ],
   "source": [
    "# Load best model from teacher checkpoint\n",
    "checkpoint_dir = \"teachercpt\"\n",
    "teacher_model.load_model_from_file(checkpoint_dir)"
   ]
  },
  {
   "cell_type": "code",
   "execution_count": 8,
   "metadata": {},
   "outputs": [
    {
     "name": "stdout",
     "output_type": "stream",
     "text": [
      "Testing Accuracy: 0.979586\n"
     ]
    }
   ],
   "source": [
    "# Test the model against the testing set\n",
    "teacher_model.run_inference(dataset)"
   ]
  },
  {
   "cell_type": "code",
   "execution_count": null,
   "metadata": {},
   "outputs": [],
   "source": []
  }
 ],
 "metadata": {
  "kernelspec": {
   "display_name": "Python 3",
   "language": "python",
   "name": "python3"
  },
  "language_info": {
   "codemirror_mode": {
    "name": "ipython",
    "version": 3
   },
   "file_extension": ".py",
   "mimetype": "text/x-python",
   "name": "python",
   "nbconvert_exporter": "python",
   "pygments_lexer": "ipython3",
   "version": "3.6.8"
  }
 },
 "nbformat": 4,
 "nbformat_minor": 2
}
