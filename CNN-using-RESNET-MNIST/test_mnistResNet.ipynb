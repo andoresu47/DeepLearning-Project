{
 "cells": [
  {
   "cell_type": "code",
   "execution_count": 1,
   "metadata": {},
   "outputs": [
    {
     "name": "stderr",
     "output_type": "stream",
     "text": [
      "Using TensorFlow backend.\n"
     ]
    }
   ],
   "source": [
    "from resnet164 import ResNet164\n",
    "from utils import load_mnist\n",
    "import numpy as np\n",
    "import tensorflow as tf\n",
    "import h5py\n",
    "import matplotlib.pyplot as plt\n"
   ]
  },
  {
   "cell_type": "code",
   "execution_count": 2,
   "metadata": {},
   "outputs": [],
   "source": [
    "def evaluate(prediction, true_label):\n",
    "    pred_indices = np.argmax(prediction, 1)\n",
    "    true_indices = np.argmax(true_label, 1)\n",
    "    return np.mean(pred_indices == true_indices)"
   ]
  },
  {
   "cell_type": "code",
   "execution_count": 9,
   "metadata": {},
   "outputs": [],
   "source": [
    "def SOFTMAX(s_):\n",
    "    return np.exp(s_) / np.matmul(np.ones((1, s_.shape[0])), np.exp(s_)) "
   ]
  },
  {
   "cell_type": "code",
   "execution_count": 12,
   "metadata": {},
   "outputs": [],
   "source": [
    "def knowledge_distillation_loss(y_true, y_pred, alpha):\n",
    "\n",
    "    # Extract the one-hot encoded values and the softs separately so that we can create two objective functions\n",
    "    y_true, y_true_softs = y_true[: , :nb_classes], y_true[: , nb_classes:]\n",
    "    \n",
    "    y_pred, y_pred_softs = y_pred[: , :nb_classes], y_pred[: , nb_classes:]\n",
    "    \n",
    "    loss =(alpha*tf.keras.losses.categorical_crossentropy(y_true,y_pred) +\n",
    "           tf.keras.losses.categorical_crossentropy(y_true_softs, y_pred_softs))\n",
    "    return loss\n",
    "\n",
    "def acc(y_true, y_pred):\n",
    "    y_true = y_true[:, :nb_classes]\n",
    "    y_pred = y_pred[:, :nb_classes]\n",
    "    return tf.keras.metrics.categorical_accuracy(y_true, y_pred)"
   ]
  },
  {
   "cell_type": "code",
   "execution_count": 3,
   "metadata": {},
   "outputs": [],
   "source": [
    "#Data already normalized.\n",
    "(x_train, y_train), (x_val, y_val), (x_test, y_test) = load_mnist()\n",
    "# print(x_train.shape)\n",
    "# print(y_train.shape)\n",
    "# print(x_test.shape)\n",
    "# print(y_test.shape)"
   ]
  },
  {
   "cell_type": "code",
   "execution_count": 4,
   "metadata": {},
   "outputs": [
    {
     "name": "stdout",
     "output_type": "stream",
     "text": [
      "WARNING:tensorflow:From /Users/user/.local/lib/python3.6/site-packages/tensorflow/python/framework/op_def_library.py:263: colocate_with (from tensorflow.python.framework.ops) is deprecated and will be removed in a future version.\n",
      "Instructions for updating:\n",
      "Colocations handled automatically by placer.\n"
     ]
    }
   ],
   "source": [
    "#Create teacher model: We will use the ResNet164() model, it shows a good accuracy\n",
    "#we want it exclusively for getting the logits for building the student model.\n",
    "teacher_model = ResNet164()\n",
    "#remember Loss function during model training: loss = 'categorical_crossentropy' => logloss .\n",
    "teacher_model.compile()\n",
    "teacher_model.load_weights('ResNet164.h5')"
   ]
  },
  {
   "cell_type": "code",
   "execution_count": 5,
   "metadata": {},
   "outputs": [
    {
     "name": "stdout",
     "output_type": "stream",
     "text": [
      "50000/50000 [==============================] - 2041s 41ms/step\n",
      "10000/10000 [==============================] - 423s 42ms/step\n"
     ]
    }
   ],
   "source": [
    "# \"big model\" output_layer.\n",
    "teacher_train_logits = teacher_model.predict(x_train, verbose = 1)\n",
    "teacher_test_logits = teacher_model.predict(x_test, verbose = 1)"
   ]
  },
  {
   "cell_type": "code",
   "execution_count": 6,
   "metadata": {},
   "outputs": [],
   "source": [
    "#checking accuracy\n",
    "#the predicted class for the first image:\n",
    "#print(np.argmax(teacher_test_logits[0]))\n",
    "#the first image: >> correct classification\n",
    "#plt.imshow(x_test[0].reshape(28,28), cmap = plt.cm.binary)\n",
    "#plt.show()"
   ]
  },
  {
   "cell_type": "code",
   "execution_count": 7,
   "metadata": {},
   "outputs": [
    {
     "name": "stdout",
     "output_type": "stream",
     "text": [
      "Evaluation: 99.7 %\n"
     ]
    }
   ],
   "source": [
    "#remember the output (prediction) will be the logits not the softmax.\n",
    "#print(teacher_test_logits[0])\n",
    "accuracy = evaluate(teacher_test_logits, y_test)\n",
    "print(f'Evaluation:', accuracy * 100, '%')"
   ]
  },
  {
   "cell_type": "code",
   "execution_count": 10,
   "metadata": {},
   "outputs": [
    {
     "data": {
      "image/png": "[encoded data removed]",
      "text/plain": [
       "<Figure size 432x288 with 1 Axes>"
      ]
     },
     "metadata": {
      "needs_background": "light"
     },
     "output_type": "display_data"
    }
   ],
   "source": [
    "temperatures = [1,3,7,10,20,50]\n",
    "for temp in temperatures:\n",
    "    plt.plot((SOFTMAX(teacher_test_logits[0]/temp)), label='$T='+str(temp)+'$', linewidth=2);\n",
    "    plt.legend();\n",
    "plt.xlabel('classes ->');\n",
    "plt.ylabel('probability');\n",
    "plt.xlim([0, 9]);\n",
    "plt.show()"
   ]
  },
  {
   "cell_type": "markdown",
   "metadata": {},
   "source": [
    "## Distillation"
   ]
  },
  {
   "cell_type": "code",
   "execution_count": 11,
   "metadata": {},
   "outputs": [],
   "source": [
    "input_shape = (28, 28, 1)"
   ]
  },
  {
   "cell_type": "code",
   "execution_count": 17,
   "metadata": {},
   "outputs": [],
   "source": [
    "##Student model:\n",
    "nb_classes = y_test.shape[1]\n",
    "#Feed forward\n",
    "student_model = tf.keras.models.Sequential()\n",
    "#Define architecture of the model, add layers:\n",
    "#input layer:\n",
    "student_model.add(tf.keras.layers.Flatten(input_shape=input_shape))\n",
    "#one hidden layers (32 nodes) with reLu activation function.\n",
    "student_model.add(tf.keras.layers.Dense(32, activation=tf.nn.relu))\n",
    "# Add Dropout student.add(Dropout(0.2))\n",
    "#output layer, classification:\n",
    "student_model.add(tf.keras.layers.Dense(nb_classes))\n",
    "#student_model.add(tf.keras.layers.Activation('softmax'))\n",
    "#we could use gradient descent as optimizer\n",
    "student_model.compile(optimizer='adam', loss ='categorical_crossentropy', metrics = ['accuracy'] )\n",
    "#model.fit(X_train, y_train, epochs=3)\n",
    "#student_model.summary()\n",
    "# print('   ')\n",
    "# print('   ')\n",
    "#========================================================================================================\n",
    "\n",
    "logits = student_model.layers[-1].output\n",
    "probs = tf.keras.layers.Activation('softmax')(logits)\n",
    "\n",
    "logits_T = tf.keras.layers.Lambda(lambda x: x / temp)(logits)\n",
    "probs_T = tf.keras.layers.Activation('softmax')(logits_T)\n",
    "\n",
    "output = tf.keras.layers.concatenate([probs, probs_T])\n",
    "\n",
    "student_model = tf.keras.models.Model(student_model.input, output)\n",
    "\n",
    "student_model.compile(optimizer='adadelta',\n",
    "                      loss=lambda y_true, y_pred: knowledge_distillation_loss(y_true, y_pred, 0.1),\n",
    "                      metrics=[acc])\n",
    "# student_model.summary()"
   ]
  },
  {
   "cell_type": "code",
   "execution_count": 14,
   "metadata": {},
   "outputs": [],
   "source": [
    "Y_train_soft = SOFTMAX(teacher_train_logits/temp)\n",
    "Y_test_soft = SOFTMAX(teacher_test_logits / temp)\n",
    "\n",
    "# 10 + 10 vector = one hot representation + softmax\n",
    "y_train_new = np.concatenate([y_train, Y_train_soft], axis=1)\n",
    "y_test_new =  np.concatenate([y_test, Y_test_soft], axis =1)"
   ]
  },
  {
   "cell_type": "code",
   "execution_count": 15,
   "metadata": {},
   "outputs": [
    {
     "name": "stdout",
     "output_type": "stream",
     "text": [
      "Train on 50000 samples, validate on 10000 samples\n",
      "WARNING:tensorflow:From /Users/user/.local/lib/python3.6/site-packages/tensorflow/python/ops/math_ops.py:3066: to_int32 (from tensorflow.python.ops.math_ops) is deprecated and will be removed in a future version.\n",
      "Instructions for updating:\n",
      "Use tf.cast instead.\n",
      "Epoch 1/50\n",
      "50000/50000 [==============================] - 1s 30us/sample - loss: 0.0563 - acc: 0.8335 - val_loss: 0.0328 - val_acc: 0.9083\n",
      "Epoch 2/50\n",
      "50000/50000 [==============================] - 1s 11us/sample - loss: 0.0276 - acc: 0.9213 - val_loss: 0.0265 - val_acc: 0.9287\n",
      "Epoch 3/50\n",
      "50000/50000 [==============================] - 1s 12us/sample - loss: 0.0227 - acc: 0.9359 - val_loss: 0.0240 - val_acc: 0.9343\n",
      "Epoch 4/50\n",
      "50000/50000 [==============================] - 1s 12us/sample - loss: 0.0197 - acc: 0.9446 - val_loss: 0.0207 - val_acc: 0.9458\n",
      "Epoch 5/50\n",
      "50000/50000 [==============================] - 1s 13us/sample - loss: 0.0177 - acc: 0.9507 - val_loss: 0.0196 - val_acc: 0.9479\n",
      "Epoch 6/50\n",
      "50000/50000 [==============================] - 1s 12us/sample - loss: 0.0162 - acc: 0.9541 - val_loss: 0.0181 - val_acc: 0.9544\n",
      "Epoch 7/50\n",
      "50000/50000 [==============================] - 1s 13us/sample - loss: 0.0149 - acc: 0.9582 - val_loss: 0.0179 - val_acc: 0.9537\n",
      "Epoch 8/50\n",
      "50000/50000 [==============================] - 1s 12us/sample - loss: 0.0139 - acc: 0.9611 - val_loss: 0.0172 - val_acc: 0.9551\n",
      "Epoch 9/50\n",
      "50000/50000 [==============================] - 1s 12us/sample - loss: 0.0132 - acc: 0.9631 - val_loss: 0.0158 - val_acc: 0.9606\n",
      "Epoch 10/50\n",
      "50000/50000 [==============================] - 1s 11us/sample - loss: 0.0125 - acc: 0.9648 - val_loss: 0.0159 - val_acc: 0.9588\n",
      "Epoch 11/50\n",
      "50000/50000 [==============================] - 1s 12us/sample - loss: 0.0119 - acc: 0.9665 - val_loss: 0.0154 - val_acc: 0.9607\n",
      "Epoch 12/50\n",
      "50000/50000 [==============================] - 1s 12us/sample - loss: 0.0114 - acc: 0.9679 - val_loss: 0.0153 - val_acc: 0.9608\n",
      "Epoch 13/50\n",
      "50000/50000 [==============================] - 1s 12us/sample - loss: 0.0108 - acc: 0.9702 - val_loss: 0.0149 - val_acc: 0.9630\n",
      "Epoch 14/50\n",
      "50000/50000 [==============================] - 1s 13us/sample - loss: 0.0104 - acc: 0.9711 - val_loss: 0.0145 - val_acc: 0.9632\n",
      "Epoch 15/50\n",
      "50000/50000 [==============================] - 1s 12us/sample - loss: 0.0100 - acc: 0.9717 - val_loss: 0.0154 - val_acc: 0.9618\n",
      "Epoch 16/50\n",
      "50000/50000 [==============================] - 1s 11us/sample - loss: 0.0097 - acc: 0.9726 - val_loss: 0.0144 - val_acc: 0.9647\n",
      "Epoch 17/50\n",
      "50000/50000 [==============================] - 1s 11us/sample - loss: 0.0093 - acc: 0.9743 - val_loss: 0.0154 - val_acc: 0.9609\n",
      "Epoch 18/50\n",
      "50000/50000 [==============================] - 1s 11us/sample - loss: 0.0090 - acc: 0.9752 - val_loss: 0.0140 - val_acc: 0.9650\n",
      "Epoch 19/50\n",
      "50000/50000 [==============================] - 1s 12us/sample - loss: 0.0087 - acc: 0.9760 - val_loss: 0.0143 - val_acc: 0.9646\n",
      "Epoch 20/50\n",
      "50000/50000 [==============================] - 1s 13us/sample - loss: 0.0085 - acc: 0.9768 - val_loss: 0.0138 - val_acc: 0.9653\n",
      "Epoch 21/50\n",
      "50000/50000 [==============================] - 1s 12us/sample - loss: 0.0082 - acc: 0.9777 - val_loss: 0.0142 - val_acc: 0.9637\n",
      "Epoch 22/50\n",
      "50000/50000 [==============================] - 1s 13us/sample - loss: 0.0080 - acc: 0.9781 - val_loss: 0.0133 - val_acc: 0.9688\n",
      "Epoch 23/50\n",
      "50000/50000 [==============================] - 1s 16us/sample - loss: 0.0078 - acc: 0.9785 - val_loss: 0.0136 - val_acc: 0.9665\n",
      "Epoch 24/50\n",
      "50000/50000 [==============================] - 1s 12us/sample - loss: 0.0076 - acc: 0.9793 - val_loss: 0.0146 - val_acc: 0.9611\n",
      "Epoch 25/50\n",
      "50000/50000 [==============================] - 1s 13us/sample - loss: 0.0074 - acc: 0.9797 - val_loss: 0.0132 - val_acc: 0.9684\n",
      "Epoch 26/50\n",
      "50000/50000 [==============================] - 1s 13us/sample - loss: 0.0072 - acc: 0.9800 - val_loss: 0.0133 - val_acc: 0.9672\n",
      "Epoch 27/50\n",
      "50000/50000 [==============================] - 1s 14us/sample - loss: 0.0070 - acc: 0.9815 - val_loss: 0.0147 - val_acc: 0.9644\n",
      "Epoch 28/50\n",
      "50000/50000 [==============================] - 1s 13us/sample - loss: 0.0069 - acc: 0.9818 - val_loss: 0.0134 - val_acc: 0.9666\n",
      "Epoch 29/50\n",
      "50000/50000 [==============================] - 1s 13us/sample - loss: 0.0067 - acc: 0.9824 - val_loss: 0.0132 - val_acc: 0.9673\n",
      "Epoch 30/50\n",
      "50000/50000 [==============================] - 1s 15us/sample - loss: 0.0065 - acc: 0.9831 - val_loss: 0.0138 - val_acc: 0.9667\n",
      "Epoch 31/50\n",
      "50000/50000 [==============================] - 1s 12us/sample - loss: 0.0064 - acc: 0.9837 - val_loss: 0.0133 - val_acc: 0.9695\n",
      "Epoch 32/50\n",
      "50000/50000 [==============================] - 1s 13us/sample - loss: 0.0062 - acc: 0.9835 - val_loss: 0.0134 - val_acc: 0.9683\n",
      "Epoch 33/50\n",
      "50000/50000 [==============================] - 1s 12us/sample - loss: 0.0061 - acc: 0.9835 - val_loss: 0.0134 - val_acc: 0.9683\n",
      "Epoch 34/50\n",
      "50000/50000 [==============================] - 1s 13us/sample - loss: 0.0059 - acc: 0.9849 - val_loss: 0.0129 - val_acc: 0.9692\n",
      "Epoch 35/50\n",
      "50000/50000 [==============================] - 1s 16us/sample - loss: 0.0059 - acc: 0.9850 - val_loss: 0.0135 - val_acc: 0.9669\n",
      "Epoch 36/50\n",
      "50000/50000 [==============================] - 1s 13us/sample - loss: 0.0057 - acc: 0.9853 - val_loss: 0.0131 - val_acc: 0.9689\n",
      "Epoch 37/50\n",
      "50000/50000 [==============================] - 1s 15us/sample - loss: 0.0056 - acc: 0.9858 - val_loss: 0.0133 - val_acc: 0.9685\n",
      "Epoch 38/50\n",
      "50000/50000 [==============================] - 1s 13us/sample - loss: 0.0055 - acc: 0.9862 - val_loss: 0.0131 - val_acc: 0.9695\n",
      "Epoch 39/50\n",
      "50000/50000 [==============================] - 1s 12us/sample - loss: 0.0054 - acc: 0.9867 - val_loss: 0.0132 - val_acc: 0.9683\n",
      "Epoch 40/50\n",
      "50000/50000 [==============================] - 1s 15us/sample - loss: 0.0053 - acc: 0.9870 - val_loss: 0.0130 - val_acc: 0.9696\n",
      "Epoch 41/50\n",
      "50000/50000 [==============================] - 1s 16us/sample - loss: 0.0052 - acc: 0.9870 - val_loss: 0.0134 - val_acc: 0.9668\n",
      "Epoch 42/50\n",
      "50000/50000 [==============================] - 1s 16us/sample - loss: 0.0051 - acc: 0.9871 - val_loss: 0.0132 - val_acc: 0.9688\n",
      "Epoch 43/50\n",
      "50000/50000 [==============================] - 1s 18us/sample - loss: 0.0049 - acc: 0.9883 - val_loss: 0.0134 - val_acc: 0.9674\n",
      "Epoch 44/50\n",
      "50000/50000 [==============================] - 1s 12us/sample - loss: 0.0049 - acc: 0.9880 - val_loss: 0.0133 - val_acc: 0.9678\n",
      "Epoch 45/50\n",
      "50000/50000 [==============================] - 1s 14us/sample - loss: 0.0048 - acc: 0.9887 - val_loss: 0.0141 - val_acc: 0.9649\n",
      "Epoch 46/50\n",
      "50000/50000 [==============================] - 1s 13us/sample - loss: 0.0047 - acc: 0.9888 - val_loss: 0.0140 - val_acc: 0.9677\n",
      "Epoch 47/50\n",
      "50000/50000 [==============================] - 1s 13us/sample - loss: 0.0046 - acc: 0.9888 - val_loss: 0.0136 - val_acc: 0.9682\n",
      "Epoch 48/50\n",
      "50000/50000 [==============================] - 1s 14us/sample - loss: 0.0045 - acc: 0.9895 - val_loss: 0.0145 - val_acc: 0.9646\n",
      "Epoch 49/50\n",
      "50000/50000 [==============================] - 1s 14us/sample - loss: 0.0045 - acc: 0.9893 - val_loss: 0.0137 - val_acc: 0.9669\n",
      "Epoch 50/50\n",
      "50000/50000 [==============================] - 1s 15us/sample - loss: 0.0044 - acc: 0.9896 - val_loss: 0.0139 - val_acc: 0.9675\n"
     ]
    },
    {
     "data": {
      "text/plain": [
       "<tensorflow.python.keras.callbacks.History at 0x1417c6780>"
      ]
     },
     "execution_count": 15,
     "metadata": {},
     "output_type": "execute_result"
    }
   ],
   "source": [
    "#continued training.\n",
    "student_model.fit(x_train, y_train_new,\n",
    "              batch_size=256,\n",
    "              epochs=50,\n",
    "              verbose=1,\n",
    "              validation_data= (x_test, y_test_new))"
   ]
  }
 ],
 "metadata": {
  "kernelspec": {
   "display_name": "Python 3",
   "language": "python",
   "name": "python3"
  },
  "language_info": {
   "codemirror_mode": {
    "name": "ipython",
    "version": 3
   },
   "file_extension": ".py",
   "mimetype": "text/x-python",
   "name": "python",
   "nbconvert_exporter": "python",
   "pygments_lexer": "ipython3",
   "version": "3.6.8"
  }
 },
 "nbformat": 4,
 "nbformat_minor": 2
}
