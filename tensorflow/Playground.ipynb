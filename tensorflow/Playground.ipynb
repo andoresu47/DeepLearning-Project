{
 "cells": [
  {
   "cell_type": "code",
   "execution_count": 1,
   "metadata": {},
   "outputs": [],
   "source": [
    "import model\n",
    "import data\n",
    "import tensorflow as tf\n",
    "import numpy as np\n",
    "import random"
   ]
  },
  {
   "cell_type": "markdown",
   "metadata": {},
   "source": [
    "To avoid verbose warning messages... "
   ]
  },
  {
   "cell_type": "code",
   "execution_count": 2,
   "metadata": {},
   "outputs": [],
   "source": [
    "old_v = tf.logging.get_verbosity()\n",
    "tf.logging.set_verbosity(tf.logging.ERROR)"
   ]
  },
  {
   "cell_type": "markdown",
   "metadata": {},
   "source": [
    "Load MNIST dataset via a Dataset object:"
   ]
  },
  {
   "cell_type": "code",
   "execution_count": 3,
   "metadata": {
    "scrolled": true
   },
   "outputs": [
    {
     "name": "stdout",
     "output_type": "stream",
     "text": [
      "Extracting ./train-images-idx3-ubyte.gz\n",
      "Extracting ./train-labels-idx1-ubyte.gz\n",
      "Extracting ./t10k-images-idx3-ubyte.gz\n",
      "Extracting ./t10k-labels-idx1-ubyte.gz\n",
      "55000\n"
     ]
    }
   ],
   "source": [
    "dataset = data.Dataset(batch_size=128)"
   ]
  },
  {
   "cell_type": "markdown",
   "metadata": {},
   "source": [
    "## Main Model Training"
   ]
  },
  {
   "cell_type": "markdown",
   "metadata": {},
   "source": [
    "- ### Teacher Model"
   ]
  },
  {
   "cell_type": "markdown",
   "metadata": {},
   "source": [
    "Training parameters:"
   ]
  },
  {
   "cell_type": "code",
   "execution_count": 5,
   "metadata": {},
   "outputs": [],
   "source": [
    "learning_rate=0.001\n",
    "num_steps = 500\n",
    "batch_size = 128"
   ]
  },
  {
   "cell_type": "markdown",
   "metadata": {},
   "source": [
    "Model parameters:"
   ]
  },
  {
   "cell_type": "code",
   "execution_count": 6,
   "metadata": {},
   "outputs": [],
   "source": [
    "temperature = 1.0\n",
    "dropout = 0.75"
   ]
  },
  {
   "cell_type": "markdown",
   "metadata": {},
   "source": [
    "Extra:"
   ]
  },
  {
   "cell_type": "code",
   "execution_count": 7,
   "metadata": {},
   "outputs": [],
   "source": [
    "checkpoint_dir=\"teachercpt\""
   ]
  },
  {
   "cell_type": "markdown",
   "metadata": {},
   "source": [
    "Model definition:"
   ]
  },
  {
   "cell_type": "code",
   "execution_count": 8,
   "metadata": {
    "scrolled": true
   },
   "outputs": [],
   "source": [
    "teacher_model = model.BigModel(num_steps=num_steps, \n",
    "                               batch_size=batch_size,\n",
    "                               learning_rate=learning_rate,\n",
    "                               temperature=temperature,\n",
    "                               dropoutprob=dropout,\n",
    "                               checkpoint_dir=checkpoint_dir,\n",
    "                               model_type=\"teacher\");"
   ]
  },
  {
   "cell_type": "markdown",
   "metadata": {},
   "source": [
    "Training:\n",
    "\n",
    "At each step, the validation accuracy is computed and, if maximal, a model checkpoint is created. This is, in a way, analogous to **early stopping**."
   ]
  },
  {
   "cell_type": "code",
   "execution_count": 9,
   "metadata": {
    "scrolled": true
   },
   "outputs": [
    {
     "name": "stdout",
     "output_type": "stream",
     "text": [
      "Starting Training\n",
      "Model Checkpointed to teachercpt\\bigmodel.ckpt \n",
      "Step 1, Validation Loss= 52087.5781, Validation Accuracy= 0.095\n",
      "Model Checkpointed to teachercpt\\bigmodel.ckpt \n",
      "Step 100, Validation Loss= 2258.8335, Validation Accuracy= 0.886\n",
      "Model Checkpointed to teachercpt\\bigmodel.ckpt \n",
      "Step 200, Validation Loss= 1271.8615, Validation Accuracy= 0.928\n",
      "Model Checkpointed to teachercpt\\bigmodel.ckpt \n",
      "Step 300, Validation Loss= 917.8629, Validation Accuracy= 0.939\n",
      "Model Checkpointed to teachercpt\\bigmodel.ckpt \n",
      "Step 400, Validation Loss= 763.1020, Validation Accuracy= 0.947\n",
      "Model Checkpointed to teachercpt\\bigmodel.ckpt \n",
      "Step 500, Validation Loss= 618.6000, Validation Accuracy= 0.950\n",
      "Model Checkpointed to teachercpt\\bigmodel.ckpt \n",
      "Optimization Finished!\n"
     ]
    }
   ],
   "source": [
    "teacher_model.start_session()\n",
    "teacher_model.train(dataset)"
   ]
  },
  {
   "cell_type": "markdown",
   "metadata": {},
   "source": [
    "Test the **teacher model** (compute its accuracy againts the testing dataset) on the best model based on the validation set, this is, the *checkpointed model*. "
   ]
  },
  {
   "cell_type": "code",
   "execution_count": 10,
   "metadata": {
    "scrolled": true
   },
   "outputs": [
    {
     "name": "stdout",
     "output_type": "stream",
     "text": [
      "Reading model parameters from teachercpt\\bigmodel.ckpt\n",
      "Testing Accuracy: 0.948645\n"
     ]
    }
   ],
   "source": [
    "# Load the best model from created checkpoint\n",
    "teacher_model.load_model_from_file(checkpoint_dir)\n",
    "# Test the model against the testing set\n",
    "teacher_model.run_inference(dataset)"
   ]
  },
  {
   "cell_type": "code",
   "execution_count": 11,
   "metadata": {},
   "outputs": [],
   "source": [
    "# Close current tf session\n",
    "teacher_model.close_session()"
   ]
  },
  {
   "cell_type": "markdown",
   "metadata": {},
   "source": [
    "- ### Simple Student Model\n",
    "Simple, as in, trained with the same data and parameters as the teacher model. "
   ]
  },
  {
   "cell_type": "markdown",
   "metadata": {},
   "source": [
    "Extra:"
   ]
  },
  {
   "cell_type": "code",
   "execution_count": 12,
   "metadata": {},
   "outputs": [],
   "source": [
    "checkpoint_dir=\"studentcpt\""
   ]
  },
  {
   "cell_type": "markdown",
   "metadata": {},
   "source": [
    "Model definition:"
   ]
  },
  {
   "cell_type": "code",
   "execution_count": 13,
   "metadata": {
    "scrolled": true
   },
   "outputs": [],
   "source": [
    "student_model = model.SmallModel(num_steps=num_steps, \n",
    "                                 batch_size=batch_size,\n",
    "                                 learning_rate=learning_rate,\n",
    "                                 temperature=temperature,\n",
    "                                 dropoutprob=dropout,\n",
    "                                 model_type=\"student\");"
   ]
  },
  {
   "cell_type": "markdown",
   "metadata": {},
   "source": [
    "Training:\n",
    "\n",
    "At each step, the validation accuracy is computed and, if maximal, a model checkpoint is created. This is, in a way, analogous to **early stopping**."
   ]
  },
  {
   "cell_type": "code",
   "execution_count": 14,
   "metadata": {},
   "outputs": [
    {
     "name": "stdout",
     "output_type": "stream",
     "text": [
      "Starting Training\n",
      "Model Checkpointed to checkpoint\\smallmodel \n",
      "Step 1, Validation Loss= 13.8730, Validation Accuracy= 0.080\n",
      "Model Checkpointed to checkpoint\\smallmodel \n",
      "Step 100, Validation Loss= 8.1598, Validation Accuracy= 0.158\n",
      "Model Checkpointed to checkpoint\\smallmodel \n",
      "Step 200, Validation Loss= 5.4582, Validation Accuracy= 0.272\n",
      "Model Checkpointed to checkpoint\\smallmodel \n",
      "Step 300, Validation Loss= 3.9543, Validation Accuracy= 0.400\n",
      "Model Checkpointed to checkpoint\\smallmodel \n",
      "Step 400, Validation Loss= 3.1070, Validation Accuracy= 0.496\n",
      "Model Checkpointed to checkpoint\\smallmodel \n",
      "Step 500, Validation Loss= 2.5562, Validation Accuracy= 0.560\n",
      "Model Checkpointed to checkpoint\\smallmodel \n",
      "Step 500, Validation Loss= 2.5562, Validation Accuracy= 0.560\n",
      "Optimization Finished!\n"
     ]
    }
   ],
   "source": [
    "student_model.start_session()\n",
    "student_model.train(dataset)"
   ]
  },
  {
   "cell_type": "markdown",
   "metadata": {},
   "source": [
    "Test the **student model** (compute its accuracy againts the testing dataset) on the best model based on the validation set, this is, the *checkpointed model*. "
   ]
  },
  {
   "cell_type": "code",
   "execution_count": 15,
   "metadata": {
    "scrolled": true
   },
   "outputs": [
    {
     "name": "stdout",
     "output_type": "stream",
     "text": [
      "Reading model parameters from studentcpt\\smallmodel\n",
      "Testing Accuracy: 0.636691\n"
     ]
    }
   ],
   "source": [
    "# Load the best model from created checkpoint\n",
    "student_model.load_model_from_file(checkpoint_dir)\n",
    "# Test the model against the testing set\n",
    "student_model.run_inference(dataset)"
   ]
  },
  {
   "cell_type": "code",
   "execution_count": 16,
   "metadata": {},
   "outputs": [],
   "source": [
    "# Close current tf session\n",
    "student_model.close_session()"
   ]
  },
  {
   "cell_type": "markdown",
   "metadata": {},
   "source": [
    "- ### Distilled Student Model\n",
    "Training data consists of the **logits** from the Teacher Model predictions of the standard training set."
   ]
  },
  {
   "cell_type": "markdown",
   "metadata": {},
   "source": [
    "Pretrained **teacher model** loading:"
   ]
  },
  {
   "cell_type": "code",
   "execution_count": 7,
   "metadata": {},
   "outputs": [],
   "source": [
    "# Model definition\n",
    "teacher_model = model.BigModel(num_steps=num_steps, \n",
    "                               batch_size=batch_size,\n",
    "                               learning_rate=learning_rate,\n",
    "                               temperature=temperature,\n",
    "                               dropoutprob=dropout,\n",
    "                               checkpoint_dir=\"teachercpt\",\n",
    "                               model_type=\"teacher\");\n",
    "# Start tf session\n",
    "teacher_model.start_session()"
   ]
  },
  {
   "cell_type": "code",
   "execution_count": 7,
   "metadata": {},
   "outputs": [
    {
     "name": "stdout",
     "output_type": "stream",
     "text": [
      "Reading model parameters from teachercpt\\bigmodel.ckpt\n"
     ]
    }
   ],
   "source": [
    "# Load best model from teacher checkpoint\n",
    "checkpoint_dir = \"teachercpt\"\n",
    "teacher_model.load_model_from_file(checkpoint_dir)"
   ]
  },
  {
   "cell_type": "markdown",
   "metadata": {},
   "source": [
    "Verify **teacher** model state before training **student**:"
   ]
  },
  {
   "cell_type": "code",
   "execution_count": 8,
   "metadata": {},
   "outputs": [
    {
     "name": "stdout",
     "output_type": "stream",
     "text": [
      "Testing Accuracy: 0.948791\n"
     ]
    }
   ],
   "source": [
    "# Test the model against the testing set\n",
    "teacher_model.run_inference(dataset)"
   ]
  },
  {
   "cell_type": "markdown",
   "metadata": {},
   "source": [
    "Student model definition:"
   ]
  },
  {
   "cell_type": "code",
   "execution_count": 9,
   "metadata": {
    "scrolled": true
   },
   "outputs": [],
   "source": [
    "student_model = model.SmallModel(num_steps=num_steps, \n",
    "                                 batch_size=batch_size,\n",
    "                                 learning_rate=learning_rate,\n",
    "                                 temperature=temperature,\n",
    "                                 dropoutprob=dropout,\n",
    "                                 model_type=\"student\");"
   ]
  },
  {
   "cell_type": "markdown",
   "metadata": {},
   "source": [
    "Training:\n",
    "\n",
    "At each step, the validation accuracy is computed and, if maximal, a model checkpoint is created. This is, in a way, analogous to **early stopping**."
   ]
  },
  {
   "cell_type": "code",
   "execution_count": 10,
   "metadata": {},
   "outputs": [
    {
     "name": "stdout",
     "output_type": "stream",
     "text": [
      "Starting Training\n",
      "Model Checkpointed to checkpoint\\smallmodel \n",
      "Step 1, Validation Loss= 13.8398, Validation Accuracy= 0.090\n",
      "Model Checkpointed to checkpoint\\smallmodel \n",
      "Step 100, Validation Loss= 7.8430, Validation Accuracy= 0.188\n",
      "Model Checkpointed to checkpoint\\smallmodel \n",
      "Step 200, Validation Loss= 5.3653, Validation Accuracy= 0.300\n",
      "Model Checkpointed to checkpoint\\smallmodel \n",
      "Step 300, Validation Loss= 3.8572, Validation Accuracy= 0.417\n",
      "Model Checkpointed to checkpoint\\smallmodel \n",
      "Step 400, Validation Loss= 2.9456, Validation Accuracy= 0.500\n",
      "Model Checkpointed to checkpoint\\smallmodel \n",
      "Step 500, Validation Loss= 2.3688, Validation Accuracy= 0.570\n",
      "Model Checkpointed to checkpoint\\smallmodel \n",
      "Step 500, Validation Loss= 2.3688, Validation Accuracy= 0.570\n",
      "Optimization Finished!\n"
     ]
    }
   ],
   "source": [
    "student_model.start_session()\n",
    "student_model.train(dataset, teacher_model)"
   ]
  },
  {
   "cell_type": "markdown",
   "metadata": {},
   "source": [
    "Test the **distilled student model** (compute its accuracy againts the testing dataset) on the best model based on the validation set, this is, the *checkpointed model*. "
   ]
  },
  {
   "cell_type": "code",
   "execution_count": 11,
   "metadata": {
    "scrolled": true
   },
   "outputs": [
    {
     "name": "stdout",
     "output_type": "stream",
     "text": [
      "Reading model parameters from studentcpt\\smallmodel\n",
      "Testing Accuracy: 0.636673\n"
     ]
    }
   ],
   "source": [
    "checkpoint_dir = \"studentcpt\"\n",
    "# Load the best model from created checkpoint\n",
    "student_model.load_model_from_file(checkpoint_dir)\n",
    "# Test the model against the testing set\n",
    "student_model.run_inference(dataset)"
   ]
  },
  {
   "cell_type": "code",
   "execution_count": 12,
   "metadata": {},
   "outputs": [],
   "source": [
    "# Close current tf sessions\n",
    "teacher_model.close_session()\n",
    "student_model.close_session()"
   ]
  },
  {
   "cell_type": "markdown",
   "metadata": {},
   "source": [
    "## Experiments"
   ]
  },
  {
   "cell_type": "markdown",
   "metadata": {},
   "source": [
    "- ### 1. Learn from Probabilities\n",
    "Take a class out from the training set for the Distilled Model, and later test the accuracy for that class. "
   ]
  },
  {
   "cell_type": "code",
   "execution_count": null,
   "metadata": {},
   "outputs": [],
   "source": []
  }
 ],
 "metadata": {
  "kernelspec": {
   "display_name": "TensorFlow-GPU",
   "language": "python",
   "name": "tensorflow-gpu"
  },
  "language_info": {
   "codemirror_mode": {
    "name": "ipython",
    "version": 3
   },
   "file_extension": ".py",
   "mimetype": "text/x-python",
   "name": "python",
   "nbconvert_exporter": "python",
   "pygments_lexer": "ipython3",
   "version": "3.6.8"
  }
 },
 "nbformat": 4,
 "nbformat_minor": 2
}
