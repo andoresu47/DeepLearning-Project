{
 "cells": [
  {
   "cell_type": "code",
   "execution_count": 1,
   "metadata": {},
   "outputs": [],
   "source": [
    "import model\n",
    "import data\n",
    "import tensorflow as tf\n",
    "import numpy as np\n",
    "import random"
   ]
  },
  {
   "cell_type": "markdown",
   "metadata": {},
   "source": [
    "To avoid verbose warning messages... "
   ]
  },
  {
   "cell_type": "code",
   "execution_count": 2,
   "metadata": {},
   "outputs": [],
   "source": [
    "old_v = tf.logging.get_verbosity()\n",
    "tf.logging.set_verbosity(tf.logging.ERROR)"
   ]
  },
  {
   "cell_type": "markdown",
   "metadata": {},
   "source": [
    "Load MNIST dataset via a Dataset object:"
   ]
  },
  {
   "cell_type": "code",
   "execution_count": 3,
   "metadata": {
    "scrolled": true
   },
   "outputs": [
    {
     "name": "stdout",
     "output_type": "stream",
     "text": [
      "Extracting ./train-images-idx3-ubyte.gz\n",
      "Extracting ./train-labels-idx1-ubyte.gz\n",
      "Extracting ./t10k-images-idx3-ubyte.gz\n",
      "Extracting ./t10k-labels-idx1-ubyte.gz\n",
      "55000\n"
     ]
    }
   ],
   "source": [
    "dataset = data.Dataset(batch_size=128)"
   ]
  },
  {
   "cell_type": "markdown",
   "metadata": {},
   "source": [
    "## Main Model Training"
   ]
  },
  {
   "cell_type": "markdown",
   "metadata": {},
   "source": [
    "- ### Teacher Model"
   ]
  },
  {
   "cell_type": "markdown",
   "metadata": {},
   "source": [
    "Training parameters:"
   ]
  },
  {
   "cell_type": "code",
   "execution_count": 4,
   "metadata": {},
   "outputs": [],
   "source": [
    "learning_rate=0.001\n",
    "num_steps = 500\n",
    "batch_size = 128"
   ]
  },
  {
   "cell_type": "markdown",
   "metadata": {},
   "source": [
    "Model parameters:"
   ]
  },
  {
   "cell_type": "code",
   "execution_count": 5,
   "metadata": {},
   "outputs": [],
   "source": [
    "temperature = 1.0\n",
    "dropout = 0.75"
   ]
  },
  {
   "cell_type": "markdown",
   "metadata": {},
   "source": [
    "Model definition:"
   ]
  },
  {
   "cell_type": "code",
   "execution_count": 6,
   "metadata": {
    "scrolled": true
   },
   "outputs": [],
   "source": [
    "teacher_model = model.BigModel(num_steps=num_steps, \n",
    "                               batch_size=batch_size,\n",
    "                               learning_rate=learning_rate,\n",
    "                               temperature=temperature,\n",
    "                               dropoutprob=dropout,\n",
    "                               model_type=\"teacher\");"
   ]
  },
  {
   "cell_type": "markdown",
   "metadata": {},
   "source": [
    "Training:\n",
    "\n",
    "At each step, the validation accuracy is computed and, if maximal, a model checkpoint is created. This is, in a way, analogous to **early stopping**."
   ]
  },
  {
   "cell_type": "code",
   "execution_count": 7,
   "metadata": {
    "scrolled": true
   },
   "outputs": [
    {
     "name": "stdout",
     "output_type": "stream",
     "text": [
      "Starting Training\n",
      "Model Checkpointed to checkpoint\\bigmodel.ckpt \n",
      "Step 1, Validation Loss= 137457.2031, Validation Accuracy= 0.106\n",
      "Model Checkpointed to checkpoint\\bigmodel.ckpt \n",
      "Step 100, Validation Loss= 2454.9197, Validation Accuracy= 0.861\n",
      "Model Checkpointed to checkpoint\\bigmodel.ckpt \n",
      "Step 200, Validation Loss= 1520.0682, Validation Accuracy= 0.908\n",
      "Model Checkpointed to checkpoint\\bigmodel.ckpt \n",
      "Step 300, Validation Loss= 1123.4905, Validation Accuracy= 0.930\n",
      "Model Checkpointed to checkpoint\\bigmodel.ckpt \n",
      "Step 400, Validation Loss= 854.3755, Validation Accuracy= 0.940\n",
      "Model Checkpointed to checkpoint\\bigmodel.ckpt \n",
      "Step 500, Validation Loss= 671.8576, Validation Accuracy= 0.950\n",
      "Model Checkpointed to checkpoint\\bigmodel.ckpt \n",
      "Optimization Finished!\n"
     ]
    }
   ],
   "source": [
    "teacher_model.start_session()\n",
    "teacher_model.train(dataset)"
   ]
  },
  {
   "cell_type": "markdown",
   "metadata": {},
   "source": [
    "Test the **teacher model** (compute its accuracy againts the testing dataset) on the best model based on the validation set, this is, the *checkpointed model*. "
   ]
  },
  {
   "cell_type": "code",
   "execution_count": 10,
   "metadata": {
    "scrolled": true
   },
   "outputs": [
    {
     "name": "stdout",
     "output_type": "stream",
     "text": [
      "Reading model parameters from checkpoint\\bigmodel.ckpt\n",
      "Testing Accuracy: 0.949137\n"
     ]
    }
   ],
   "source": [
    "checkpoint_dir = \"checkpoint\"\n",
    "# Load the best model from created checkpoint\n",
    "teacher_model.load_model_from_file(checkpoint_dir)\n",
    "# Test the model against the testing set\n",
    "teacher_model.run_inference(dataset)"
   ]
  },
  {
   "cell_type": "code",
   "execution_count": 11,
   "metadata": {},
   "outputs": [],
   "source": [
    "# Close current tf session\n",
    "teacher_model.close_session()"
   ]
  },
  {
   "cell_type": "markdown",
   "metadata": {},
   "source": [
    "- ### Simple Student Model\n",
    "Simple, as in, trained with the same data as the teacher model. "
   ]
  },
  {
   "cell_type": "code",
   "execution_count": null,
   "metadata": {},
   "outputs": [],
   "source": []
  },
  {
   "cell_type": "markdown",
   "metadata": {},
   "source": [
    "- ### Distilled Student Model\n",
    "Training data consists of the **logits** from the Teacher Model predictions of the standard training set."
   ]
  },
  {
   "cell_type": "code",
   "execution_count": null,
   "metadata": {},
   "outputs": [],
   "source": []
  },
  {
   "cell_type": "markdown",
   "metadata": {},
   "source": [
    "## Experiments"
   ]
  },
  {
   "cell_type": "markdown",
   "metadata": {},
   "source": [
    "- ### 1. Learn from Probabilities\n",
    "Take a class out from the training set for the Distilled Model, and later test the accuracy for that class. "
   ]
  },
  {
   "cell_type": "code",
   "execution_count": null,
   "metadata": {},
   "outputs": [],
   "source": []
  }
 ],
 "metadata": {
  "kernelspec": {
   "display_name": "TensorFlow-GPU",
   "language": "python",
   "name": "tensorflow-gpu"
  },
  "language_info": {
   "codemirror_mode": {
    "name": "ipython",
    "version": 3
   },
   "file_extension": ".py",
   "mimetype": "text/x-python",
   "name": "python",
   "nbconvert_exporter": "python",
   "pygments_lexer": "ipython3",
   "version": "3.6.8"
  }
 },
 "nbformat": 4,
 "nbformat_minor": 2
}
