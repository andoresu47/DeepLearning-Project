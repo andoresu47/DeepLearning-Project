{
 "cells": [
  {
   "cell_type": "code",
   "execution_count": 1,
   "metadata": {},
   "outputs": [],
   "source": [
    "import model\n",
    "import data\n",
    "import tensorflow as tf\n",
    "import numpy as np\n",
    "import random\n",
    "import matplotlib.pyplot as plt"
   ]
  },
  {
   "cell_type": "markdown",
   "metadata": {},
   "source": [
    "To avoid verbose warning messages... "
   ]
  },
  {
   "cell_type": "code",
   "execution_count": 2,
   "metadata": {},
   "outputs": [],
   "source": [
    "old_v = tf.logging.get_verbosity()\n",
    "tf.logging.set_verbosity(tf.logging.ERROR)"
   ]
  },
  {
   "cell_type": "markdown",
   "metadata": {},
   "source": [
    "Load MNIST dataset via a Dataset object:"
   ]
  },
  {
   "cell_type": "code",
   "execution_count": 3,
   "metadata": {
    "scrolled": false
   },
   "outputs": [
    {
     "name": "stdout",
     "output_type": "stream",
     "text": [
      "Extracting ./train-images-idx3-ubyte.gz\n",
      "Extracting ./train-labels-idx1-ubyte.gz\n",
      "Extracting ./t10k-images-idx3-ubyte.gz\n",
      "Extracting ./t10k-labels-idx1-ubyte.gz\n",
      "55000\n"
     ]
    }
   ],
   "source": [
    "dataset = data.Dataset(batch_size=128)"
   ]
  },
  {
   "cell_type": "markdown",
   "metadata": {},
   "source": [
    "Training parameters:"
   ]
  },
  {
   "cell_type": "code",
   "execution_count": 4,
   "metadata": {},
   "outputs": [],
   "source": [
    "learning_rate=0.001\n",
    "num_steps = 5000\n",
    "batch_size = 128"
   ]
  },
  {
   "cell_type": "markdown",
   "metadata": {},
   "source": [
    "Model parameters:"
   ]
  },
  {
   "cell_type": "code",
   "execution_count": 5,
   "metadata": {},
   "outputs": [],
   "source": [
    "temperature = 5000\n",
    "dropout = 0.75"
   ]
  },
  {
   "cell_type": "markdown",
   "metadata": {},
   "source": [
    "## Main Model Training"
   ]
  },
  {
   "cell_type": "markdown",
   "metadata": {},
   "source": [
    "- ### Teacher Model"
   ]
  },
  {
   "cell_type": "markdown",
   "metadata": {},
   "source": [
    "Output directory for model checkpoint:"
   ]
  },
  {
   "cell_type": "code",
   "execution_count": 8,
   "metadata": {},
   "outputs": [],
   "source": [
    "checkpoint_dir=\"teachercpt_t3.5_test\"\n",
    "log_dir=checkpoint_dir + \"\\logs\""
   ]
  },
  {
   "cell_type": "markdown",
   "metadata": {},
   "source": [
    "Model definition:"
   ]
  },
  {
   "cell_type": "code",
   "execution_count": 9,
   "metadata": {
    "scrolled": true
   },
   "outputs": [],
   "source": [
    "teacher_model = model.BigModel(num_steps=num_steps, \n",
    "                               batch_size=batch_size,\n",
    "                               learning_rate=learning_rate,\n",
    "                               temperature=temperature,\n",
    "                               dropoutprob=dropout,\n",
    "                               checkpoint_dir=checkpoint_dir,\n",
    "                               log_dir=log_dir,\n",
    "                               model_type=\"teacher\");"
   ]
  },
  {
   "cell_type": "markdown",
   "metadata": {},
   "source": [
    "Training:\n",
    "\n",
    "At each step, the validation accuracy is computed and, if maximal, a model checkpoint is created. This is, in a way, analogous to **early stopping**."
   ]
  },
  {
   "cell_type": "code",
   "execution_count": 10,
   "metadata": {
    "scrolled": true
   },
   "outputs": [
    {
     "name": "stdout",
     "output_type": "stream",
     "text": [
      "Starting Training\n",
      "Model Checkpointed to teachercpt_t3.5_test\\bigmodel.ckpt \n",
      "Step 1, Validation Loss= 76247.1328, Validation Accuracy= 0.060\n",
      "Model Checkpointed to teachercpt_t3.5_test\\bigmodel.ckpt \n",
      "Step 100, Validation Loss= 2212.1770, Validation Accuracy= 0.874\n",
      "Model Checkpointed to teachercpt_t3.5_test\\bigmodel.ckpt \n",
      "Optimization Finished!\n"
     ]
    }
   ],
   "source": [
    "teacher_model.start_session()\n",
    "teacher_model.train(dataset)"
   ]
  },
  {
   "cell_type": "markdown",
   "metadata": {},
   "source": [
    "Test the **teacher model** (compute its accuracy againts the testing dataset) on the best model based on the validation set, this is, the *checkpointed model*. "
   ]
  },
  {
   "cell_type": "code",
   "execution_count": 11,
   "metadata": {
    "scrolled": true
   },
   "outputs": [
    {
     "name": "stdout",
     "output_type": "stream",
     "text": [
      "Reading model parameters from teachercpt_t3.5_test\\bigmodel.ckpt\n",
      "Testing Accuracy: 0.876821\n"
     ]
    }
   ],
   "source": [
    "# Load the best model from created checkpoint\n",
    "teacher_model.load_model_from_file(checkpoint_dir)\n",
    "# Test the model against the testing set\n",
    "teacher_model.run_inference(dataset)"
   ]
  },
  {
   "cell_type": "code",
   "execution_count": 12,
   "metadata": {},
   "outputs": [],
   "source": [
    "# Close current tf session\n",
    "teacher_model.close_session()"
   ]
  },
  {
   "cell_type": "markdown",
   "metadata": {},
   "source": [
    "- ### Simple Student Model\n",
    "Simple, as in, trained with the same data and parameters as the teacher model. "
   ]
  },
  {
   "cell_type": "markdown",
   "metadata": {},
   "source": [
    "Output directory for model checkpoint:"
   ]
  },
  {
   "cell_type": "code",
   "execution_count": 6,
   "metadata": {},
   "outputs": [],
   "source": [
    "checkpoint_dir=\"sstudentcpt_t1\"\n",
    "log_dir=checkpoint_dir + \"\\logs\""
   ]
  },
  {
   "cell_type": "markdown",
   "metadata": {},
   "source": [
    "Model definition:"
   ]
  },
  {
   "cell_type": "code",
   "execution_count": 7,
   "metadata": {
    "scrolled": true
   },
   "outputs": [],
   "source": [
    "student_model = model.SmallModel(num_steps=num_steps, \n",
    "                                 batch_size=batch_size,\n",
    "                                 learning_rate=learning_rate,\n",
    "                                 temperature=temperature,\n",
    "                                 dropoutprob=0,\n",
    "                                 checkpoint_dir=checkpoint_dir,\n",
    "                                 log_dir=log_dir,\n",
    "                                 model_type=\"student\");"
   ]
  },
  {
   "cell_type": "markdown",
   "metadata": {},
   "source": [
    "Training:\n",
    "\n",
    "At each step, the validation accuracy is computed and, if maximal, a model checkpoint is created. This is, in a way, analogous to **early stopping**."
   ]
  },
  {
   "cell_type": "code",
   "execution_count": 8,
   "metadata": {},
   "outputs": [
    {
     "name": "stdout",
     "output_type": "stream",
     "text": [
      "Starting Training\n",
      "Model Checkpointed to sstudentcpt_t1\\smallmodel \n",
      "Step 1, Validation Loss= 14.2813, Validation Accuracy= 0.049\n",
      "Model Checkpointed to sstudentcpt_t1\\smallmodel \n",
      "Step 100, Validation Loss= 8.7166, Validation Accuracy= 0.150\n",
      "Model Checkpointed to sstudentcpt_t1\\smallmodel \n",
      "Step 200, Validation Loss= 5.8832, Validation Accuracy= 0.269\n",
      "Model Checkpointed to sstudentcpt_t1\\smallmodel \n",
      "Step 300, Validation Loss= 4.2642, Validation Accuracy= 0.387\n",
      "Model Checkpointed to sstudentcpt_t1\\smallmodel \n",
      "Step 400, Validation Loss= 3.2869, Validation Accuracy= 0.477\n",
      "Model Checkpointed to sstudentcpt_t1\\smallmodel \n",
      "Step 500, Validation Loss= 2.6678, Validation Accuracy= 0.550\n",
      "Model Checkpointed to sstudentcpt_t1\\smallmodel \n",
      "Step 600, Validation Loss= 2.2593, Validation Accuracy= 0.598\n",
      "Model Checkpointed to sstudentcpt_t1\\smallmodel \n",
      "Step 700, Validation Loss= 1.9642, Validation Accuracy= 0.641\n",
      "Model Checkpointed to sstudentcpt_t1\\smallmodel \n",
      "Step 800, Validation Loss= 1.7413, Validation Accuracy= 0.672\n",
      "Model Checkpointed to sstudentcpt_t1\\smallmodel \n",
      "Step 900, Validation Loss= 1.5784, Validation Accuracy= 0.702\n",
      "Model Checkpointed to sstudentcpt_t1\\smallmodel \n",
      "Step 1000, Validation Loss= 1.4350, Validation Accuracy= 0.727\n",
      "Model Checkpointed to sstudentcpt_t1\\smallmodel \n",
      "Step 1100, Validation Loss= 1.3300, Validation Accuracy= 0.742\n",
      "Model Checkpointed to sstudentcpt_t1\\smallmodel \n",
      "Step 1200, Validation Loss= 1.2412, Validation Accuracy= 0.756\n",
      "Model Checkpointed to sstudentcpt_t1\\smallmodel \n",
      "Step 1300, Validation Loss= 1.1614, Validation Accuracy= 0.769\n",
      "Model Checkpointed to sstudentcpt_t1\\smallmodel \n",
      "Step 1400, Validation Loss= 1.0954, Validation Accuracy= 0.779\n",
      "Model Checkpointed to sstudentcpt_t1\\smallmodel \n",
      "Step 1500, Validation Loss= 1.0418, Validation Accuracy= 0.791\n",
      "Model Checkpointed to sstudentcpt_t1\\smallmodel \n",
      "Step 1600, Validation Loss= 0.9928, Validation Accuracy= 0.797\n",
      "Model Checkpointed to sstudentcpt_t1\\smallmodel \n",
      "Step 1700, Validation Loss= 0.9469, Validation Accuracy= 0.807\n",
      "Model Checkpointed to sstudentcpt_t1\\smallmodel \n",
      "Step 1800, Validation Loss= 0.9103, Validation Accuracy= 0.812\n",
      "Model Checkpointed to sstudentcpt_t1\\smallmodel \n",
      "Step 1900, Validation Loss= 0.8737, Validation Accuracy= 0.821\n",
      "Model Checkpointed to sstudentcpt_t1\\smallmodel \n",
      "Step 2000, Validation Loss= 0.8444, Validation Accuracy= 0.828\n",
      "Model Checkpointed to sstudentcpt_t1\\smallmodel \n",
      "Step 2100, Validation Loss= 0.8118, Validation Accuracy= 0.834\n",
      "Model Checkpointed to sstudentcpt_t1\\smallmodel \n",
      "Step 2200, Validation Loss= 0.7900, Validation Accuracy= 0.839\n",
      "Model Checkpointed to sstudentcpt_t1\\smallmodel \n",
      "Step 2300, Validation Loss= 0.7672, Validation Accuracy= 0.842\n",
      "Model Checkpointed to sstudentcpt_t1\\smallmodel \n",
      "Step 2400, Validation Loss= 0.7467, Validation Accuracy= 0.846\n",
      "Model Checkpointed to sstudentcpt_t1\\smallmodel \n",
      "Step 2500, Validation Loss= 0.7277, Validation Accuracy= 0.849\n",
      "Model Checkpointed to sstudentcpt_t1\\smallmodel \n",
      "Step 2600, Validation Loss= 0.7081, Validation Accuracy= 0.851\n",
      "Model Checkpointed to sstudentcpt_t1\\smallmodel \n",
      "Step 2700, Validation Loss= 0.6917, Validation Accuracy= 0.856\n",
      "Model Checkpointed to sstudentcpt_t1\\smallmodel \n",
      "Step 2800, Validation Loss= 0.6787, Validation Accuracy= 0.857\n",
      "Model Checkpointed to sstudentcpt_t1\\smallmodel \n",
      "Step 2900, Validation Loss= 0.6639, Validation Accuracy= 0.858\n",
      "Model Checkpointed to sstudentcpt_t1\\smallmodel \n",
      "Step 3000, Validation Loss= 0.6505, Validation Accuracy= 0.861\n",
      "Model Checkpointed to sstudentcpt_t1\\smallmodel \n",
      "Step 3100, Validation Loss= 0.6400, Validation Accuracy= 0.861\n",
      "Model Checkpointed to sstudentcpt_t1\\smallmodel \n",
      "Step 3200, Validation Loss= 0.6287, Validation Accuracy= 0.864\n",
      "Model Checkpointed to sstudentcpt_t1\\smallmodel \n",
      "Step 3300, Validation Loss= 0.6147, Validation Accuracy= 0.865\n",
      "Model Checkpointed to sstudentcpt_t1\\smallmodel \n",
      "Step 3400, Validation Loss= 0.6037, Validation Accuracy= 0.868\n",
      "Model Checkpointed to sstudentcpt_t1\\smallmodel \n",
      "Step 3500, Validation Loss= 0.5950, Validation Accuracy= 0.870\n",
      "Model Checkpointed to sstudentcpt_t1\\smallmodel \n",
      "Step 3600, Validation Loss= 0.5884, Validation Accuracy= 0.869\n",
      "Model Checkpointed to sstudentcpt_t1\\smallmodel \n",
      "Step 3700, Validation Loss= 0.5795, Validation Accuracy= 0.872\n",
      "Model Checkpointed to sstudentcpt_t1\\smallmodel \n",
      "Step 3800, Validation Loss= 0.5696, Validation Accuracy= 0.875\n",
      "Model Checkpointed to sstudentcpt_t1\\smallmodel \n",
      "Step 3900, Validation Loss= 0.5613, Validation Accuracy= 0.876\n",
      "Model Checkpointed to sstudentcpt_t1\\smallmodel \n",
      "Step 4000, Validation Loss= 0.5528, Validation Accuracy= 0.876\n",
      "Model Checkpointed to sstudentcpt_t1\\smallmodel \n",
      "Step 4100, Validation Loss= 0.5485, Validation Accuracy= 0.880\n",
      "Model Checkpointed to sstudentcpt_t1\\smallmodel \n",
      "Step 4200, Validation Loss= 0.5398, Validation Accuracy= 0.880\n",
      "Model Checkpointed to sstudentcpt_t1\\smallmodel \n",
      "Step 4300, Validation Loss= 0.5353, Validation Accuracy= 0.883\n",
      "Model Checkpointed to sstudentcpt_t1\\smallmodel \n",
      "Step 4400, Validation Loss= 0.5288, Validation Accuracy= 0.883\n",
      "Model Checkpointed to sstudentcpt_t1\\smallmodel \n",
      "Step 4500, Validation Loss= 0.5228, Validation Accuracy= 0.885\n",
      "Model Checkpointed to sstudentcpt_t1\\smallmodel \n",
      "Step 4600, Validation Loss= 0.5160, Validation Accuracy= 0.884\n",
      "Model Checkpointed to sstudentcpt_t1\\smallmodel \n",
      "Step 4700, Validation Loss= 0.5114, Validation Accuracy= 0.885\n",
      "Model Checkpointed to sstudentcpt_t1\\smallmodel \n",
      "Step 4800, Validation Loss= 0.5118, Validation Accuracy= 0.886\n",
      "Model Checkpointed to sstudentcpt_t1\\smallmodel \n",
      "Step 4900, Validation Loss= 0.5025, Validation Accuracy= 0.889\n",
      "Model Checkpointed to sstudentcpt_t1\\smallmodel \n",
      "Step 5000, Validation Loss= 0.4977, Validation Accuracy= 0.889\n",
      "Model Checkpointed to sstudentcpt_t1\\smallmodel \n",
      "Step 5000, Validation Loss= 0.4977, Validation Accuracy= 0.889\n",
      "Optimization Finished!\n"
     ]
    }
   ],
   "source": [
    "student_model.start_session()\n",
    "student_model.train(dataset)"
   ]
  },
  {
   "cell_type": "markdown",
   "metadata": {},
   "source": [
    "Test the **student model** (compute its accuracy againts the testing dataset) on the best model based on the validation set, this is, the *checkpointed model*. "
   ]
  },
  {
   "cell_type": "code",
   "execution_count": 9,
   "metadata": {
    "scrolled": true
   },
   "outputs": [
    {
     "name": "stdout",
     "output_type": "stream",
     "text": [
      "Reading model parameters from sstudentcpt_t1\\smallmodel\n",
      "Testing Accuracy: 0.882048\n"
     ]
    }
   ],
   "source": [
    "# Load the best model from created checkpoint\n",
    "student_model.load_model_from_file(checkpoint_dir)\n",
    "# Test the model against the testing set\n",
    "student_model.run_inference(dataset)"
   ]
  },
  {
   "cell_type": "code",
   "execution_count": 10,
   "metadata": {},
   "outputs": [],
   "source": [
    "# Close current tf session\n",
    "student_model.close_session()"
   ]
  },
  {
   "cell_type": "markdown",
   "metadata": {},
   "source": [
    "- ### Distilled Student Model\n",
    "Training data consists of the **logits** from the Teacher Model predictions of the standard training set."
   ]
  },
  {
   "cell_type": "markdown",
   "metadata": {},
   "source": [
    "Pretrained **teacher model** loading:"
   ]
  },
  {
   "cell_type": "code",
   "execution_count": null,
   "metadata": {},
   "outputs": [],
   "source": [
    "checkpoint_dir = \"teachercpt_t1\"\n",
    "log_dir=checkpoint_dir + \"\\logs\""
   ]
  },
  {
   "cell_type": "code",
   "execution_count": 6,
   "metadata": {},
   "outputs": [],
   "source": [
    "# Model definition\n",
    "teacher_model = model.BigModel(num_steps=num_steps, \n",
    "                               batch_size=batch_size,\n",
    "                               learning_rate=learning_rate,\n",
    "                               temperature=temperature,\n",
    "                               dropoutprob=dropout,\n",
    "                               checkpoint_dir=checkpoint_dir,\n",
    "                               log_dir=log_dir,\n",
    "                               model_type=\"teacher\");\n",
    "# Start tf session\n",
    "teacher_model.start_session()"
   ]
  },
  {
   "cell_type": "code",
   "execution_count": 7,
   "metadata": {},
   "outputs": [
    {
     "name": "stdout",
     "output_type": "stream",
     "text": [
      "Reading model parameters from teachercpt_t1\\bigmodel.ckpt\n"
     ]
    }
   ],
   "source": [
    "# Load best model from teacher checkpoint\n",
    "teacher_model.load_model_from_file(checkpoint_dir)"
   ]
  },
  {
   "cell_type": "markdown",
   "metadata": {},
   "source": [
    "Verify **teacher** model state before training **student**:"
   ]
  },
  {
   "cell_type": "code",
   "execution_count": 8,
   "metadata": {
    "scrolled": true
   },
   "outputs": [
    {
     "name": "stdout",
     "output_type": "stream",
     "text": [
      "Testing Accuracy: 0.978365\n"
     ]
    }
   ],
   "source": [
    "# Test the model against the testing set\n",
    "teacher_model.run_inference(dataset)"
   ]
  },
  {
   "cell_type": "markdown",
   "metadata": {},
   "source": [
    "Testing for a good temperature (one that better softens the probabilities):"
   ]
  },
  {
   "cell_type": "code",
   "execution_count": 10,
   "metadata": {},
   "outputs": [],
   "source": [
    "test_images, test_labels = dataset.get_test_data()"
   ]
  },
  {
   "cell_type": "code",
   "execution_count": 13,
   "metadata": {},
   "outputs": [],
   "source": [
    "res = teacher_model.predict(test_images[:10],9000)"
   ]
  },
  {
   "cell_type": "code",
   "execution_count": 14,
   "metadata": {
    "scrolled": true
   },
   "outputs": [
    {
     "data": {
      "image/png": "[encoded data removed]",
      "text/plain": [
       "<Figure size 432x288 with 1 Axes>"
      ]
     },
     "metadata": {
      "needs_background": "light"
     },
     "output_type": "display_data"
    }
   ],
   "source": [
    "plt.imshow(res, cmap='gnuplot', interpolation='nearest')\n",
    "plt.show()"
   ]
  },
  {
   "cell_type": "markdown",
   "metadata": {},
   "source": [
    "Output directory for distilled student model checkpoint:"
   ]
  },
  {
   "cell_type": "code",
   "execution_count": 9,
   "metadata": {},
   "outputs": [],
   "source": [
    "checkpoint_dir=\"dstudentcpt_t5000\"\n",
    "log_dir=checkpoint_dir + \"\\logs\""
   ]
  },
  {
   "cell_type": "markdown",
   "metadata": {},
   "source": [
    "Student model definition:"
   ]
  },
  {
   "cell_type": "code",
   "execution_count": 10,
   "metadata": {
    "scrolled": true
   },
   "outputs": [],
   "source": [
    "student_model = model.SmallModel(num_steps=num_steps, \n",
    "                                 batch_size=batch_size,\n",
    "                                 learning_rate=0.001,\n",
    "                                 temperature=5000,\n",
    "                                 dropoutprob=0,\n",
    "                                 checkpoint_dir=checkpoint_dir,\n",
    "                                 log_dir=log_dir,\n",
    "                                 model_type=\"student\");"
   ]
  },
  {
   "cell_type": "markdown",
   "metadata": {},
   "source": [
    "Training:\n",
    "\n",
    "At each step, the validation accuracy is computed and, if maximal, a model checkpoint is created. This is, in a way, analogous to **early stopping**."
   ]
  },
  {
   "cell_type": "code",
   "execution_count": 11,
   "metadata": {},
   "outputs": [
    {
     "name": "stdout",
     "output_type": "stream",
     "text": [
      "Starting Training\n",
      "Model Checkpointed to dstudentcpt_t5000\\smallmodel \n",
      "Step 1, Validation Loss= 3287.6296, Validation Accuracy= 0.102\n",
      "Model Checkpointed to dstudentcpt_t5000\\smallmodel \n",
      "Step 100, Validation Loss= 685.4867, Validation Accuracy= 0.753\n",
      "Model Checkpointed to dstudentcpt_t5000\\smallmodel \n",
      "Step 200, Validation Loss= 661.7147, Validation Accuracy= 0.836\n",
      "Model Checkpointed to dstudentcpt_t5000\\smallmodel \n",
      "Step 300, Validation Loss= 637.1820, Validation Accuracy= 0.868\n",
      "Model Checkpointed to dstudentcpt_t5000\\smallmodel \n",
      "Step 400, Validation Loss= 631.2465, Validation Accuracy= 0.885\n",
      "Model Checkpointed to dstudentcpt_t5000\\smallmodel \n",
      "Step 500, Validation Loss= 635.9671, Validation Accuracy= 0.892\n",
      "Model Checkpointed to dstudentcpt_t5000\\smallmodel \n",
      "Step 600, Validation Loss= 622.5181, Validation Accuracy= 0.897\n",
      "Model Checkpointed to dstudentcpt_t5000\\smallmodel \n",
      "Step 700, Validation Loss= 598.4039, Validation Accuracy= 0.904\n",
      "Model Checkpointed to dstudentcpt_t5000\\smallmodel \n",
      "Step 800, Validation Loss= 592.5347, Validation Accuracy= 0.905\n",
      "Model Checkpointed to dstudentcpt_t5000\\smallmodel \n",
      "Step 900, Validation Loss= 577.2118, Validation Accuracy= 0.908\n",
      "Model Checkpointed to dstudentcpt_t5000\\smallmodel \n",
      "Step 1000, Validation Loss= 585.7497, Validation Accuracy= 0.908\n",
      "Model Checkpointed to dstudentcpt_t5000\\smallmodel \n",
      "Step 1100, Validation Loss= 566.3466, Validation Accuracy= 0.911\n",
      "Model Checkpointed to dstudentcpt_t5000\\smallmodel \n",
      "Step 1200, Validation Loss= 566.8019, Validation Accuracy= 0.912\n",
      "Model Checkpointed to dstudentcpt_t5000\\smallmodel \n",
      "Step 1300, Validation Loss= 572.9136, Validation Accuracy= 0.914\n",
      "Model Checkpointed to dstudentcpt_t5000\\smallmodel \n",
      "Step 1400, Validation Loss= 563.1511, Validation Accuracy= 0.915\n",
      "Model Checkpointed to dstudentcpt_t5000\\smallmodel \n",
      "Step 1500, Validation Loss= 555.8610, Validation Accuracy= 0.914\n",
      "Model Checkpointed to dstudentcpt_t5000\\smallmodel \n",
      "Step 1600, Validation Loss= 545.9278, Validation Accuracy= 0.916\n",
      "Model Checkpointed to dstudentcpt_t5000\\smallmodel \n",
      "Step 1700, Validation Loss= 548.7877, Validation Accuracy= 0.918\n",
      "Model Checkpointed to dstudentcpt_t5000\\smallmodel \n",
      "Step 1800, Validation Loss= 547.2844, Validation Accuracy= 0.917\n",
      "Model Checkpointed to dstudentcpt_t5000\\smallmodel \n",
      "Step 1900, Validation Loss= 548.2850, Validation Accuracy= 0.919\n",
      "Model Checkpointed to dstudentcpt_t5000\\smallmodel \n",
      "Step 2000, Validation Loss= 544.6684, Validation Accuracy= 0.917\n",
      "Model Checkpointed to dstudentcpt_t5000\\smallmodel \n",
      "Step 2100, Validation Loss= 539.0718, Validation Accuracy= 0.918\n",
      "Model Checkpointed to dstudentcpt_t5000\\smallmodel \n",
      "Step 2200, Validation Loss= 541.6680, Validation Accuracy= 0.920\n",
      "Model Checkpointed to dstudentcpt_t5000\\smallmodel \n",
      "Step 2300, Validation Loss= 539.9641, Validation Accuracy= 0.918\n",
      "Model Checkpointed to dstudentcpt_t5000\\smallmodel \n",
      "Step 2400, Validation Loss= 548.9911, Validation Accuracy= 0.920\n",
      "Model Checkpointed to dstudentcpt_t5000\\smallmodel \n",
      "Step 2500, Validation Loss= 537.6327, Validation Accuracy= 0.918\n",
      "Model Checkpointed to dstudentcpt_t5000\\smallmodel \n",
      "Step 2600, Validation Loss= 531.7464, Validation Accuracy= 0.919\n",
      "Model Checkpointed to dstudentcpt_t5000\\smallmodel \n",
      "Step 2700, Validation Loss= 534.8660, Validation Accuracy= 0.919\n",
      "Model Checkpointed to dstudentcpt_t5000\\smallmodel \n",
      "Step 2800, Validation Loss= 535.7011, Validation Accuracy= 0.919\n",
      "Model Checkpointed to dstudentcpt_t5000\\smallmodel \n",
      "Step 2900, Validation Loss= 534.6907, Validation Accuracy= 0.921\n",
      "Model Checkpointed to dstudentcpt_t5000\\smallmodel \n",
      "Step 3000, Validation Loss= 527.5911, Validation Accuracy= 0.922\n",
      "Model Checkpointed to dstudentcpt_t5000\\smallmodel \n",
      "Step 3100, Validation Loss= 536.2777, Validation Accuracy= 0.921\n",
      "Model Checkpointed to dstudentcpt_t5000\\smallmodel \n",
      "Step 3200, Validation Loss= 544.8583, Validation Accuracy= 0.917\n",
      "Model Checkpointed to dstudentcpt_t5000\\smallmodel \n",
      "Step 3300, Validation Loss= 516.9374, Validation Accuracy= 0.922\n",
      "Model Checkpointed to dstudentcpt_t5000\\smallmodel \n",
      "Step 3400, Validation Loss= 527.2310, Validation Accuracy= 0.921\n",
      "Model Checkpointed to dstudentcpt_t5000\\smallmodel \n",
      "Step 3500, Validation Loss= 530.0498, Validation Accuracy= 0.919\n",
      "Model Checkpointed to dstudentcpt_t5000\\smallmodel \n",
      "Step 3600, Validation Loss= 531.7993, Validation Accuracy= 0.922\n",
      "Model Checkpointed to dstudentcpt_t5000\\smallmodel \n",
      "Step 3700, Validation Loss= 532.8021, Validation Accuracy= 0.921\n",
      "Model Checkpointed to dstudentcpt_t5000\\smallmodel \n",
      "Step 3800, Validation Loss= 538.2856, Validation Accuracy= 0.918\n",
      "Model Checkpointed to dstudentcpt_t5000\\smallmodel \n",
      "Step 3900, Validation Loss= 529.6069, Validation Accuracy= 0.922\n",
      "Model Checkpointed to dstudentcpt_t5000\\smallmodel \n",
      "Step 4000, Validation Loss= 522.9548, Validation Accuracy= 0.923\n",
      "Model Checkpointed to dstudentcpt_t5000\\smallmodel \n",
      "Step 4100, Validation Loss= 528.7042, Validation Accuracy= 0.923\n",
      "Model Checkpointed to dstudentcpt_t5000\\smallmodel \n",
      "Step 4200, Validation Loss= 531.4578, Validation Accuracy= 0.921\n",
      "Model Checkpointed to dstudentcpt_t5000\\smallmodel \n",
      "Step 4300, Validation Loss= 526.7167, Validation Accuracy= 0.922\n",
      "Model Checkpointed to dstudentcpt_t5000\\smallmodel \n",
      "Step 4400, Validation Loss= 527.1196, Validation Accuracy= 0.921\n",
      "Model Checkpointed to dstudentcpt_t5000\\smallmodel \n",
      "Step 4500, Validation Loss= 530.6525, Validation Accuracy= 0.920\n",
      "Model Checkpointed to dstudentcpt_t5000\\smallmodel \n",
      "Step 4600, Validation Loss= 523.7135, Validation Accuracy= 0.922\n",
      "Model Checkpointed to dstudentcpt_t5000\\smallmodel \n",
      "Step 4700, Validation Loss= 525.6195, Validation Accuracy= 0.922\n",
      "Model Checkpointed to dstudentcpt_t5000\\smallmodel \n",
      "Step 4800, Validation Loss= 525.1831, Validation Accuracy= 0.922\n",
      "Model Checkpointed to dstudentcpt_t5000\\smallmodel \n",
      "Step 4900, Validation Loss= 527.9346, Validation Accuracy= 0.921\n",
      "Model Checkpointed to dstudentcpt_t5000\\smallmodel \n",
      "Step 5000, Validation Loss= 533.1480, Validation Accuracy= 0.922\n",
      "Model Checkpointed to dstudentcpt_t5000\\smallmodel \n",
      "Step 5000, Validation Loss= 533.1480, Validation Accuracy= 0.922\n",
      "Optimization Finished!\n"
     ]
    }
   ],
   "source": [
    "student_model.start_session()\n",
    "student_model.train(dataset, teacher_model)"
   ]
  },
  {
   "cell_type": "markdown",
   "metadata": {},
   "source": [
    "Test the **distilled student model** (compute its accuracy againts the testing dataset) on the best model based on the validation set, this is, the *checkpointed model*. "
   ]
  },
  {
   "cell_type": "code",
   "execution_count": 12,
   "metadata": {
    "scrolled": true
   },
   "outputs": [
    {
     "name": "stdout",
     "output_type": "stream",
     "text": [
      "Reading model parameters from dstudentcpt_t5000\\smallmodel\n",
      "Testing Accuracy: 0.918761\n"
     ]
    }
   ],
   "source": [
    "# Load the best model from created checkpoint\n",
    "student_model.load_model_from_file(checkpoint_dir)\n",
    "# Test the model against the testing set\n",
    "student_model.run_inference(dataset)"
   ]
  },
  {
   "cell_type": "code",
   "execution_count": 13,
   "metadata": {},
   "outputs": [],
   "source": [
    "# Close current tf sessions\n",
    "teacher_model.close_session()\n",
    "student_model.close_session()"
   ]
  },
  {
   "cell_type": "markdown",
   "metadata": {},
   "source": [
    "## Experiments"
   ]
  },
  {
   "cell_type": "markdown",
   "metadata": {},
   "source": [
    "- ### 1. Learn from Probabilities\n",
    "Take a class out from the training set for the Distilled Model, and later test the accuracy for that class. "
   ]
  },
  {
   "cell_type": "code",
   "execution_count": 6,
   "metadata": {
    "scrolled": true
   },
   "outputs": [
    {
     "name": "stdout",
     "output_type": "stream",
     "text": [
      "Extracting ./train-images-idx3-ubyte.gz\n",
      "Extracting ./train-labels-idx1-ubyte.gz\n",
      "Extracting ./t10k-images-idx3-ubyte.gz\n",
      "Extracting ./t10k-labels-idx1-ubyte.gz\n",
      "55000\n"
     ]
    }
   ],
   "source": [
    "# MNIST dataset with class 3 excluded from training\n",
    "dataset_ex = data.DatasetExclude(batch_size=128, exclude_class=[3])"
   ]
  },
  {
   "cell_type": "markdown",
   "metadata": {},
   "source": [
    "Pretrained **teacher model** loading:"
   ]
  },
  {
   "cell_type": "code",
   "execution_count": 7,
   "metadata": {},
   "outputs": [],
   "source": [
    "checkpoint_dir = \"teachercpt_t1\"\n",
    "log_dir=checkpoint_dir + \"\\logs\""
   ]
  },
  {
   "cell_type": "code",
   "execution_count": 8,
   "metadata": {},
   "outputs": [],
   "source": [
    "# Model definition\n",
    "teacher_model = model.BigModel(num_steps=num_steps, \n",
    "                               batch_size=batch_size,\n",
    "                               learning_rate=learning_rate,\n",
    "                               temperature=temperature,\n",
    "                               dropoutprob=dropout,\n",
    "                               checkpoint_dir=checkpoint_dir,\n",
    "                               log_dir=log_dir,\n",
    "                               model_type=\"teacher\");\n",
    "# Start tf session\n",
    "teacher_model.start_session()"
   ]
  },
  {
   "cell_type": "code",
   "execution_count": 9,
   "metadata": {},
   "outputs": [
    {
     "name": "stdout",
     "output_type": "stream",
     "text": [
      "Reading model parameters from teachercpt_t1\\bigmodel.ckpt\n"
     ]
    }
   ],
   "source": [
    "# Load best model from teacher checkpoint\n",
    "teacher_model.load_model_from_file(checkpoint_dir)"
   ]
  },
  {
   "cell_type": "markdown",
   "metadata": {},
   "source": [
    "Verify **teacher** model state before training **student**:"
   ]
  },
  {
   "cell_type": "code",
   "execution_count": 10,
   "metadata": {
    "scrolled": true
   },
   "outputs": [
    {
     "name": "stdout",
     "output_type": "stream",
     "text": [
      "Testing Accuracy: 0.978329\n"
     ]
    }
   ],
   "source": [
    "# Test the model against the testing set\n",
    "teacher_model.run_inference(dataset)"
   ]
  },
  {
   "cell_type": "markdown",
   "metadata": {},
   "source": [
    "Output directory for distilled student model checkpoint:"
   ]
  },
  {
   "cell_type": "code",
   "execution_count": 11,
   "metadata": {},
   "outputs": [],
   "source": [
    "checkpoint_dir=\"ex1_dstudentcpt_t8000_gd\"\n",
    "log_dir=checkpoint_dir + \"\\logs\""
   ]
  },
  {
   "cell_type": "markdown",
   "metadata": {},
   "source": [
    "Student model definition:"
   ]
  },
  {
   "cell_type": "code",
   "execution_count": 12,
   "metadata": {
    "scrolled": true
   },
   "outputs": [],
   "source": [
    "student_model = model.SmallModel(num_steps=5000, \n",
    "                                 batch_size=batch_size,\n",
    "                                 learning_rate=0.001,\n",
    "                                 temperature=8000,\n",
    "                                 dropoutprob=0,\n",
    "                                 checkpoint_dir=checkpoint_dir,\n",
    "                                 log_dir=log_dir,\n",
    "                                 model_type=\"student\");"
   ]
  },
  {
   "cell_type": "markdown",
   "metadata": {},
   "source": [
    "Training:\n",
    "\n",
    "At each step, the validation accuracy is computed and, if maximal, a model checkpoint is created. This is, in a way, analogous to **early stopping**."
   ]
  },
  {
   "cell_type": "code",
   "execution_count": 13,
   "metadata": {},
   "outputs": [],
   "source": [
    "student_model.start_session()"
   ]
  },
  {
   "cell_type": "code",
   "execution_count": 14,
   "metadata": {},
   "outputs": [
    {
     "name": "stdout",
     "output_type": "stream",
     "text": [
      "Starting Training\n",
      "Model Checkpointed to ex1_dstudentcpt_t8000_gd\\smallmodel \n",
      "Step 1, Validation Loss= 3657.5715, Validation Accuracy= 0.108\n",
      "Model Checkpointed to ex1_dstudentcpt_t8000_gd\\smallmodel \n",
      "Step 100, Validation Loss= 2197.6946, Validation Accuracy= 0.684\n",
      "Model Checkpointed to ex1_dstudentcpt_t8000_gd\\smallmodel \n",
      "Step 200, Validation Loss= 2170.9675, Validation Accuracy= 0.760\n",
      "Model Checkpointed to ex1_dstudentcpt_t8000_gd\\smallmodel \n",
      "Step 300, Validation Loss= 2080.8770, Validation Accuracy= 0.784\n",
      "Model Checkpointed to ex1_dstudentcpt_t8000_gd\\smallmodel \n",
      "Step 400, Validation Loss= 1974.6926, Validation Accuracy= 0.796\n",
      "Model Checkpointed to ex1_dstudentcpt_t8000_gd\\smallmodel \n",
      "Step 500, Validation Loss= 1905.7006, Validation Accuracy= 0.801\n",
      "Model Checkpointed to ex1_dstudentcpt_t8000_gd\\smallmodel \n",
      "Step 600, Validation Loss= 1834.5573, Validation Accuracy= 0.807\n",
      "Model Checkpointed to ex1_dstudentcpt_t8000_gd\\smallmodel \n",
      "Step 700, Validation Loss= 1797.7828, Validation Accuracy= 0.809\n",
      "Model Checkpointed to ex1_dstudentcpt_t8000_gd\\smallmodel \n",
      "Step 800, Validation Loss= 1723.4626, Validation Accuracy= 0.812\n",
      "Model Checkpointed to ex1_dstudentcpt_t8000_gd\\smallmodel \n",
      "Step 900, Validation Loss= 1685.4470, Validation Accuracy= 0.813\n",
      "Model Checkpointed to ex1_dstudentcpt_t8000_gd\\smallmodel \n",
      "Step 1000, Validation Loss= 1648.3879, Validation Accuracy= 0.816\n",
      "Model Checkpointed to ex1_dstudentcpt_t8000_gd\\smallmodel \n",
      "Step 1100, Validation Loss= 1640.8632, Validation Accuracy= 0.816\n",
      "Model Checkpointed to ex1_dstudentcpt_t8000_gd\\smallmodel \n",
      "Step 1200, Validation Loss= 1586.8141, Validation Accuracy= 0.820\n",
      "Model Checkpointed to ex1_dstudentcpt_t8000_gd\\smallmodel \n",
      "Step 1300, Validation Loss= 1567.7660, Validation Accuracy= 0.821\n",
      "Model Checkpointed to ex1_dstudentcpt_t8000_gd\\smallmodel \n",
      "Step 1400, Validation Loss= 1525.2974, Validation Accuracy= 0.821\n",
      "Model Checkpointed to ex1_dstudentcpt_t8000_gd\\smallmodel \n",
      "Step 1500, Validation Loss= 1487.1949, Validation Accuracy= 0.824\n",
      "Model Checkpointed to ex1_dstudentcpt_t8000_gd\\smallmodel \n",
      "Step 1600, Validation Loss= 1509.6219, Validation Accuracy= 0.824\n",
      "Model Checkpointed to ex1_dstudentcpt_t8000_gd\\smallmodel \n",
      "Step 1700, Validation Loss= 1467.7440, Validation Accuracy= 0.825\n",
      "Model Checkpointed to ex1_dstudentcpt_t8000_gd\\smallmodel \n",
      "Step 1800, Validation Loss= 1448.2126, Validation Accuracy= 0.827\n",
      "Model Checkpointed to ex1_dstudentcpt_t8000_gd\\smallmodel \n",
      "Step 1900, Validation Loss= 1442.3571, Validation Accuracy= 0.827\n",
      "Model Checkpointed to ex1_dstudentcpt_t8000_gd\\smallmodel \n",
      "Step 2000, Validation Loss= 1446.4189, Validation Accuracy= 0.828\n",
      "Model Checkpointed to ex1_dstudentcpt_t8000_gd\\smallmodel \n",
      "Step 2100, Validation Loss= 1396.9882, Validation Accuracy= 0.828\n",
      "Model Checkpointed to ex1_dstudentcpt_t8000_gd\\smallmodel \n",
      "Step 2200, Validation Loss= 1406.3544, Validation Accuracy= 0.830\n",
      "Model Checkpointed to ex1_dstudentcpt_t8000_gd\\smallmodel \n",
      "Step 2300, Validation Loss= 1409.9749, Validation Accuracy= 0.830\n",
      "Model Checkpointed to ex1_dstudentcpt_t8000_gd\\smallmodel \n",
      "Step 2400, Validation Loss= 1380.0198, Validation Accuracy= 0.831\n",
      "Model Checkpointed to ex1_dstudentcpt_t8000_gd\\smallmodel \n",
      "Step 2500, Validation Loss= 1375.4518, Validation Accuracy= 0.832\n",
      "Model Checkpointed to ex1_dstudentcpt_t8000_gd\\smallmodel \n",
      "Step 2600, Validation Loss= 1367.3727, Validation Accuracy= 0.833\n",
      "Model Checkpointed to ex1_dstudentcpt_t8000_gd\\smallmodel \n",
      "Step 2700, Validation Loss= 1337.9050, Validation Accuracy= 0.834\n",
      "Model Checkpointed to ex1_dstudentcpt_t8000_gd\\smallmodel \n",
      "Step 2800, Validation Loss= 1351.8160, Validation Accuracy= 0.833\n",
      "Model Checkpointed to ex1_dstudentcpt_t8000_gd\\smallmodel \n",
      "Step 2900, Validation Loss= 1330.8370, Validation Accuracy= 0.836\n",
      "Model Checkpointed to ex1_dstudentcpt_t8000_gd\\smallmodel \n",
      "Step 3000, Validation Loss= 1335.4440, Validation Accuracy= 0.836\n",
      "Model Checkpointed to ex1_dstudentcpt_t8000_gd\\smallmodel \n",
      "Step 3100, Validation Loss= 1340.4314, Validation Accuracy= 0.835\n",
      "Model Checkpointed to ex1_dstudentcpt_t8000_gd\\smallmodel \n",
      "Step 3200, Validation Loss= 1323.9857, Validation Accuracy= 0.836\n",
      "Model Checkpointed to ex1_dstudentcpt_t8000_gd\\smallmodel \n",
      "Step 3300, Validation Loss= 1318.3140, Validation Accuracy= 0.836\n",
      "Model Checkpointed to ex1_dstudentcpt_t8000_gd\\smallmodel \n",
      "Step 3400, Validation Loss= 1337.0055, Validation Accuracy= 0.836\n",
      "Model Checkpointed to ex1_dstudentcpt_t8000_gd\\smallmodel \n",
      "Step 3500, Validation Loss= 1327.7832, Validation Accuracy= 0.835\n",
      "Model Checkpointed to ex1_dstudentcpt_t8000_gd\\smallmodel \n",
      "Step 3600, Validation Loss= 1290.9121, Validation Accuracy= 0.836\n",
      "Model Checkpointed to ex1_dstudentcpt_t8000_gd\\smallmodel \n",
      "Step 3700, Validation Loss= 1303.6740, Validation Accuracy= 0.836\n",
      "Model Checkpointed to ex1_dstudentcpt_t8000_gd\\smallmodel \n",
      "Step 3800, Validation Loss= 1299.2731, Validation Accuracy= 0.839\n",
      "Model Checkpointed to ex1_dstudentcpt_t8000_gd\\smallmodel \n",
      "Step 3900, Validation Loss= 1277.8610, Validation Accuracy= 0.839\n",
      "Model Checkpointed to ex1_dstudentcpt_t8000_gd\\smallmodel \n",
      "Step 4000, Validation Loss= 1282.3073, Validation Accuracy= 0.838\n",
      "Model Checkpointed to ex1_dstudentcpt_t8000_gd\\smallmodel \n",
      "Step 4100, Validation Loss= 1247.1655, Validation Accuracy= 0.840\n",
      "Model Checkpointed to ex1_dstudentcpt_t8000_gd\\smallmodel \n",
      "Step 4200, Validation Loss= 1281.8242, Validation Accuracy= 0.840\n",
      "Model Checkpointed to ex1_dstudentcpt_t8000_gd\\smallmodel \n",
      "Step 4300, Validation Loss= 1288.2518, Validation Accuracy= 0.839\n",
      "Model Checkpointed to ex1_dstudentcpt_t8000_gd\\smallmodel \n",
      "Step 4400, Validation Loss= 1263.4048, Validation Accuracy= 0.840\n",
      "Model Checkpointed to ex1_dstudentcpt_t8000_gd\\smallmodel \n",
      "Step 4500, Validation Loss= 1266.4075, Validation Accuracy= 0.839\n",
      "Model Checkpointed to ex1_dstudentcpt_t8000_gd\\smallmodel \n",
      "Step 4600, Validation Loss= 1295.3032, Validation Accuracy= 0.838\n",
      "Model Checkpointed to ex1_dstudentcpt_t8000_gd\\smallmodel \n",
      "Step 4700, Validation Loss= 1271.7800, Validation Accuracy= 0.838\n",
      "Model Checkpointed to ex1_dstudentcpt_t8000_gd\\smallmodel \n",
      "Step 4800, Validation Loss= 1289.5974, Validation Accuracy= 0.838\n",
      "Model Checkpointed to ex1_dstudentcpt_t8000_gd\\smallmodel \n",
      "Step 4900, Validation Loss= 1279.5422, Validation Accuracy= 0.838\n",
      "Model Checkpointed to ex1_dstudentcpt_t8000_gd\\smallmodel \n",
      "Step 5000, Validation Loss= 1274.5825, Validation Accuracy= 0.839\n",
      "Model Checkpointed to ex1_dstudentcpt_t8000_gd\\smallmodel \n",
      "Step 5100, Validation Loss= 1304.1072, Validation Accuracy= 0.838\n",
      "Model Checkpointed to ex1_dstudentcpt_t8000_gd\\smallmodel \n",
      "Step 5200, Validation Loss= 1298.4174, Validation Accuracy= 0.839\n",
      "Model Checkpointed to ex1_dstudentcpt_t8000_gd\\smallmodel \n",
      "Step 5300, Validation Loss= 1288.2375, Validation Accuracy= 0.838\n",
      "Model Checkpointed to ex1_dstudentcpt_t8000_gd\\smallmodel \n",
      "Step 5400, Validation Loss= 1269.5309, Validation Accuracy= 0.840\n",
      "Model Checkpointed to ex1_dstudentcpt_t8000_gd\\smallmodel \n",
      "Step 5500, Validation Loss= 1254.3925, Validation Accuracy= 0.839\n",
      "Model Checkpointed to ex1_dstudentcpt_t8000_gd\\smallmodel \n",
      "Step 5600, Validation Loss= 1277.5172, Validation Accuracy= 0.839\n",
      "Model Checkpointed to ex1_dstudentcpt_t8000_gd\\smallmodel \n",
      "Step 5700, Validation Loss= 1279.2772, Validation Accuracy= 0.840\n",
      "Model Checkpointed to ex1_dstudentcpt_t8000_gd\\smallmodel \n",
      "Step 5800, Validation Loss= 1269.2269, Validation Accuracy= 0.840\n",
      "Model Checkpointed to ex1_dstudentcpt_t8000_gd\\smallmodel \n",
      "Step 5900, Validation Loss= 1285.1700, Validation Accuracy= 0.840\n",
      "Model Checkpointed to ex1_dstudentcpt_t8000_gd\\smallmodel \n",
      "Step 6000, Validation Loss= 1255.8638, Validation Accuracy= 0.841\n",
      "Model Checkpointed to ex1_dstudentcpt_t8000_gd\\smallmodel \n",
      "Step 6000, Validation Loss= 1255.8638, Validation Accuracy= 0.841\n",
      "Optimization Finished!\n"
     ]
    }
   ],
   "source": [
    "student_model.train(dataset_ex, teacher_model)"
   ]
  },
  {
   "cell_type": "markdown",
   "metadata": {},
   "source": [
    "Test the **distilled student model** (compute its accuracy againts the testing dataset) on the best model based on the validation set, this is, the *checkpointed model*. "
   ]
  },
  {
   "cell_type": "code",
   "execution_count": 15,
   "metadata": {
    "scrolled": true
   },
   "outputs": [
    {
     "name": "stdout",
     "output_type": "stream",
     "text": [
      "Reading model parameters from ex1_dstudentcpt_t8000_gd\\smallmodel\n",
      "Testing Accuracy: 0.834808\n"
     ]
    }
   ],
   "source": [
    "# Load the best model from created checkpoint\n",
    "student_model.load_model_from_file(checkpoint_dir)\n",
    "# Test the model against the testing set\n",
    "student_model.run_inference(dataset)"
   ]
  },
  {
   "cell_type": "code",
   "execution_count": 16,
   "metadata": {},
   "outputs": [
    {
     "name": "stdout",
     "output_type": "stream",
     "text": [
      "Testing Accuracy: 0.101980194\n"
     ]
    }
   ],
   "source": [
    "# Test the model againts a testing set containing only the initially excluded class\n",
    "student_model.run_inference_ex(dataset_ex)"
   ]
  },
  {
   "cell_type": "code",
   "execution_count": 17,
   "metadata": {},
   "outputs": [],
   "source": [
    "# Close current tf sessions\n",
    "teacher_model.close_session()\n",
    "student_model.close_session()"
   ]
  },
  {
   "cell_type": "markdown",
   "metadata": {},
   "source": [
    "- ### 1.2 Learn from Probabilities (only 7s and 8s)\n",
    "Take multiple classes out from the training set for the Distilled Model, and later test the accuracy for those classes. "
   ]
  },
  {
   "cell_type": "code",
   "execution_count": 6,
   "metadata": {
    "scrolled": true
   },
   "outputs": [
    {
     "name": "stdout",
     "output_type": "stream",
     "text": [
      "Extracting ./train-images-idx3-ubyte.gz\n",
      "Extracting ./train-labels-idx1-ubyte.gz\n",
      "Extracting ./t10k-images-idx3-ubyte.gz\n",
      "Extracting ./t10k-labels-idx1-ubyte.gz\n",
      "55000\n"
     ]
    }
   ],
   "source": [
    "# MNIST dataset with class 3 excluded from training\n",
    "dataset_ex = data.DatasetExclude(batch_size=128, exclude_class=[0,1,2,3,4,5,6,9])"
   ]
  },
  {
   "cell_type": "markdown",
   "metadata": {},
   "source": [
    "Pretrained **teacher model** loading:"
   ]
  },
  {
   "cell_type": "code",
   "execution_count": 7,
   "metadata": {},
   "outputs": [],
   "source": [
    "checkpoint_dir = \"teachercpt_t1\"\n",
    "log_dir=checkpoint_dir + \"\\logs\""
   ]
  },
  {
   "cell_type": "code",
   "execution_count": 8,
   "metadata": {},
   "outputs": [],
   "source": [
    "# Model definition\n",
    "teacher_model = model.BigModel(num_steps=num_steps, \n",
    "                               batch_size=batch_size,\n",
    "                               learning_rate=learning_rate,\n",
    "                               temperature=temperature,\n",
    "                               dropoutprob=dropout,\n",
    "                               checkpoint_dir=checkpoint_dir,\n",
    "                               log_dir=log_dir,\n",
    "                               model_type=\"teacher\");\n",
    "# Start tf session\n",
    "teacher_model.start_session()"
   ]
  },
  {
   "cell_type": "code",
   "execution_count": 9,
   "metadata": {},
   "outputs": [
    {
     "name": "stdout",
     "output_type": "stream",
     "text": [
      "Reading model parameters from teachercpt_t1\\bigmodel.ckpt\n"
     ]
    }
   ],
   "source": [
    "# Load best model from teacher checkpoint\n",
    "teacher_model.load_model_from_file(checkpoint_dir)"
   ]
  },
  {
   "cell_type": "markdown",
   "metadata": {},
   "source": [
    "Verify **teacher** model state before training **student**:"
   ]
  },
  {
   "cell_type": "code",
   "execution_count": 10,
   "metadata": {
    "scrolled": true
   },
   "outputs": [
    {
     "name": "stdout",
     "output_type": "stream",
     "text": [
      "Testing Accuracy: 0.978529\n"
     ]
    }
   ],
   "source": [
    "# Test the model against the testing set\n",
    "teacher_model.run_inference(dataset)"
   ]
  },
  {
   "cell_type": "markdown",
   "metadata": {},
   "source": [
    "Output directory for distilled student model checkpoint:"
   ]
  },
  {
   "cell_type": "code",
   "execution_count": 11,
   "metadata": {},
   "outputs": [],
   "source": [
    "checkpoint_dir=\"ex1.2_dstudentcpt_t8000\"\n",
    "log_dir=checkpoint_dir + \"\\logs\""
   ]
  },
  {
   "cell_type": "markdown",
   "metadata": {},
   "source": [
    "Student model definition:"
   ]
  },
  {
   "cell_type": "code",
   "execution_count": 12,
   "metadata": {
    "scrolled": true
   },
   "outputs": [],
   "source": [
    "student_model = model.SmallModel(num_steps=5000, \n",
    "                                 batch_size=batch_size,\n",
    "                                 learning_rate=0.001,\n",
    "                                 temperature=8000,\n",
    "                                 dropoutprob=0,\n",
    "                                 checkpoint_dir=checkpoint_dir,\n",
    "                                 log_dir=log_dir,\n",
    "                                 model_type=\"student\");"
   ]
  },
  {
   "cell_type": "markdown",
   "metadata": {},
   "source": [
    "Training:\n",
    "\n",
    "At each step, the validation accuracy is computed and, if maximal, a model checkpoint is created. This is, in a way, analogous to **early stopping**."
   ]
  },
  {
   "cell_type": "code",
   "execution_count": 13,
   "metadata": {},
   "outputs": [],
   "source": [
    "student_model.start_session()"
   ]
  },
  {
   "cell_type": "code",
   "execution_count": 14,
   "metadata": {},
   "outputs": [
    {
     "name": "stdout",
     "output_type": "stream",
     "text": [
      "Starting Training\n",
      "Model Checkpointed to ex1.2_dstudentcpt_t8000\\smallmodel \n",
      "Step 1, Validation Loss= 3158.3208, Validation Accuracy= 0.072\n",
      "Model Checkpointed to ex1.2_dstudentcpt_t8000\\smallmodel \n",
      "Step 100, Validation Loss= 12331.0996, Validation Accuracy= 0.197\n",
      "Model Checkpointed to ex1.2_dstudentcpt_t8000\\smallmodel \n",
      "Step 200, Validation Loss= 9836.1826, Validation Accuracy= 0.202\n",
      "Model Checkpointed to ex1.2_dstudentcpt_t8000\\smallmodel \n",
      "Step 300, Validation Loss= 8621.6064, Validation Accuracy= 0.217\n",
      "Model Checkpointed to ex1.2_dstudentcpt_t8000\\smallmodel \n",
      "Step 400, Validation Loss= 7561.4312, Validation Accuracy= 0.238\n",
      "Model Checkpointed to ex1.2_dstudentcpt_t8000\\smallmodel \n",
      "Step 500, Validation Loss= 7168.3433, Validation Accuracy= 0.255\n",
      "Model Checkpointed to ex1.2_dstudentcpt_t8000\\smallmodel \n",
      "Step 600, Validation Loss= 6517.7607, Validation Accuracy= 0.286\n",
      "Model Checkpointed to ex1.2_dstudentcpt_t8000\\smallmodel \n",
      "Step 700, Validation Loss= 6383.0327, Validation Accuracy= 0.297\n",
      "Model Checkpointed to ex1.2_dstudentcpt_t8000\\smallmodel \n",
      "Step 800, Validation Loss= 5932.5161, Validation Accuracy= 0.312\n",
      "Model Checkpointed to ex1.2_dstudentcpt_t8000\\smallmodel \n",
      "Step 900, Validation Loss= 5637.8638, Validation Accuracy= 0.328\n",
      "Model Checkpointed to ex1.2_dstudentcpt_t8000\\smallmodel \n",
      "Step 1000, Validation Loss= 5481.0962, Validation Accuracy= 0.335\n",
      "Model Checkpointed to ex1.2_dstudentcpt_t8000\\smallmodel \n",
      "Step 1100, Validation Loss= 5358.4951, Validation Accuracy= 0.344\n",
      "Model Checkpointed to ex1.2_dstudentcpt_t8000\\smallmodel \n",
      "Step 1200, Validation Loss= 5291.6548, Validation Accuracy= 0.352\n",
      "Model Checkpointed to ex1.2_dstudentcpt_t8000\\smallmodel \n",
      "Step 1300, Validation Loss= 5235.2065, Validation Accuracy= 0.359\n",
      "Model Checkpointed to ex1.2_dstudentcpt_t8000\\smallmodel \n",
      "Step 1400, Validation Loss= 5371.8896, Validation Accuracy= 0.359\n",
      "Model Checkpointed to ex1.2_dstudentcpt_t8000\\smallmodel \n",
      "Step 1500, Validation Loss= 5074.4702, Validation Accuracy= 0.375\n",
      "Model Checkpointed to ex1.2_dstudentcpt_t8000\\smallmodel \n",
      "Step 1600, Validation Loss= 5029.0947, Validation Accuracy= 0.379\n",
      "Model Checkpointed to ex1.2_dstudentcpt_t8000\\smallmodel \n",
      "Step 1700, Validation Loss= 5108.4536, Validation Accuracy= 0.379\n",
      "Model Checkpointed to ex1.2_dstudentcpt_t8000\\smallmodel \n",
      "Step 1800, Validation Loss= 5022.4819, Validation Accuracy= 0.386\n",
      "Model Checkpointed to ex1.2_dstudentcpt_t8000\\smallmodel \n",
      "Step 1900, Validation Loss= 4811.7100, Validation Accuracy= 0.399\n",
      "Model Checkpointed to ex1.2_dstudentcpt_t8000\\smallmodel \n",
      "Step 2000, Validation Loss= 5107.6987, Validation Accuracy= 0.382\n",
      "Model Checkpointed to ex1.2_dstudentcpt_t8000\\smallmodel \n",
      "Step 2100, Validation Loss= 4900.9321, Validation Accuracy= 0.398\n",
      "Model Checkpointed to ex1.2_dstudentcpt_t8000\\smallmodel \n",
      "Step 2200, Validation Loss= 4914.3047, Validation Accuracy= 0.402\n",
      "Model Checkpointed to ex1.2_dstudentcpt_t8000\\smallmodel \n",
      "Step 2300, Validation Loss= 4802.7451, Validation Accuracy= 0.409\n",
      "Model Checkpointed to ex1.2_dstudentcpt_t8000\\smallmodel \n",
      "Step 2400, Validation Loss= 4884.9385, Validation Accuracy= 0.412\n",
      "Model Checkpointed to ex1.2_dstudentcpt_t8000\\smallmodel \n",
      "Step 2500, Validation Loss= 4955.1094, Validation Accuracy= 0.398\n",
      "Model Checkpointed to ex1.2_dstudentcpt_t8000\\smallmodel \n",
      "Step 2600, Validation Loss= 5003.9873, Validation Accuracy= 0.403\n",
      "Model Checkpointed to ex1.2_dstudentcpt_t8000\\smallmodel \n",
      "Step 2700, Validation Loss= 5283.8555, Validation Accuracy= 0.390\n",
      "Model Checkpointed to ex1.2_dstudentcpt_t8000\\smallmodel \n",
      "Step 2800, Validation Loss= 5208.8818, Validation Accuracy= 0.397\n",
      "Model Checkpointed to ex1.2_dstudentcpt_t8000\\smallmodel \n",
      "Step 2900, Validation Loss= 5257.1382, Validation Accuracy= 0.391\n",
      "Model Checkpointed to ex1.2_dstudentcpt_t8000\\smallmodel \n",
      "Step 3000, Validation Loss= 4944.3760, Validation Accuracy= 0.409\n",
      "Model Checkpointed to ex1.2_dstudentcpt_t8000\\smallmodel \n",
      "Step 3100, Validation Loss= 4862.6362, Validation Accuracy= 0.419\n",
      "Model Checkpointed to ex1.2_dstudentcpt_t8000\\smallmodel \n",
      "Step 3200, Validation Loss= 4912.4858, Validation Accuracy= 0.414\n",
      "Model Checkpointed to ex1.2_dstudentcpt_t8000\\smallmodel \n",
      "Step 3300, Validation Loss= 5220.3281, Validation Accuracy= 0.395\n",
      "Model Checkpointed to ex1.2_dstudentcpt_t8000\\smallmodel \n",
      "Step 3400, Validation Loss= 4884.3149, Validation Accuracy= 0.414\n",
      "Model Checkpointed to ex1.2_dstudentcpt_t8000\\smallmodel \n",
      "Step 3500, Validation Loss= 4995.9868, Validation Accuracy= 0.412\n",
      "Model Checkpointed to ex1.2_dstudentcpt_t8000\\smallmodel \n",
      "Step 3600, Validation Loss= 4960.9941, Validation Accuracy= 0.421\n",
      "Model Checkpointed to ex1.2_dstudentcpt_t8000\\smallmodel \n",
      "Step 3700, Validation Loss= 4889.5723, Validation Accuracy= 0.414\n",
      "Model Checkpointed to ex1.2_dstudentcpt_t8000\\smallmodel \n",
      "Step 3800, Validation Loss= 4994.0078, Validation Accuracy= 0.407\n",
      "Model Checkpointed to ex1.2_dstudentcpt_t8000\\smallmodel \n",
      "Step 3900, Validation Loss= 5148.0625, Validation Accuracy= 0.408\n",
      "Model Checkpointed to ex1.2_dstudentcpt_t8000\\smallmodel \n",
      "Step 4000, Validation Loss= 5403.2290, Validation Accuracy= 0.395\n",
      "Model Checkpointed to ex1.2_dstudentcpt_t8000\\smallmodel \n",
      "Step 4100, Validation Loss= 5276.9824, Validation Accuracy= 0.402\n",
      "Model Checkpointed to ex1.2_dstudentcpt_t8000\\smallmodel \n",
      "Step 4200, Validation Loss= 5168.1006, Validation Accuracy= 0.408\n",
      "Model Checkpointed to ex1.2_dstudentcpt_t8000\\smallmodel \n",
      "Step 4300, Validation Loss= 4890.9297, Validation Accuracy= 0.426\n",
      "Model Checkpointed to ex1.2_dstudentcpt_t8000\\smallmodel \n",
      "Step 4400, Validation Loss= 5107.5293, Validation Accuracy= 0.406\n",
      "Model Checkpointed to ex1.2_dstudentcpt_t8000\\smallmodel \n",
      "Step 4500, Validation Loss= 4994.8735, Validation Accuracy= 0.410\n",
      "Model Checkpointed to ex1.2_dstudentcpt_t8000\\smallmodel \n",
      "Step 4600, Validation Loss= 5067.3057, Validation Accuracy= 0.413\n",
      "Model Checkpointed to ex1.2_dstudentcpt_t8000\\smallmodel \n",
      "Step 4700, Validation Loss= 5092.0977, Validation Accuracy= 0.403\n",
      "Model Checkpointed to ex1.2_dstudentcpt_t8000\\smallmodel \n",
      "Step 4800, Validation Loss= 5184.8169, Validation Accuracy= 0.409\n",
      "Model Checkpointed to ex1.2_dstudentcpt_t8000\\smallmodel \n",
      "Step 4900, Validation Loss= 4870.6338, Validation Accuracy= 0.424\n",
      "Model Checkpointed to ex1.2_dstudentcpt_t8000\\smallmodel \n",
      "Step 5000, Validation Loss= 4789.8911, Validation Accuracy= 0.425\n",
      "Model Checkpointed to ex1.2_dstudentcpt_t8000\\smallmodel \n",
      "Step 5000, Validation Loss= 4789.8911, Validation Accuracy= 0.425\n",
      "Optimization Finished!\n"
     ]
    }
   ],
   "source": [
    "student_model.train(dataset_ex, teacher_model)"
   ]
  },
  {
   "cell_type": "markdown",
   "metadata": {},
   "source": [
    "Test the **distilled student model** (compute its accuracy againts the testing dataset) on the best model based on the validation set, this is, the *checkpointed model*. "
   ]
  },
  {
   "cell_type": "code",
   "execution_count": 15,
   "metadata": {
    "scrolled": true
   },
   "outputs": [
    {
     "name": "stdout",
     "output_type": "stream",
     "text": [
      "Reading model parameters from ex1.2_dstudentcpt_t8000\\smallmodel\n",
      "Testing Accuracy: 0.405558\n"
     ]
    }
   ],
   "source": [
    "# Load the best model from created checkpoint\n",
    "student_model.load_model_from_file(checkpoint_dir)\n",
    "# Test the model against the testing set\n",
    "student_model.run_inference(dataset)"
   ]
  },
  {
   "cell_type": "code",
   "execution_count": 16,
   "metadata": {},
   "outputs": [
    {
     "name": "stdout",
     "output_type": "stream",
     "text": [
      "Testing Accuracy: 0.17301923\n"
     ]
    }
   ],
   "source": [
    "# Test the model againts a testing set containing only the initially excluded class\n",
    "student_model.run_inference_ex(dataset_ex)"
   ]
  },
  {
   "cell_type": "code",
   "execution_count": 17,
   "metadata": {},
   "outputs": [],
   "source": [
    "# Close current tf sessions\n",
    "teacher_model.close_session()\n",
    "student_model.close_session()"
   ]
  },
  {
   "cell_type": "markdown",
   "metadata": {},
   "source": [
    "- ### 2. Train distilled model with a transfer set"
   ]
  },
  {
   "cell_type": "markdown",
   "metadata": {},
   "source": [
    "### Tests"
   ]
  },
  {
   "cell_type": "code",
   "execution_count": 12,
   "metadata": {},
   "outputs": [],
   "source": [
    "only3Data = dataset_ex.get_test_data_ex()"
   ]
  },
  {
   "cell_type": "code",
   "execution_count": 13,
   "metadata": {},
   "outputs": [],
   "source": [
    "test_images_ex, test_labels_ex = dataset_ex.get_test_data_ex()"
   ]
  },
  {
   "cell_type": "code",
   "execution_count": 14,
   "metadata": {
    "scrolled": false
   },
   "outputs": [
    {
     "data": {
      "text/plain": [
       "array([[0., 0., 0., ..., 0., 0., 0.],\n",
       "       [0., 0., 0., ..., 0., 0., 0.],\n",
       "       [0., 0., 0., ..., 0., 0., 0.],\n",
       "       ...,\n",
       "       [0., 0., 1., ..., 0., 0., 0.],\n",
       "       [0., 0., 0., ..., 0., 1., 0.],\n",
       "       [0., 0., 0., ..., 0., 0., 0.]], dtype=float32)"
      ]
     },
     "execution_count": 14,
     "metadata": {},
     "output_type": "execute_result"
    }
   ],
   "source": [
    "res3 = student_model.predict(test_images_ex)\n",
    "res3"
   ]
  },
  {
   "cell_type": "code",
   "execution_count": 15,
   "metadata": {},
   "outputs": [
    {
     "data": {
      "image/png": "[encoded data removed]",
      "text/plain": [
       "<Figure size 432x288 with 1 Axes>"
      ]
     },
     "metadata": {
      "needs_background": "light"
     },
     "output_type": "display_data"
    }
   ],
   "source": [
    "plt.imshow(res3[10:20], cmap='gnuplot', interpolation='nearest')\n",
    "plt.show()"
   ]
  },
  {
   "cell_type": "code",
   "execution_count": 19,
   "metadata": {
    "scrolled": false
   },
   "outputs": [],
   "source": [
    "labels = [np.argmax(x) for x in res3];"
   ]
  },
  {
   "cell_type": "code",
   "execution_count": 22,
   "metadata": {},
   "outputs": [
    {
     "data": {
      "text/plain": [
       "894"
      ]
     },
     "execution_count": 22,
     "metadata": {},
     "output_type": "execute_result"
    }
   ],
   "source": [
    "len([x for x in labels if x != 3])"
   ]
  },
  {
   "cell_type": "markdown",
   "metadata": {},
   "source": [
    "Softness"
   ]
  },
  {
   "cell_type": "code",
   "execution_count": 12,
   "metadata": {},
   "outputs": [],
   "source": [
    "test_images, test_labels = dataset.get_test_data()"
   ]
  },
  {
   "cell_type": "code",
   "execution_count": 24,
   "metadata": {},
   "outputs": [
    {
     "data": {
      "text/plain": [
       "array([[0.02155227, 0.01782936, 0.01530081, 0.07333788, 0.01995625,\n",
       "        0.75689876, 0.00749253, 0.01438484, 0.05224987, 0.02099747],\n",
       "       [0.05230931, 0.53914374, 0.06466244, 0.02888518, 0.07134437,\n",
       "        0.02954876, 0.03085313, 0.06112206, 0.10143644, 0.02069464],\n",
       "       [0.03398941, 0.00770653, 0.02204861, 0.01915374, 0.02241081,\n",
       "        0.05819929, 0.8147083 , 0.0022156 , 0.0103439 , 0.00922381],\n",
       "       [0.03036679, 0.00649158, 0.02443155, 0.01460529, 0.77217335,\n",
       "        0.00962574, 0.01572084, 0.05002068, 0.02894339, 0.0476208 ],\n",
       "       [0.00897078, 0.00362565, 0.01240781, 0.00963021, 0.04857294,\n",
       "        0.02797011, 0.863165  , 0.00986666, 0.01169004, 0.00410075],\n",
       "       [0.05565168, 0.01574925, 0.02770146, 0.05238277, 0.07021851,\n",
       "        0.04418492, 0.01563421, 0.10332207, 0.10259476, 0.51256037],\n",
       "       [0.03368693, 0.02610323, 0.02370452, 0.09477874, 0.03724141,\n",
       "        0.05075835, 0.01166267, 0.03371252, 0.6480025 , 0.04034916],\n",
       "       [0.00738499, 0.00946992, 0.01571026, 0.8180272 , 0.00954579,\n",
       "        0.05379512, 0.00716661, 0.0163611 , 0.02910723, 0.03343174],\n",
       "       [0.04653687, 0.05569616, 0.06369132, 0.12718518, 0.09375628,\n",
       "        0.10982734, 0.17144836, 0.04128445, 0.23848309, 0.05209097],\n",
       "       [0.26843423, 0.04233969, 0.12172329, 0.03196076, 0.08649258,\n",
       "        0.03588108, 0.1454897 , 0.07537423, 0.15049246, 0.04181198]],\n",
       "      dtype=float32)"
      ]
     },
     "execution_count": 24,
     "metadata": {},
     "output_type": "execute_result"
    }
   ],
   "source": [
    "res = teacher_model.predict(test_images[:10],10000)\n",
    "res"
   ]
  },
  {
   "cell_type": "code",
   "execution_count": 13,
   "metadata": {
    "scrolled": true
   },
   "outputs": [
    {
     "data": {
      "text/plain": [
       "array([[-1.0211494 , -0.5921386 , -1.7813059 , -0.22943072,  4.7421618 ,\n",
       "        -0.46868637, -0.4402676 ,  1.3190312 , -0.25325492,  1.8988273 ],\n",
       "       [ 0.70405686, -0.56497246,  2.7086508 ,  5.800044  ,  0.45443693,\n",
       "         2.7497504 , -4.7013693 ,  0.15779269,  0.9306188 ,  2.5254018 ],\n",
       "       [ 0.80967695,  4.779439  ,  0.55858225,  0.39275914, -0.4275604 ,\n",
       "        -0.06877542, -0.65638787,  0.19440486,  0.2245654 , -0.8133921 ]],\n",
       "      dtype=float32)"
      ]
     },
     "execution_count": 13,
     "metadata": {},
     "output_type": "execute_result"
    }
   ],
   "source": [
    "res = teacher_model.predict_logits(test_images[:3],5000)\n",
    "res"
   ]
  },
  {
   "cell_type": "code",
   "execution_count": 14,
   "metadata": {},
   "outputs": [
    {
     "name": "stdout",
     "output_type": "stream",
     "text": [
      "[[2.7916129e-03 4.2871856e-03 1.3053397e-03 6.1616125e-03 8.8885218e-01\n",
      "  4.8505040e-03 4.9903276e-03 2.8985638e-02 6.0165520e-03 5.1758908e-02]\n",
      " [5.3022010e-03 1.4904720e-03 3.9358661e-02 8.6619437e-01 4.1309278e-03\n",
      "  4.1009989e-02 2.3818229e-05 3.0705535e-03 6.6504464e-03 3.2768480e-02]\n",
      " [1.7348994e-02 9.1900963e-01 1.3496629e-02 1.1434292e-02 5.0344146e-03\n",
      "  7.2072139e-03 4.0047048e-03 9.3770269e-03 9.6641490e-03 3.4228223e-03]]\n"
     ]
    }
   ],
   "source": [
    "print(teacher_model.sess.run(tf.nn.softmax(res)))"
   ]
  },
  {
   "cell_type": "code",
   "execution_count": 21,
   "metadata": {},
   "outputs": [
    {
     "data": {
      "text/plain": [
       "array([[0., 1., 0., 0., 0., 0., 0., 0., 0., 0.],\n",
       "       [0., 0., 0., 0., 0., 0., 0., 0., 1., 0.],\n",
       "       [1., 0., 0., 0., 0., 0., 0., 0., 0., 0.]], dtype=float32)"
      ]
     },
     "execution_count": 21,
     "metadata": {},
     "output_type": "execute_result"
    }
   ],
   "source": [
    "student_model.predict(test_images[:3],5000)"
   ]
  },
  {
   "cell_type": "code",
   "execution_count": 18,
   "metadata": {},
   "outputs": [
    {
     "data": {
      "text/plain": [
       "array([[0., 1., 0., 0., 0., 0., 0., 0., 0., 0.],\n",
       "       [0., 0., 0., 0., 0., 1., 0., 0., 0., 0.],\n",
       "       [0., 0., 0., 0., 0., 0., 0., 0., 1., 0.]])"
      ]
     },
     "execution_count": 18,
     "metadata": {},
     "output_type": "execute_result"
    }
   ],
   "source": [
    "test_labels[:3]"
   ]
  },
  {
   "cell_type": "code",
   "execution_count": 25,
   "metadata": {},
   "outputs": [
    {
     "data": {
      "image/png": "[encoded data removed]",
      "text/plain": [
       "<Figure size 432x288 with 1 Axes>"
      ]
     },
     "metadata": {
      "needs_background": "light"
     },
     "output_type": "display_data"
    }
   ],
   "source": [
    "plt.imshow(res, cmap='gnuplot', interpolation='nearest')\n",
    "plt.show()"
   ]
  },
  {
   "cell_type": "code",
   "execution_count": 22,
   "metadata": {},
   "outputs": [
    {
     "data": {
      "image/png": "[encoded data removed]",
      "text/plain": [
       "<Figure size 432x288 with 1 Axes>"
      ]
     },
     "metadata": {
      "needs_background": "light"
     },
     "output_type": "display_data"
    }
   ],
   "source": [
    "plt.imshow(test_labels[:10], cmap='hot', interpolation='nearest')\n",
    "plt.show()"
   ]
  },
  {
   "cell_type": "code",
   "execution_count": null,
   "metadata": {},
   "outputs": [],
   "source": []
  }
 ],
 "metadata": {
  "kernelspec": {
   "display_name": "TensorFlow-GPU",
   "language": "python",
   "name": "tensorflow-gpu"
  },
  "language_info": {
   "codemirror_mode": {
    "name": "ipython",
    "version": 3
   },
   "file_extension": ".py",
   "mimetype": "text/x-python",
   "name": "python",
   "nbconvert_exporter": "python",
   "pygments_lexer": "ipython3",
   "version": "3.6.8"
  }
 },
 "nbformat": 4,
 "nbformat_minor": 2
}
