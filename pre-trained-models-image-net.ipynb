{
 "cells": [
  {
   "cell_type": "code",
   "execution_count": 14,
   "metadata": {},
   "outputs": [],
   "source": [
    "import keras\n",
    "from keras import applications\n",
    "import numpy as np\n",
    "import matplotlib.pyplot as plt"
   ]
  },
  {
   "cell_type": "code",
   "execution_count": 2,
   "metadata": {},
   "outputs": [],
   "source": [
    "model_constructors = {\n",
    "    \"inception\":applications.inception_v3.InceptionV3,\n",
    "    \"xception\":applications.xception.Xception,\n",
    "    \"vgg\":applications.vgg19.VGG19,\n",
    "    \"resnet\":applications.resnet50.ResNet50,\n",
    "    \"inception_resnet\":applications.inception_resnet_v2.InceptionResNetV2,\n",
    "    \"densenet\":applications.densenet.DenseNet201}\n",
    "preprocessors = {\n",
    "    \"inception\":applications.inception_v3.preprocess_input,\n",
    "    \"xception\":applications.xception.preprocess_input,\n",
    "    \"vgg\":applications.vgg19.preprocess_input,\n",
    "    \"resnet\":applications.resnet50.preprocess_input,\n",
    "    \"inception_resnet\":applications.inception_resnet_v2.preprocess_input,\n",
    "    \"densenet\":applications.densenet.preprocess_input}   "
   ]
  },
  {
   "cell_type": "code",
   "execution_count": 5,
   "metadata": {},
   "outputs": [
    {
     "name": "stdout",
     "output_type": "stream",
     "text": [
      "WARNING:tensorflow:From /Users/user/.local/lib/python3.6/site-packages/tensorflow/python/framework/op_def_library.py:263: colocate_with (from tensorflow.python.framework.ops) is deprecated and will be removed in a future version.\n",
      "Instructions for updating:\n",
      "Colocations handled automatically by placer.\n",
      "Downloading data from https://github.com/fchollet/deep-learning-models/releases/download/v0.5/inception_v3_weights_tf_dim_ordering_tf_kernels_notop.h5\n",
      "87916544/87910968 [==============================] - 9s 0us/step\n"
     ]
    }
   ],
   "source": [
    "#include_top: whether to include the fully-connected layer at the top of the network.\n",
    "conv_model_inception = model_constructors[\"inception\"](include_top=False, weights='imagenet')"
   ]
  },
  {
   "cell_type": "code",
   "execution_count": null,
   "metadata": {},
   "outputs": [],
   "source": [
    "img = keras.preprocessing.image.load_img(p,target_size=(img_width,img_height))\n",
    "            img = keras.preprocessing.image.img_to_array(img)\n",
    "            img = preprocessors[self.model_name](np.array([img]))"
   ]
  },
  {
   "cell_type": "code",
   "execution_count": 42,
   "metadata": {},
   "outputs": [],
   "source": [
    "img_width = 224\n",
    "img_height = 224\n",
    "img_path = 'tiny-imagenet-200/test/images/test_0.JPEG'\n",
    "img_path2 = 'tiny-imagenet-200/train/n01443537/images/n01443537_210.JPEG'\n",
    "img = keras.preprocessing.image.load_img(img_path ,target_size=(img_width, img_height))\n",
    "img2 = keras.preprocessing.image.load_img(img_path2 ,target_size=(img_width, img_height))\n",
    "img = keras.preprocessing.image.img_to_array(img)\n",
    "img2 = keras.preprocessing.image.img_to_array(img2)\n",
    "img = preprocessors[\"inception\"](np.array([img]))\n",
    "img2 = preprocessors[\"inception\"](np.array([img2]))"
   ]
  },
  {
   "cell_type": "code",
   "execution_count": 45,
   "metadata": {},
   "outputs": [
    {
     "name": "stderr",
     "output_type": "stream",
     "text": [
      "Clipping input data to the valid range for imshow with RGB data ([0..1] for floats or [0..255] for integers).\n"
     ]
    },
    {
     "data": {
      "text/plain": [
       "<matplotlib.image.AxesImage at 0x138f6f5c0>"
      ]
     },
     "execution_count": 45,
     "metadata": {},
     "output_type": "execute_result"
    },
    {
     "data": {
      "image/png": "[encoded data removed]",
      "text/plain": [
       "<Figure size 432x288 with 1 Axes>"
      ]
     },
     "metadata": {
      "needs_background": "light"
     },
     "output_type": "display_data"
    }
   ],
   "source": [
    "plt.imshow(img2[0])"
   ]
  },
  {
   "cell_type": "code",
   "execution_count": 46,
   "metadata": {},
   "outputs": [],
   "source": [
    "features = conv_model_inception.predict(img2)"
   ]
  },
  {
   "cell_type": "code",
   "execution_count": 49,
   "metadata": {},
   "outputs": [
    {
     "data": {
      "text/plain": [
       "(1, 5, 5, 2048)"
      ]
     },
     "execution_count": 49,
     "metadata": {},
     "output_type": "execute_result"
    }
   ],
   "source": [
    "features.shape"
   ]
  }
 ],
 "metadata": {
  "kernelspec": {
   "display_name": "Python 3",
   "language": "python",
   "name": "python3"
  },
  "language_info": {
   "codemirror_mode": {
    "name": "ipython",
    "version": 3
   },
   "file_extension": ".py",
   "mimetype": "text/x-python",
   "name": "python",
   "nbconvert_exporter": "python",
   "pygments_lexer": "ipython3",
   "version": "3.6.8"
  }
 },
 "nbformat": 4,
 "nbformat_minor": 2
}
