{
 "cells": [
  {
   "cell_type": "code",
   "execution_count": 1,
   "metadata": {},
   "outputs": [],
   "source": [
    "import model\n",
    "import data\n",
    "import tensorflow as tf\n",
    "import numpy as np\n",
    "import random\n",
    "import matplotlib.pyplot as plt"
   ]
  },
  {
   "cell_type": "markdown",
   "metadata": {},
   "source": [
    "To avoid verbose warning messages... "
   ]
  },
  {
   "cell_type": "code",
   "execution_count": 2,
   "metadata": {},
   "outputs": [],
   "source": [
    "old_v = tf.logging.get_verbosity()\n",
    "tf.logging.set_verbosity(tf.logging.ERROR)"
   ]
  },
  {
   "cell_type": "markdown",
   "metadata": {},
   "source": [
    "Load MNIST dataset via a Dataset object:"
   ]
  },
  {
   "cell_type": "code",
   "execution_count": 3,
   "metadata": {
    "scrolled": false
   },
   "outputs": [
    {
     "name": "stdout",
     "output_type": "stream",
     "text": [
      "Extracting ./train-images-idx3-ubyte.gz\n",
      "Extracting ./train-labels-idx1-ubyte.gz\n",
      "Extracting ./t10k-images-idx3-ubyte.gz\n",
      "Extracting ./t10k-labels-idx1-ubyte.gz\n",
      "55000\n"
     ]
    }
   ],
   "source": [
    "dataset = data.Dataset(batch_size=128)"
   ]
  },
  {
   "cell_type": "markdown",
   "metadata": {},
   "source": [
    "Training parameters:"
   ]
  },
  {
   "cell_type": "code",
   "execution_count": 4,
   "metadata": {},
   "outputs": [],
   "source": [
    "learning_rate=0.001\n",
    "num_steps = 5000\n",
    "batch_size = 128"
   ]
  },
  {
   "cell_type": "markdown",
   "metadata": {},
   "source": [
    "Model parameters:"
   ]
  },
  {
   "cell_type": "code",
   "execution_count": 5,
   "metadata": {},
   "outputs": [],
   "source": [
    "temperature = 1\n",
    "dropout = 0.75"
   ]
  },
  {
   "cell_type": "markdown",
   "metadata": {},
   "source": [
    "## Main Model Training"
   ]
  },
  {
   "cell_type": "markdown",
   "metadata": {},
   "source": [
    "- ### Teacher Model"
   ]
  },
  {
   "cell_type": "markdown",
   "metadata": {},
   "source": [
    "Output directory for model checkpoint:"
   ]
  },
  {
   "cell_type": "code",
   "execution_count": 6,
   "metadata": {},
   "outputs": [],
   "source": [
    "checkpoint_dir=\"teachercpt_t1_test\"\n",
    "log_dir=checkpoint_dir + \"\\logs\""
   ]
  },
  {
   "cell_type": "markdown",
   "metadata": {},
   "source": [
    "Model definition:"
   ]
  },
  {
   "cell_type": "code",
   "execution_count": 12,
   "metadata": {
    "scrolled": true
   },
   "outputs": [],
   "source": [
    "teacher_model = model.BigModel(num_steps=num_steps, \n",
    "                               batch_size=batch_size,\n",
    "                               learning_rate=learning_rate,\n",
    "                               temperature=temperature,\n",
    "                               dropoutprob=dropout,\n",
    "                               checkpoint_dir=checkpoint_dir,\n",
    "                               log_dir=log_dir,\n",
    "                               model_type=\"teacher\");"
   ]
  },
  {
   "cell_type": "markdown",
   "metadata": {},
   "source": [
    "Training:\n",
    "\n",
    "At each step, the validation accuracy is computed and, if maximal, a model checkpoint is created. This is, in a way, analogous to **early stopping**."
   ]
  },
  {
   "cell_type": "code",
   "execution_count": 13,
   "metadata": {},
   "outputs": [],
   "source": [
    "teacher_model.start_session()"
   ]
  },
  {
   "cell_type": "code",
   "execution_count": 8,
   "metadata": {
    "scrolled": true
   },
   "outputs": [
    {
     "name": "stdout",
     "output_type": "stream",
     "text": [
      "Starting Training\n",
      "Model Checkpointed to teachercpt_t1_test\\bigmodel.ckpt \n",
      "Step 1, Validation Loss= 64815.7266, Validation Accuracy= 0.057\n",
      "Model Checkpointed to teachercpt_t1_test\\bigmodel.ckpt \n",
      "Step 100, Validation Loss= 2279.0669, Validation Accuracy= 0.867\n",
      "Model Checkpointed to teachercpt_t1_test\\bigmodel.ckpt \n",
      "Step 200, Validation Loss= 1206.1360, Validation Accuracy= 0.923\n",
      "Model Checkpointed to teachercpt_t1_test\\bigmodel.ckpt \n",
      "Step 300, Validation Loss= 824.3567, Validation Accuracy= 0.941\n",
      "Model Checkpointed to teachercpt_t1_test\\bigmodel.ckpt \n",
      "Step 400, Validation Loss= 651.7480, Validation Accuracy= 0.947\n",
      "Model Checkpointed to teachercpt_t1_test\\bigmodel.ckpt \n",
      "Step 500, Validation Loss= 522.9631, Validation Accuracy= 0.954\n",
      "Model Checkpointed to teachercpt_t1_test\\bigmodel.ckpt \n",
      "Step 600, Validation Loss= 403.8199, Validation Accuracy= 0.959\n",
      "Model Checkpointed to teachercpt_t1_test\\bigmodel.ckpt \n",
      "Step 700, Validation Loss= 341.4933, Validation Accuracy= 0.963\n",
      "Model Checkpointed to teachercpt_t1_test\\bigmodel.ckpt \n",
      "Step 800, Validation Loss= 317.0540, Validation Accuracy= 0.966\n",
      "Model Checkpointed to teachercpt_t1_test\\bigmodel.ckpt \n",
      "Step 900, Validation Loss= 284.1866, Validation Accuracy= 0.967\n",
      "Model Checkpointed to teachercpt_t1_test\\bigmodel.ckpt \n",
      "Step 1000, Validation Loss= 251.4850, Validation Accuracy= 0.966\n",
      "Model Checkpointed to teachercpt_t1_test\\bigmodel.ckpt \n",
      "Step 1100, Validation Loss= 222.8171, Validation Accuracy= 0.970\n",
      "Model Checkpointed to teachercpt_t1_test\\bigmodel.ckpt \n",
      "Step 1200, Validation Loss= 241.3819, Validation Accuracy= 0.969\n",
      "Model Checkpointed to teachercpt_t1_test\\bigmodel.ckpt \n",
      "Step 1300, Validation Loss= 184.5382, Validation Accuracy= 0.974\n",
      "Model Checkpointed to teachercpt_t1_test\\bigmodel.ckpt \n",
      "Step 1400, Validation Loss= 182.4368, Validation Accuracy= 0.973\n",
      "Model Checkpointed to teachercpt_t1_test\\bigmodel.ckpt \n",
      "Step 1500, Validation Loss= 159.5037, Validation Accuracy= 0.975\n",
      "Model Checkpointed to teachercpt_t1_test\\bigmodel.ckpt \n",
      "Step 1600, Validation Loss= 148.2490, Validation Accuracy= 0.977\n",
      "Model Checkpointed to teachercpt_t1_test\\bigmodel.ckpt \n",
      "Step 1700, Validation Loss= 154.2720, Validation Accuracy= 0.975\n",
      "Model Checkpointed to teachercpt_t1_test\\bigmodel.ckpt \n",
      "Step 1800, Validation Loss= 155.0771, Validation Accuracy= 0.975\n",
      "Model Checkpointed to teachercpt_t1_test\\bigmodel.ckpt \n",
      "Step 1900, Validation Loss= 129.0177, Validation Accuracy= 0.979\n",
      "Model Checkpointed to teachercpt_t1_test\\bigmodel.ckpt \n",
      "Step 2000, Validation Loss= 125.5895, Validation Accuracy= 0.978\n",
      "Model Checkpointed to teachercpt_t1_test\\bigmodel.ckpt \n",
      "Step 2100, Validation Loss= 126.4754, Validation Accuracy= 0.977\n",
      "Model Checkpointed to teachercpt_t1_test\\bigmodel.ckpt \n",
      "Step 2200, Validation Loss= 131.6273, Validation Accuracy= 0.978\n",
      "Model Checkpointed to teachercpt_t1_test\\bigmodel.ckpt \n",
      "Step 2300, Validation Loss= 118.9003, Validation Accuracy= 0.978\n",
      "Model Checkpointed to teachercpt_t1_test\\bigmodel.ckpt \n",
      "Step 2400, Validation Loss= 119.9244, Validation Accuracy= 0.979\n",
      "Model Checkpointed to teachercpt_t1_test\\bigmodel.ckpt \n",
      "Step 2500, Validation Loss= 103.4634, Validation Accuracy= 0.981\n",
      "Model Checkpointed to teachercpt_t1_test\\bigmodel.ckpt \n",
      "Step 2600, Validation Loss= 107.8229, Validation Accuracy= 0.981\n",
      "Model Checkpointed to teachercpt_t1_test\\bigmodel.ckpt \n",
      "Step 2700, Validation Loss= 102.6597, Validation Accuracy= 0.981\n",
      "Model Checkpointed to teachercpt_t1_test\\bigmodel.ckpt \n",
      "Step 2800, Validation Loss= 92.6479, Validation Accuracy= 0.984\n",
      "Model Checkpointed to teachercpt_t1_test\\bigmodel.ckpt \n",
      "Step 2900, Validation Loss= 93.4190, Validation Accuracy= 0.982\n",
      "Model Checkpointed to teachercpt_t1_test\\bigmodel.ckpt \n",
      "Step 3000, Validation Loss= 92.2144, Validation Accuracy= 0.983\n",
      "Model Checkpointed to teachercpt_t1_test\\bigmodel.ckpt \n",
      "Step 3100, Validation Loss= 89.4534, Validation Accuracy= 0.982\n",
      "Model Checkpointed to teachercpt_t1_test\\bigmodel.ckpt \n",
      "Step 3200, Validation Loss= 88.7087, Validation Accuracy= 0.983\n",
      "Model Checkpointed to teachercpt_t1_test\\bigmodel.ckpt \n",
      "Step 3300, Validation Loss= 93.1300, Validation Accuracy= 0.983\n",
      "Model Checkpointed to teachercpt_t1_test\\bigmodel.ckpt \n",
      "Step 3400, Validation Loss= 87.5942, Validation Accuracy= 0.984\n",
      "Model Checkpointed to teachercpt_t1_test\\bigmodel.ckpt \n",
      "Step 3500, Validation Loss= 81.4120, Validation Accuracy= 0.982\n",
      "Model Checkpointed to teachercpt_t1_test\\bigmodel.ckpt \n",
      "Step 3600, Validation Loss= 87.9742, Validation Accuracy= 0.982\n",
      "Model Checkpointed to teachercpt_t1_test\\bigmodel.ckpt \n",
      "Step 3700, Validation Loss= 80.6245, Validation Accuracy= 0.984\n",
      "Model Checkpointed to teachercpt_t1_test\\bigmodel.ckpt \n",
      "Step 3800, Validation Loss= 80.1301, Validation Accuracy= 0.984\n",
      "Model Checkpointed to teachercpt_t1_test\\bigmodel.ckpt \n",
      "Step 3900, Validation Loss= 73.0575, Validation Accuracy= 0.985\n",
      "Model Checkpointed to teachercpt_t1_test\\bigmodel.ckpt \n",
      "Step 4000, Validation Loss= 74.1868, Validation Accuracy= 0.983\n",
      "Model Checkpointed to teachercpt_t1_test\\bigmodel.ckpt \n",
      "Step 4100, Validation Loss= 84.7322, Validation Accuracy= 0.982\n",
      "Model Checkpointed to teachercpt_t1_test\\bigmodel.ckpt \n",
      "Step 4200, Validation Loss= 83.5533, Validation Accuracy= 0.983\n",
      "Model Checkpointed to teachercpt_t1_test\\bigmodel.ckpt \n",
      "Step 4300, Validation Loss= 79.5548, Validation Accuracy= 0.983\n",
      "Model Checkpointed to teachercpt_t1_test\\bigmodel.ckpt \n",
      "Step 4400, Validation Loss= 77.7009, Validation Accuracy= 0.983\n",
      "Model Checkpointed to teachercpt_t1_test\\bigmodel.ckpt \n",
      "Step 4500, Validation Loss= 79.2160, Validation Accuracy= 0.982\n",
      "Model Checkpointed to teachercpt_t1_test\\bigmodel.ckpt \n",
      "Step 4600, Validation Loss= 85.4325, Validation Accuracy= 0.982\n",
      "Model Checkpointed to teachercpt_t1_test\\bigmodel.ckpt \n",
      "Step 4700, Validation Loss= 71.6694, Validation Accuracy= 0.986\n",
      "Model Checkpointed to teachercpt_t1_test\\bigmodel.ckpt \n",
      "Step 4800, Validation Loss= 75.6144, Validation Accuracy= 0.984\n",
      "Model Checkpointed to teachercpt_t1_test\\bigmodel.ckpt \n",
      "Step 4900, Validation Loss= 73.6969, Validation Accuracy= 0.983\n",
      "Model Checkpointed to teachercpt_t1_test\\bigmodel.ckpt \n",
      "Step 5000, Validation Loss= 73.9837, Validation Accuracy= 0.984\n",
      "Model Checkpointed to teachercpt_t1_test\\bigmodel.ckpt \n",
      "Optimization Finished!\n"
     ]
    }
   ],
   "source": [
    "teacher_model.train(dataset)"
   ]
  },
  {
   "cell_type": "markdown",
   "metadata": {},
   "source": [
    "Test the **teacher model** (compute its accuracy againts the testing dataset) on the best model based on the validation set, this is, the *checkpointed model*. "
   ]
  },
  {
   "cell_type": "code",
   "execution_count": 14,
   "metadata": {
    "scrolled": true
   },
   "outputs": [
    {
     "name": "stdout",
     "output_type": "stream",
     "text": [
      "Reading model parameters from teachercpt_t1_test\\bigmodel.ckpt\n",
      "Testing Accuracy: 0.983355\n"
     ]
    }
   ],
   "source": [
    "# Load the best model from created checkpoint\n",
    "teacher_model.load_model_from_file(checkpoint_dir)\n",
    "# Test the model against the testing set\n",
    "teacher_model.run_inference(dataset)"
   ]
  },
  {
   "cell_type": "code",
   "execution_count": 10,
   "metadata": {},
   "outputs": [],
   "source": [
    "# Close current tf session\n",
    "teacher_model.close_session()"
   ]
  },
  {
   "cell_type": "code",
   "execution_count": 11,
   "metadata": {},
   "outputs": [],
   "source": [
    "tf.reset_default_graph()"
   ]
  },
  {
   "cell_type": "markdown",
   "metadata": {},
   "source": [
    "- ### Simple Student Model\n",
    "Simple, as in, trained with the same data and parameters as the teacher model. "
   ]
  },
  {
   "cell_type": "markdown",
   "metadata": {},
   "source": [
    "Output directory for model checkpoint:"
   ]
  },
  {
   "cell_type": "code",
   "execution_count": 6,
   "metadata": {},
   "outputs": [],
   "source": [
    "checkpoint_dir=\"sstudentcpt_t1\"\n",
    "log_dir=checkpoint_dir + \"\\logs\""
   ]
  },
  {
   "cell_type": "markdown",
   "metadata": {},
   "source": [
    "Model definition:"
   ]
  },
  {
   "cell_type": "code",
   "execution_count": 7,
   "metadata": {
    "scrolled": true
   },
   "outputs": [],
   "source": [
    "student_model = model.SmallModel(num_steps=num_steps, \n",
    "                                 batch_size=batch_size,\n",
    "                                 learning_rate=learning_rate,\n",
    "                                 temperature=temperature,\n",
    "                                 dropoutprob=0,\n",
    "                                 checkpoint_dir=checkpoint_dir,\n",
    "                                 log_dir=log_dir,\n",
    "                                 model_type=\"student\");"
   ]
  },
  {
   "cell_type": "markdown",
   "metadata": {},
   "source": [
    "Training:\n",
    "\n",
    "At each step, the validation accuracy is computed and, if maximal, a model checkpoint is created. This is, in a way, analogous to **early stopping**."
   ]
  },
  {
   "cell_type": "code",
   "execution_count": 8,
   "metadata": {},
   "outputs": [
    {
     "name": "stdout",
     "output_type": "stream",
     "text": [
      "Starting Training\n",
      "Model Checkpointed to sstudentcpt_t1\\smallmodel \n",
      "Step 1, Validation Loss= 14.2813, Validation Accuracy= 0.049\n",
      "Model Checkpointed to sstudentcpt_t1\\smallmodel \n",
      "Step 100, Validation Loss= 8.7166, Validation Accuracy= 0.150\n",
      "Model Checkpointed to sstudentcpt_t1\\smallmodel \n",
      "Step 200, Validation Loss= 5.8832, Validation Accuracy= 0.269\n",
      "Model Checkpointed to sstudentcpt_t1\\smallmodel \n",
      "Step 300, Validation Loss= 4.2642, Validation Accuracy= 0.387\n",
      "Model Checkpointed to sstudentcpt_t1\\smallmodel \n",
      "Step 400, Validation Loss= 3.2869, Validation Accuracy= 0.477\n",
      "Model Checkpointed to sstudentcpt_t1\\smallmodel \n",
      "Step 500, Validation Loss= 2.6678, Validation Accuracy= 0.550\n",
      "Model Checkpointed to sstudentcpt_t1\\smallmodel \n",
      "Step 600, Validation Loss= 2.2593, Validation Accuracy= 0.598\n",
      "Model Checkpointed to sstudentcpt_t1\\smallmodel \n",
      "Step 700, Validation Loss= 1.9642, Validation Accuracy= 0.641\n",
      "Model Checkpointed to sstudentcpt_t1\\smallmodel \n",
      "Step 800, Validation Loss= 1.7413, Validation Accuracy= 0.672\n",
      "Model Checkpointed to sstudentcpt_t1\\smallmodel \n",
      "Step 900, Validation Loss= 1.5784, Validation Accuracy= 0.702\n",
      "Model Checkpointed to sstudentcpt_t1\\smallmodel \n",
      "Step 1000, Validation Loss= 1.4350, Validation Accuracy= 0.727\n",
      "Model Checkpointed to sstudentcpt_t1\\smallmodel \n",
      "Step 1100, Validation Loss= 1.3300, Validation Accuracy= 0.742\n",
      "Model Checkpointed to sstudentcpt_t1\\smallmodel \n",
      "Step 1200, Validation Loss= 1.2412, Validation Accuracy= 0.756\n",
      "Model Checkpointed to sstudentcpt_t1\\smallmodel \n",
      "Step 1300, Validation Loss= 1.1614, Validation Accuracy= 0.769\n",
      "Model Checkpointed to sstudentcpt_t1\\smallmodel \n",
      "Step 1400, Validation Loss= 1.0954, Validation Accuracy= 0.779\n",
      "Model Checkpointed to sstudentcpt_t1\\smallmodel \n",
      "Step 1500, Validation Loss= 1.0418, Validation Accuracy= 0.791\n",
      "Model Checkpointed to sstudentcpt_t1\\smallmodel \n",
      "Step 1600, Validation Loss= 0.9928, Validation Accuracy= 0.797\n",
      "Model Checkpointed to sstudentcpt_t1\\smallmodel \n",
      "Step 1700, Validation Loss= 0.9469, Validation Accuracy= 0.807\n",
      "Model Checkpointed to sstudentcpt_t1\\smallmodel \n",
      "Step 1800, Validation Loss= 0.9103, Validation Accuracy= 0.812\n",
      "Model Checkpointed to sstudentcpt_t1\\smallmodel \n",
      "Step 1900, Validation Loss= 0.8737, Validation Accuracy= 0.821\n",
      "Model Checkpointed to sstudentcpt_t1\\smallmodel \n",
      "Step 2000, Validation Loss= 0.8444, Validation Accuracy= 0.828\n",
      "Model Checkpointed to sstudentcpt_t1\\smallmodel \n",
      "Step 2100, Validation Loss= 0.8118, Validation Accuracy= 0.834\n",
      "Model Checkpointed to sstudentcpt_t1\\smallmodel \n",
      "Step 2200, Validation Loss= 0.7900, Validation Accuracy= 0.839\n",
      "Model Checkpointed to sstudentcpt_t1\\smallmodel \n",
      "Step 2300, Validation Loss= 0.7672, Validation Accuracy= 0.842\n",
      "Model Checkpointed to sstudentcpt_t1\\smallmodel \n",
      "Step 2400, Validation Loss= 0.7467, Validation Accuracy= 0.846\n",
      "Model Checkpointed to sstudentcpt_t1\\smallmodel \n",
      "Step 2500, Validation Loss= 0.7277, Validation Accuracy= 0.849\n",
      "Model Checkpointed to sstudentcpt_t1\\smallmodel \n",
      "Step 2600, Validation Loss= 0.7081, Validation Accuracy= 0.851\n",
      "Model Checkpointed to sstudentcpt_t1\\smallmodel \n",
      "Step 2700, Validation Loss= 0.6917, Validation Accuracy= 0.856\n",
      "Model Checkpointed to sstudentcpt_t1\\smallmodel \n",
      "Step 2800, Validation Loss= 0.6787, Validation Accuracy= 0.857\n",
      "Model Checkpointed to sstudentcpt_t1\\smallmodel \n",
      "Step 2900, Validation Loss= 0.6639, Validation Accuracy= 0.858\n",
      "Model Checkpointed to sstudentcpt_t1\\smallmodel \n",
      "Step 3000, Validation Loss= 0.6505, Validation Accuracy= 0.861\n",
      "Model Checkpointed to sstudentcpt_t1\\smallmodel \n",
      "Step 3100, Validation Loss= 0.6400, Validation Accuracy= 0.861\n",
      "Model Checkpointed to sstudentcpt_t1\\smallmodel \n",
      "Step 3200, Validation Loss= 0.6287, Validation Accuracy= 0.864\n",
      "Model Checkpointed to sstudentcpt_t1\\smallmodel \n",
      "Step 3300, Validation Loss= 0.6147, Validation Accuracy= 0.865\n",
      "Model Checkpointed to sstudentcpt_t1\\smallmodel \n",
      "Step 3400, Validation Loss= 0.6037, Validation Accuracy= 0.868\n",
      "Model Checkpointed to sstudentcpt_t1\\smallmodel \n",
      "Step 3500, Validation Loss= 0.5950, Validation Accuracy= 0.870\n",
      "Model Checkpointed to sstudentcpt_t1\\smallmodel \n",
      "Step 3600, Validation Loss= 0.5884, Validation Accuracy= 0.869\n",
      "Model Checkpointed to sstudentcpt_t1\\smallmodel \n",
      "Step 3700, Validation Loss= 0.5795, Validation Accuracy= 0.872\n",
      "Model Checkpointed to sstudentcpt_t1\\smallmodel \n",
      "Step 3800, Validation Loss= 0.5696, Validation Accuracy= 0.875\n",
      "Model Checkpointed to sstudentcpt_t1\\smallmodel \n",
      "Step 3900, Validation Loss= 0.5613, Validation Accuracy= 0.876\n",
      "Model Checkpointed to sstudentcpt_t1\\smallmodel \n",
      "Step 4000, Validation Loss= 0.5528, Validation Accuracy= 0.876\n",
      "Model Checkpointed to sstudentcpt_t1\\smallmodel \n",
      "Step 4100, Validation Loss= 0.5485, Validation Accuracy= 0.880\n",
      "Model Checkpointed to sstudentcpt_t1\\smallmodel \n",
      "Step 4200, Validation Loss= 0.5398, Validation Accuracy= 0.880\n",
      "Model Checkpointed to sstudentcpt_t1\\smallmodel \n",
      "Step 4300, Validation Loss= 0.5353, Validation Accuracy= 0.883\n",
      "Model Checkpointed to sstudentcpt_t1\\smallmodel \n",
      "Step 4400, Validation Loss= 0.5288, Validation Accuracy= 0.883\n",
      "Model Checkpointed to sstudentcpt_t1\\smallmodel \n",
      "Step 4500, Validation Loss= 0.5228, Validation Accuracy= 0.885\n",
      "Model Checkpointed to sstudentcpt_t1\\smallmodel \n",
      "Step 4600, Validation Loss= 0.5160, Validation Accuracy= 0.884\n",
      "Model Checkpointed to sstudentcpt_t1\\smallmodel \n",
      "Step 4700, Validation Loss= 0.5114, Validation Accuracy= 0.885\n",
      "Model Checkpointed to sstudentcpt_t1\\smallmodel \n",
      "Step 4800, Validation Loss= 0.5118, Validation Accuracy= 0.886\n",
      "Model Checkpointed to sstudentcpt_t1\\smallmodel \n",
      "Step 4900, Validation Loss= 0.5025, Validation Accuracy= 0.889\n",
      "Model Checkpointed to sstudentcpt_t1\\smallmodel \n",
      "Step 5000, Validation Loss= 0.4977, Validation Accuracy= 0.889\n",
      "Model Checkpointed to sstudentcpt_t1\\smallmodel \n",
      "Step 5000, Validation Loss= 0.4977, Validation Accuracy= 0.889\n",
      "Optimization Finished!\n"
     ]
    }
   ],
   "source": [
    "student_model.start_session()\n",
    "student_model.train(dataset)"
   ]
  },
  {
   "cell_type": "markdown",
   "metadata": {},
   "source": [
    "Test the **student model** (compute its accuracy againts the testing dataset) on the best model based on the validation set, this is, the *checkpointed model*. "
   ]
  },
  {
   "cell_type": "code",
   "execution_count": 9,
   "metadata": {
    "scrolled": true
   },
   "outputs": [
    {
     "name": "stdout",
     "output_type": "stream",
     "text": [
      "Reading model parameters from sstudentcpt_t1\\smallmodel\n",
      "Testing Accuracy: 0.882048\n"
     ]
    }
   ],
   "source": [
    "# Load the best model from created checkpoint\n",
    "student_model.load_model_from_file(checkpoint_dir)\n",
    "# Test the model against the testing set\n",
    "student_model.run_inference(dataset)"
   ]
  },
  {
   "cell_type": "code",
   "execution_count": 10,
   "metadata": {},
   "outputs": [],
   "source": [
    "# Close current tf session\n",
    "student_model.close_session()"
   ]
  },
  {
   "cell_type": "markdown",
   "metadata": {},
   "source": [
    "- ### Distilled Student Model\n",
    "Training data consists of the **logits** from the Teacher Model predictions of the standard training set."
   ]
  },
  {
   "cell_type": "markdown",
   "metadata": {},
   "source": [
    "Pretrained **teacher model** loading:"
   ]
  },
  {
   "cell_type": "code",
   "execution_count": 6,
   "metadata": {},
   "outputs": [],
   "source": [
    "checkpoint_dir = \"teachercpt_t1\"\n",
    "log_dir=checkpoint_dir + \"\\logs\""
   ]
  },
  {
   "cell_type": "code",
   "execution_count": 7,
   "metadata": {},
   "outputs": [],
   "source": [
    "# Model definition\n",
    "teacher_model = model.BigModel(num_steps=num_steps, \n",
    "                               batch_size=batch_size,\n",
    "                               learning_rate=learning_rate,\n",
    "                               temperature=temperature,\n",
    "                               dropoutprob=dropout,\n",
    "                               checkpoint_dir=checkpoint_dir,\n",
    "                               log_dir=log_dir,\n",
    "                               model_type=\"teacher\");\n",
    "# Start tf session\n",
    "teacher_model.start_session()"
   ]
  },
  {
   "cell_type": "code",
   "execution_count": 8,
   "metadata": {},
   "outputs": [
    {
     "name": "stdout",
     "output_type": "stream",
     "text": [
      "Reading model parameters from teachercpt_t1\\bigmodel.ckpt\n"
     ]
    }
   ],
   "source": [
    "# Load best model from teacher checkpoint\n",
    "teacher_model.load_model_from_file(checkpoint_dir)"
   ]
  },
  {
   "cell_type": "markdown",
   "metadata": {},
   "source": [
    "Verify **teacher** model state before training **student**:"
   ]
  },
  {
   "cell_type": "code",
   "execution_count": 9,
   "metadata": {
    "scrolled": true
   },
   "outputs": [
    {
     "name": "stdout",
     "output_type": "stream",
     "text": [
      "Testing Accuracy: 0.978456\n"
     ]
    }
   ],
   "source": [
    "# Test the model against the testing set\n",
    "teacher_model.run_inference(dataset)"
   ]
  },
  {
   "cell_type": "markdown",
   "metadata": {},
   "source": [
    "Testing for a good temperature (one that better softens the probabilities):"
   ]
  },
  {
   "cell_type": "code",
   "execution_count": 10,
   "metadata": {},
   "outputs": [],
   "source": [
    "test_images, test_labels = dataset.get_test_data()"
   ]
  },
  {
   "cell_type": "code",
   "execution_count": 38,
   "metadata": {},
   "outputs": [],
   "source": [
    "res1 = teacher_model.predict(test_images[:10],5000)\n",
    "res2 = teacher_model.predict(test_images[:10],6000)\n",
    "res3 = teacher_model.predict(test_images[:10],7000)\n",
    "res4 = teacher_model.predict(test_images[:10],8000)\n",
    "res5 = teacher_model.predict(test_images[:10],9000)\n",
    "res6 = teacher_model.predict(test_images[:10],10000)"
   ]
  },
  {
   "cell_type": "code",
   "execution_count": 39,
   "metadata": {
    "scrolled": true
   },
   "outputs": [
    {
     "data": {
      "image/png": "[encoded data removed]",
      "text/plain": [
       "<Figure size 720x720 with 6 Axes>"
      ]
     },
     "metadata": {
      "needs_background": "light"
     },
     "output_type": "display_data"
    }
   ],
   "source": [
    "f = plt.figure(figsize=(10,10))\n",
    "f.add_subplot(1,6, 1)\n",
    "plt.imshow(res4, cmap='gnuplot', interpolation='nearest')\n",
    "title_obj = plt.title('T=8000')\n",
    "plt.axis('off')\n",
    "f.add_subplot(1,6, 2)\n",
    "plt.imshow(res5, cmap='gnuplot', interpolation='nearest')\n",
    "title_obj = plt.title('T=9000')\n",
    "plt.axis('off')\n",
    "f.add_subplot(1,6, 3)\n",
    "plt.imshow(res6, cmap='gnuplot', interpolation='nearest')\n",
    "title_obj = plt.title('T=10000')\n",
    "plt.axis('off')\n",
    "f.add_subplot(2,6, 1)\n",
    "plt.imshow(res4, cmap='gnuplot', interpolation='nearest')\n",
    "title_obj = plt.title('T=5000')\n",
    "plt.axis('off')\n",
    "f.add_subplot(2,6, 2)\n",
    "plt.imshow(res1, cmap='gnuplot', interpolation='nearest')\n",
    "title_obj = plt.title('T=6000')\n",
    "plt.axis('off')\n",
    "f.add_subplot(2,6, 3)\n",
    "plt.imshow(res2, cmap='gnuplot', interpolation='nearest')\n",
    "title_obj = plt.title('T=7000')\n",
    "plt.axis('off')\n",
    "plt.show()"
   ]
  },
  {
   "cell_type": "markdown",
   "metadata": {},
   "source": [
    "Output directory for distilled student model checkpoint:"
   ]
  },
  {
   "cell_type": "code",
   "execution_count": 40,
   "metadata": {},
   "outputs": [],
   "source": [
    "checkpoint_dir=\"dstudentcpt_t8000\"\n",
    "log_dir=checkpoint_dir + \"\\logs\""
   ]
  },
  {
   "cell_type": "markdown",
   "metadata": {},
   "source": [
    "Student model definition:"
   ]
  },
  {
   "cell_type": "code",
   "execution_count": 41,
   "metadata": {
    "scrolled": true
   },
   "outputs": [],
   "source": [
    "student_model = model.SmallModel(num_steps=num_steps, \n",
    "                                 batch_size=batch_size,\n",
    "                                 learning_rate=0.001,\n",
    "                                 temperature=8000,\n",
    "                                 dropoutprob=0,\n",
    "                                 checkpoint_dir=checkpoint_dir,\n",
    "                                 log_dir=log_dir,\n",
    "                                 model_type=\"student\");"
   ]
  },
  {
   "cell_type": "markdown",
   "metadata": {},
   "source": [
    "Training:\n",
    "\n",
    "At each step, the validation accuracy is computed and, if maximal, a model checkpoint is created. This is, in a way, analogous to **early stopping**."
   ]
  },
  {
   "cell_type": "code",
   "execution_count": 42,
   "metadata": {},
   "outputs": [
    {
     "name": "stdout",
     "output_type": "stream",
     "text": [
      "Starting Training\n",
      "Model Checkpointed to dstudentcpt_t8000\\smallmodel \n",
      "Step 1, Validation Loss= 2617.7761, Validation Accuracy= 0.142\n",
      "Model Checkpointed to dstudentcpt_t8000\\smallmodel \n",
      "Step 100, Validation Loss= 896.4868, Validation Accuracy= 0.744\n",
      "Model Checkpointed to dstudentcpt_t8000\\smallmodel \n",
      "Step 200, Validation Loss= 799.4957, Validation Accuracy= 0.831\n",
      "Model Checkpointed to dstudentcpt_t8000\\smallmodel \n",
      "Step 300, Validation Loss= 757.0855, Validation Accuracy= 0.866\n",
      "Model Checkpointed to dstudentcpt_t8000\\smallmodel \n",
      "Step 400, Validation Loss= 734.1108, Validation Accuracy= 0.883\n",
      "Model Checkpointed to dstudentcpt_t8000\\smallmodel \n",
      "Step 500, Validation Loss= 729.3098, Validation Accuracy= 0.891\n",
      "Model Checkpointed to dstudentcpt_t8000\\smallmodel \n",
      "Step 600, Validation Loss= 707.3793, Validation Accuracy= 0.894\n",
      "Model Checkpointed to dstudentcpt_t8000\\smallmodel \n",
      "Step 700, Validation Loss= 689.8049, Validation Accuracy= 0.897\n",
      "Model Checkpointed to dstudentcpt_t8000\\smallmodel \n",
      "Step 800, Validation Loss= 675.2828, Validation Accuracy= 0.901\n",
      "Model Checkpointed to dstudentcpt_t8000\\smallmodel \n",
      "Step 900, Validation Loss= 663.5018, Validation Accuracy= 0.904\n",
      "Model Checkpointed to dstudentcpt_t8000\\smallmodel \n",
      "Step 1000, Validation Loss= 648.8445, Validation Accuracy= 0.906\n",
      "Model Checkpointed to dstudentcpt_t8000\\smallmodel \n",
      "Step 1100, Validation Loss= 655.8546, Validation Accuracy= 0.906\n",
      "Model Checkpointed to dstudentcpt_t8000\\smallmodel \n",
      "Step 1200, Validation Loss= 655.5576, Validation Accuracy= 0.908\n",
      "Model Checkpointed to dstudentcpt_t8000\\smallmodel \n",
      "Step 1300, Validation Loss= 636.4265, Validation Accuracy= 0.910\n",
      "Model Checkpointed to dstudentcpt_t8000\\smallmodel \n",
      "Step 1400, Validation Loss= 647.0334, Validation Accuracy= 0.910\n",
      "Model Checkpointed to dstudentcpt_t8000\\smallmodel \n",
      "Step 1500, Validation Loss= 649.0103, Validation Accuracy= 0.909\n",
      "Model Checkpointed to dstudentcpt_t8000\\smallmodel \n",
      "Step 1600, Validation Loss= 637.5186, Validation Accuracy= 0.910\n",
      "Model Checkpointed to dstudentcpt_t8000\\smallmodel \n",
      "Step 1700, Validation Loss= 630.0280, Validation Accuracy= 0.912\n",
      "Model Checkpointed to dstudentcpt_t8000\\smallmodel \n",
      "Step 1800, Validation Loss= 634.3500, Validation Accuracy= 0.911\n",
      "Model Checkpointed to dstudentcpt_t8000\\smallmodel \n",
      "Step 1900, Validation Loss= 638.6804, Validation Accuracy= 0.912\n",
      "Model Checkpointed to dstudentcpt_t8000\\smallmodel \n",
      "Step 2000, Validation Loss= 632.7715, Validation Accuracy= 0.909\n",
      "Model Checkpointed to dstudentcpt_t8000\\smallmodel \n",
      "Step 2100, Validation Loss= 638.1799, Validation Accuracy= 0.910\n",
      "Model Checkpointed to dstudentcpt_t8000\\smallmodel \n",
      "Step 2200, Validation Loss= 635.0372, Validation Accuracy= 0.912\n",
      "Model Checkpointed to dstudentcpt_t8000\\smallmodel \n",
      "Step 2300, Validation Loss= 647.4020, Validation Accuracy= 0.909\n",
      "Model Checkpointed to dstudentcpt_t8000\\smallmodel \n",
      "Step 2400, Validation Loss= 652.8011, Validation Accuracy= 0.909\n",
      "Model Checkpointed to dstudentcpt_t8000\\smallmodel \n",
      "Step 2500, Validation Loss= 623.5814, Validation Accuracy= 0.913\n",
      "Model Checkpointed to dstudentcpt_t8000\\smallmodel \n",
      "Step 2600, Validation Loss= 631.9876, Validation Accuracy= 0.913\n",
      "Model Checkpointed to dstudentcpt_t8000\\smallmodel \n",
      "Step 2700, Validation Loss= 646.9571, Validation Accuracy= 0.910\n",
      "Model Checkpointed to dstudentcpt_t8000\\smallmodel \n",
      "Step 2800, Validation Loss= 633.4540, Validation Accuracy= 0.911\n",
      "Model Checkpointed to dstudentcpt_t8000\\smallmodel \n",
      "Step 2900, Validation Loss= 636.9375, Validation Accuracy= 0.912\n",
      "Model Checkpointed to dstudentcpt_t8000\\smallmodel \n",
      "Step 3000, Validation Loss= 630.4131, Validation Accuracy= 0.913\n",
      "Model Checkpointed to dstudentcpt_t8000\\smallmodel \n",
      "Step 3100, Validation Loss= 626.5218, Validation Accuracy= 0.913\n",
      "Model Checkpointed to dstudentcpt_t8000\\smallmodel \n",
      "Step 3200, Validation Loss= 631.3018, Validation Accuracy= 0.912\n",
      "Model Checkpointed to dstudentcpt_t8000\\smallmodel \n",
      "Step 3300, Validation Loss= 623.4662, Validation Accuracy= 0.914\n",
      "Model Checkpointed to dstudentcpt_t8000\\smallmodel \n",
      "Step 3400, Validation Loss= 621.7513, Validation Accuracy= 0.913\n",
      "Model Checkpointed to dstudentcpt_t8000\\smallmodel \n",
      "Step 3500, Validation Loss= 622.6390, Validation Accuracy= 0.912\n",
      "Model Checkpointed to dstudentcpt_t8000\\smallmodel \n",
      "Step 3600, Validation Loss= 633.2756, Validation Accuracy= 0.914\n",
      "Model Checkpointed to dstudentcpt_t8000\\smallmodel \n",
      "Step 3700, Validation Loss= 639.6023, Validation Accuracy= 0.912\n",
      "Model Checkpointed to dstudentcpt_t8000\\smallmodel \n",
      "Step 3800, Validation Loss= 621.2153, Validation Accuracy= 0.913\n",
      "Model Checkpointed to dstudentcpt_t8000\\smallmodel \n",
      "Step 3900, Validation Loss= 628.0228, Validation Accuracy= 0.912\n",
      "Model Checkpointed to dstudentcpt_t8000\\smallmodel \n",
      "Step 4000, Validation Loss= 630.9894, Validation Accuracy= 0.913\n",
      "Model Checkpointed to dstudentcpt_t8000\\smallmodel \n",
      "Step 4100, Validation Loss= 636.7376, Validation Accuracy= 0.912\n",
      "Model Checkpointed to dstudentcpt_t8000\\smallmodel \n",
      "Step 4200, Validation Loss= 615.1827, Validation Accuracy= 0.913\n",
      "Model Checkpointed to dstudentcpt_t8000\\smallmodel \n",
      "Step 4300, Validation Loss= 632.7657, Validation Accuracy= 0.913\n",
      "Model Checkpointed to dstudentcpt_t8000\\smallmodel \n",
      "Step 4400, Validation Loss= 637.7316, Validation Accuracy= 0.912\n",
      "Model Checkpointed to dstudentcpt_t8000\\smallmodel \n",
      "Step 4500, Validation Loss= 631.6641, Validation Accuracy= 0.914\n",
      "Model Checkpointed to dstudentcpt_t8000\\smallmodel \n",
      "Step 4600, Validation Loss= 621.4637, Validation Accuracy= 0.913\n",
      "Model Checkpointed to dstudentcpt_t8000\\smallmodel \n",
      "Step 4700, Validation Loss= 623.8689, Validation Accuracy= 0.914\n",
      "Model Checkpointed to dstudentcpt_t8000\\smallmodel \n",
      "Step 4800, Validation Loss= 624.2830, Validation Accuracy= 0.915\n",
      "Model Checkpointed to dstudentcpt_t8000\\smallmodel \n",
      "Step 4900, Validation Loss= 639.1384, Validation Accuracy= 0.914\n",
      "Model Checkpointed to dstudentcpt_t8000\\smallmodel \n",
      "Step 5000, Validation Loss= 629.6649, Validation Accuracy= 0.914\n",
      "Model Checkpointed to dstudentcpt_t8000\\smallmodel \n",
      "Step 5000, Validation Loss= 629.6649, Validation Accuracy= 0.914\n",
      "Optimization Finished!\n"
     ]
    }
   ],
   "source": [
    "student_model.start_session()\n",
    "student_model.train(dataset, teacher_model)"
   ]
  },
  {
   "cell_type": "markdown",
   "metadata": {},
   "source": [
    "Test the **distilled student model** (compute its accuracy againts the testing dataset) on the best model based on the validation set, this is, the *checkpointed model*. "
   ]
  },
  {
   "cell_type": "code",
   "execution_count": 43,
   "metadata": {
    "scrolled": true
   },
   "outputs": [
    {
     "name": "stdout",
     "output_type": "stream",
     "text": [
      "Reading model parameters from dstudentcpt_t8000\\smallmodel\n",
      "Testing Accuracy: 0.909856\n"
     ]
    }
   ],
   "source": [
    "# Load the best model from created checkpoint\n",
    "student_model.load_model_from_file(checkpoint_dir)\n",
    "# Test the model against the testing set\n",
    "student_model.run_inference(dataset)"
   ]
  },
  {
   "cell_type": "code",
   "execution_count": null,
   "metadata": {},
   "outputs": [],
   "source": [
    "# Close current tf sessions\n",
    "teacher_model.close_session()\n",
    "student_model.close_session()"
   ]
  },
  {
   "cell_type": "markdown",
   "metadata": {},
   "source": [
    "## Logits from file"
   ]
  },
  {
   "cell_type": "code",
   "execution_count": 12,
   "metadata": {},
   "outputs": [],
   "source": [
    "def unpickle(file):    \n",
    "    with open(file, 'rb') as fo:\n",
    "        dict = pickle.load(fo, encoding='bytes')\n",
    "    return dict"
   ]
  },
  {
   "cell_type": "code",
   "execution_count": 13,
   "metadata": {
    "scrolled": true
   },
   "outputs": [],
   "source": [
    "logits_train = unpickle('logits_dir/resnet164_logits_train.txt')"
   ]
  },
  {
   "cell_type": "code",
   "execution_count": 14,
   "metadata": {},
   "outputs": [
    {
     "data": {
      "text/plain": [
       "[]"
      ]
     },
     "execution_count": 14,
     "metadata": {},
     "output_type": "execute_result"
    }
   ],
   "source": [
    "logits_train"
   ]
  },
  {
   "cell_type": "markdown",
   "metadata": {},
   "source": [
    "## Experiments"
   ]
  },
  {
   "cell_type": "markdown",
   "metadata": {},
   "source": [
    "- ### 1. Learn from Probabilities\n",
    "Take a class out from the training set for the Distilled Model, and later test the accuracy for that class. "
   ]
  },
  {
   "cell_type": "code",
   "execution_count": 6,
   "metadata": {
    "scrolled": true
   },
   "outputs": [
    {
     "name": "stdout",
     "output_type": "stream",
     "text": [
      "Extracting ./train-images-idx3-ubyte.gz\n",
      "Extracting ./train-labels-idx1-ubyte.gz\n",
      "Extracting ./t10k-images-idx3-ubyte.gz\n",
      "Extracting ./t10k-labels-idx1-ubyte.gz\n",
      "55000\n"
     ]
    }
   ],
   "source": [
    "# MNIST dataset with class 3 excluded from training\n",
    "dataset_ex = data.DatasetExclude(batch_size=128, exclude_class=[3])"
   ]
  },
  {
   "cell_type": "markdown",
   "metadata": {},
   "source": [
    "Pretrained **teacher model** loading:"
   ]
  },
  {
   "cell_type": "code",
   "execution_count": 7,
   "metadata": {},
   "outputs": [],
   "source": [
    "checkpoint_dir = \"teachercpt_t1\"\n",
    "log_dir=checkpoint_dir + \"\\logs\""
   ]
  },
  {
   "cell_type": "code",
   "execution_count": 8,
   "metadata": {},
   "outputs": [],
   "source": [
    "# Model definition\n",
    "teacher_model = model.BigModel(num_steps=num_steps, \n",
    "                               batch_size=batch_size,\n",
    "                               learning_rate=learning_rate,\n",
    "                               temperature=temperature,\n",
    "                               dropoutprob=dropout,\n",
    "                               checkpoint_dir=checkpoint_dir,\n",
    "                               log_dir=log_dir,\n",
    "                               model_type=\"teacher\");\n",
    "# Start tf session\n",
    "teacher_model.start_session()"
   ]
  },
  {
   "cell_type": "code",
   "execution_count": 9,
   "metadata": {},
   "outputs": [
    {
     "name": "stdout",
     "output_type": "stream",
     "text": [
      "Reading model parameters from teachercpt_t1\\bigmodel.ckpt\n"
     ]
    }
   ],
   "source": [
    "# Load best model from teacher checkpoint\n",
    "teacher_model.load_model_from_file(checkpoint_dir)"
   ]
  },
  {
   "cell_type": "markdown",
   "metadata": {},
   "source": [
    "Verify **teacher** model state before training **student**:"
   ]
  },
  {
   "cell_type": "code",
   "execution_count": 10,
   "metadata": {
    "scrolled": true
   },
   "outputs": [
    {
     "name": "stdout",
     "output_type": "stream",
     "text": [
      "Testing Accuracy: 0.978329\n"
     ]
    }
   ],
   "source": [
    "# Test the model against the testing set\n",
    "teacher_model.run_inference(dataset)"
   ]
  },
  {
   "cell_type": "markdown",
   "metadata": {},
   "source": [
    "Output directory for distilled student model checkpoint:"
   ]
  },
  {
   "cell_type": "code",
   "execution_count": 11,
   "metadata": {},
   "outputs": [],
   "source": [
    "checkpoint_dir=\"ex1_dstudentcpt_t8000_gd\"\n",
    "log_dir=checkpoint_dir + \"\\logs\""
   ]
  },
  {
   "cell_type": "markdown",
   "metadata": {},
   "source": [
    "Student model definition:"
   ]
  },
  {
   "cell_type": "code",
   "execution_count": 12,
   "metadata": {
    "scrolled": true
   },
   "outputs": [],
   "source": [
    "student_model = model.SmallModel(num_steps=5000, \n",
    "                                 batch_size=batch_size,\n",
    "                                 learning_rate=0.001,\n",
    "                                 temperature=8000,\n",
    "                                 dropoutprob=0,\n",
    "                                 checkpoint_dir=checkpoint_dir,\n",
    "                                 log_dir=log_dir,\n",
    "                                 model_type=\"student\");"
   ]
  },
  {
   "cell_type": "markdown",
   "metadata": {},
   "source": [
    "Training:\n",
    "\n",
    "At each step, the validation accuracy is computed and, if maximal, a model checkpoint is created. This is, in a way, analogous to **early stopping**."
   ]
  },
  {
   "cell_type": "code",
   "execution_count": 13,
   "metadata": {},
   "outputs": [],
   "source": [
    "student_model.start_session()"
   ]
  },
  {
   "cell_type": "code",
   "execution_count": 14,
   "metadata": {},
   "outputs": [
    {
     "name": "stdout",
     "output_type": "stream",
     "text": [
      "Starting Training\n",
      "Model Checkpointed to ex1_dstudentcpt_t8000_gd\\smallmodel \n",
      "Step 1, Validation Loss= 3657.5715, Validation Accuracy= 0.108\n",
      "Model Checkpointed to ex1_dstudentcpt_t8000_gd\\smallmodel \n",
      "Step 100, Validation Loss= 2197.6946, Validation Accuracy= 0.684\n",
      "Model Checkpointed to ex1_dstudentcpt_t8000_gd\\smallmodel \n",
      "Step 200, Validation Loss= 2170.9675, Validation Accuracy= 0.760\n",
      "Model Checkpointed to ex1_dstudentcpt_t8000_gd\\smallmodel \n",
      "Step 300, Validation Loss= 2080.8770, Validation Accuracy= 0.784\n",
      "Model Checkpointed to ex1_dstudentcpt_t8000_gd\\smallmodel \n",
      "Step 400, Validation Loss= 1974.6926, Validation Accuracy= 0.796\n",
      "Model Checkpointed to ex1_dstudentcpt_t8000_gd\\smallmodel \n",
      "Step 500, Validation Loss= 1905.7006, Validation Accuracy= 0.801\n",
      "Model Checkpointed to ex1_dstudentcpt_t8000_gd\\smallmodel \n",
      "Step 600, Validation Loss= 1834.5573, Validation Accuracy= 0.807\n",
      "Model Checkpointed to ex1_dstudentcpt_t8000_gd\\smallmodel \n",
      "Step 700, Validation Loss= 1797.7828, Validation Accuracy= 0.809\n",
      "Model Checkpointed to ex1_dstudentcpt_t8000_gd\\smallmodel \n",
      "Step 800, Validation Loss= 1723.4626, Validation Accuracy= 0.812\n",
      "Model Checkpointed to ex1_dstudentcpt_t8000_gd\\smallmodel \n",
      "Step 900, Validation Loss= 1685.4470, Validation Accuracy= 0.813\n",
      "Model Checkpointed to ex1_dstudentcpt_t8000_gd\\smallmodel \n",
      "Step 1000, Validation Loss= 1648.3879, Validation Accuracy= 0.816\n",
      "Model Checkpointed to ex1_dstudentcpt_t8000_gd\\smallmodel \n",
      "Step 1100, Validation Loss= 1640.8632, Validation Accuracy= 0.816\n",
      "Model Checkpointed to ex1_dstudentcpt_t8000_gd\\smallmodel \n",
      "Step 1200, Validation Loss= 1586.8141, Validation Accuracy= 0.820\n",
      "Model Checkpointed to ex1_dstudentcpt_t8000_gd\\smallmodel \n",
      "Step 1300, Validation Loss= 1567.7660, Validation Accuracy= 0.821\n",
      "Model Checkpointed to ex1_dstudentcpt_t8000_gd\\smallmodel \n",
      "Step 1400, Validation Loss= 1525.2974, Validation Accuracy= 0.821\n",
      "Model Checkpointed to ex1_dstudentcpt_t8000_gd\\smallmodel \n",
      "Step 1500, Validation Loss= 1487.1949, Validation Accuracy= 0.824\n",
      "Model Checkpointed to ex1_dstudentcpt_t8000_gd\\smallmodel \n",
      "Step 1600, Validation Loss= 1509.6219, Validation Accuracy= 0.824\n",
      "Model Checkpointed to ex1_dstudentcpt_t8000_gd\\smallmodel \n",
      "Step 1700, Validation Loss= 1467.7440, Validation Accuracy= 0.825\n",
      "Model Checkpointed to ex1_dstudentcpt_t8000_gd\\smallmodel \n",
      "Step 1800, Validation Loss= 1448.2126, Validation Accuracy= 0.827\n",
      "Model Checkpointed to ex1_dstudentcpt_t8000_gd\\smallmodel \n",
      "Step 1900, Validation Loss= 1442.3571, Validation Accuracy= 0.827\n",
      "Model Checkpointed to ex1_dstudentcpt_t8000_gd\\smallmodel \n",
      "Step 2000, Validation Loss= 1446.4189, Validation Accuracy= 0.828\n",
      "Model Checkpointed to ex1_dstudentcpt_t8000_gd\\smallmodel \n",
      "Step 2100, Validation Loss= 1396.9882, Validation Accuracy= 0.828\n",
      "Model Checkpointed to ex1_dstudentcpt_t8000_gd\\smallmodel \n",
      "Step 2200, Validation Loss= 1406.3544, Validation Accuracy= 0.830\n",
      "Model Checkpointed to ex1_dstudentcpt_t8000_gd\\smallmodel \n",
      "Step 2300, Validation Loss= 1409.9749, Validation Accuracy= 0.830\n",
      "Model Checkpointed to ex1_dstudentcpt_t8000_gd\\smallmodel \n",
      "Step 2400, Validation Loss= 1380.0198, Validation Accuracy= 0.831\n",
      "Model Checkpointed to ex1_dstudentcpt_t8000_gd\\smallmodel \n",
      "Step 2500, Validation Loss= 1375.4518, Validation Accuracy= 0.832\n",
      "Model Checkpointed to ex1_dstudentcpt_t8000_gd\\smallmodel \n",
      "Step 2600, Validation Loss= 1367.3727, Validation Accuracy= 0.833\n",
      "Model Checkpointed to ex1_dstudentcpt_t8000_gd\\smallmodel \n",
      "Step 2700, Validation Loss= 1337.9050, Validation Accuracy= 0.834\n",
      "Model Checkpointed to ex1_dstudentcpt_t8000_gd\\smallmodel \n",
      "Step 2800, Validation Loss= 1351.8160, Validation Accuracy= 0.833\n",
      "Model Checkpointed to ex1_dstudentcpt_t8000_gd\\smallmodel \n",
      "Step 2900, Validation Loss= 1330.8370, Validation Accuracy= 0.836\n",
      "Model Checkpointed to ex1_dstudentcpt_t8000_gd\\smallmodel \n",
      "Step 3000, Validation Loss= 1335.4440, Validation Accuracy= 0.836\n",
      "Model Checkpointed to ex1_dstudentcpt_t8000_gd\\smallmodel \n",
      "Step 3100, Validation Loss= 1340.4314, Validation Accuracy= 0.835\n",
      "Model Checkpointed to ex1_dstudentcpt_t8000_gd\\smallmodel \n",
      "Step 3200, Validation Loss= 1323.9857, Validation Accuracy= 0.836\n",
      "Model Checkpointed to ex1_dstudentcpt_t8000_gd\\smallmodel \n",
      "Step 3300, Validation Loss= 1318.3140, Validation Accuracy= 0.836\n",
      "Model Checkpointed to ex1_dstudentcpt_t8000_gd\\smallmodel \n",
      "Step 3400, Validation Loss= 1337.0055, Validation Accuracy= 0.836\n",
      "Model Checkpointed to ex1_dstudentcpt_t8000_gd\\smallmodel \n",
      "Step 3500, Validation Loss= 1327.7832, Validation Accuracy= 0.835\n",
      "Model Checkpointed to ex1_dstudentcpt_t8000_gd\\smallmodel \n",
      "Step 3600, Validation Loss= 1290.9121, Validation Accuracy= 0.836\n",
      "Model Checkpointed to ex1_dstudentcpt_t8000_gd\\smallmodel \n",
      "Step 3700, Validation Loss= 1303.6740, Validation Accuracy= 0.836\n",
      "Model Checkpointed to ex1_dstudentcpt_t8000_gd\\smallmodel \n",
      "Step 3800, Validation Loss= 1299.2731, Validation Accuracy= 0.839\n",
      "Model Checkpointed to ex1_dstudentcpt_t8000_gd\\smallmodel \n",
      "Step 3900, Validation Loss= 1277.8610, Validation Accuracy= 0.839\n",
      "Model Checkpointed to ex1_dstudentcpt_t8000_gd\\smallmodel \n",
      "Step 4000, Validation Loss= 1282.3073, Validation Accuracy= 0.838\n",
      "Model Checkpointed to ex1_dstudentcpt_t8000_gd\\smallmodel \n",
      "Step 4100, Validation Loss= 1247.1655, Validation Accuracy= 0.840\n",
      "Model Checkpointed to ex1_dstudentcpt_t8000_gd\\smallmodel \n",
      "Step 4200, Validation Loss= 1281.8242, Validation Accuracy= 0.840\n",
      "Model Checkpointed to ex1_dstudentcpt_t8000_gd\\smallmodel \n",
      "Step 4300, Validation Loss= 1288.2518, Validation Accuracy= 0.839\n",
      "Model Checkpointed to ex1_dstudentcpt_t8000_gd\\smallmodel \n",
      "Step 4400, Validation Loss= 1263.4048, Validation Accuracy= 0.840\n",
      "Model Checkpointed to ex1_dstudentcpt_t8000_gd\\smallmodel \n",
      "Step 4500, Validation Loss= 1266.4075, Validation Accuracy= 0.839\n",
      "Model Checkpointed to ex1_dstudentcpt_t8000_gd\\smallmodel \n",
      "Step 4600, Validation Loss= 1295.3032, Validation Accuracy= 0.838\n",
      "Model Checkpointed to ex1_dstudentcpt_t8000_gd\\smallmodel \n",
      "Step 4700, Validation Loss= 1271.7800, Validation Accuracy= 0.838\n",
      "Model Checkpointed to ex1_dstudentcpt_t8000_gd\\smallmodel \n",
      "Step 4800, Validation Loss= 1289.5974, Validation Accuracy= 0.838\n",
      "Model Checkpointed to ex1_dstudentcpt_t8000_gd\\smallmodel \n",
      "Step 4900, Validation Loss= 1279.5422, Validation Accuracy= 0.838\n",
      "Model Checkpointed to ex1_dstudentcpt_t8000_gd\\smallmodel \n",
      "Step 5000, Validation Loss= 1274.5825, Validation Accuracy= 0.839\n",
      "Model Checkpointed to ex1_dstudentcpt_t8000_gd\\smallmodel \n",
      "Step 5100, Validation Loss= 1304.1072, Validation Accuracy= 0.838\n",
      "Model Checkpointed to ex1_dstudentcpt_t8000_gd\\smallmodel \n",
      "Step 5200, Validation Loss= 1298.4174, Validation Accuracy= 0.839\n",
      "Model Checkpointed to ex1_dstudentcpt_t8000_gd\\smallmodel \n",
      "Step 5300, Validation Loss= 1288.2375, Validation Accuracy= 0.838\n",
      "Model Checkpointed to ex1_dstudentcpt_t8000_gd\\smallmodel \n",
      "Step 5400, Validation Loss= 1269.5309, Validation Accuracy= 0.840\n",
      "Model Checkpointed to ex1_dstudentcpt_t8000_gd\\smallmodel \n",
      "Step 5500, Validation Loss= 1254.3925, Validation Accuracy= 0.839\n",
      "Model Checkpointed to ex1_dstudentcpt_t8000_gd\\smallmodel \n",
      "Step 5600, Validation Loss= 1277.5172, Validation Accuracy= 0.839\n",
      "Model Checkpointed to ex1_dstudentcpt_t8000_gd\\smallmodel \n",
      "Step 5700, Validation Loss= 1279.2772, Validation Accuracy= 0.840\n",
      "Model Checkpointed to ex1_dstudentcpt_t8000_gd\\smallmodel \n",
      "Step 5800, Validation Loss= 1269.2269, Validation Accuracy= 0.840\n",
      "Model Checkpointed to ex1_dstudentcpt_t8000_gd\\smallmodel \n",
      "Step 5900, Validation Loss= 1285.1700, Validation Accuracy= 0.840\n",
      "Model Checkpointed to ex1_dstudentcpt_t8000_gd\\smallmodel \n",
      "Step 6000, Validation Loss= 1255.8638, Validation Accuracy= 0.841\n",
      "Model Checkpointed to ex1_dstudentcpt_t8000_gd\\smallmodel \n",
      "Step 6000, Validation Loss= 1255.8638, Validation Accuracy= 0.841\n",
      "Optimization Finished!\n"
     ]
    }
   ],
   "source": [
    "student_model.train(dataset_ex, teacher_model)"
   ]
  },
  {
   "cell_type": "markdown",
   "metadata": {},
   "source": [
    "Test the **distilled student model** (compute its accuracy againts the testing dataset) on the best model based on the validation set, this is, the *checkpointed model*. "
   ]
  },
  {
   "cell_type": "code",
   "execution_count": 15,
   "metadata": {
    "scrolled": true
   },
   "outputs": [
    {
     "name": "stdout",
     "output_type": "stream",
     "text": [
      "Reading model parameters from ex1_dstudentcpt_t8000_gd\\smallmodel\n",
      "Testing Accuracy: 0.834808\n"
     ]
    }
   ],
   "source": [
    "# Load the best model from created checkpoint\n",
    "student_model.load_model_from_file(checkpoint_dir)\n",
    "# Test the model against the testing set\n",
    "student_model.run_inference(dataset)"
   ]
  },
  {
   "cell_type": "code",
   "execution_count": 16,
   "metadata": {},
   "outputs": [
    {
     "name": "stdout",
     "output_type": "stream",
     "text": [
      "Testing Accuracy: 0.101980194\n"
     ]
    }
   ],
   "source": [
    "# Test the model againts a testing set containing only the initially excluded class\n",
    "student_model.run_inference_ex(dataset_ex)"
   ]
  },
  {
   "cell_type": "code",
   "execution_count": 12,
   "metadata": {},
   "outputs": [
    {
     "ename": "NameError",
     "evalue": "name 'student_model' is not defined",
     "output_type": "error",
     "traceback": [
      "\u001b[1;31m---------------------------------------------------------------------------\u001b[0m",
      "\u001b[1;31mNameError\u001b[0m                                 Traceback (most recent call last)",
      "\u001b[1;32m<ipython-input-12-3e4114305d1f>\u001b[0m in \u001b[0;36m<module>\u001b[1;34m\u001b[0m\n\u001b[0;32m      1\u001b[0m \u001b[1;31m# Close current tf sessions\u001b[0m\u001b[1;33m\u001b[0m\u001b[1;33m\u001b[0m\u001b[1;33m\u001b[0m\u001b[0m\n\u001b[0;32m      2\u001b[0m \u001b[0mteacher_model\u001b[0m\u001b[1;33m.\u001b[0m\u001b[0mclose_session\u001b[0m\u001b[1;33m(\u001b[0m\u001b[1;33m)\u001b[0m\u001b[1;33m\u001b[0m\u001b[1;33m\u001b[0m\u001b[0m\n\u001b[1;32m----> 3\u001b[1;33m \u001b[0mstudent_model\u001b[0m\u001b[1;33m.\u001b[0m\u001b[0mclose_session\u001b[0m\u001b[1;33m(\u001b[0m\u001b[1;33m)\u001b[0m\u001b[1;33m\u001b[0m\u001b[1;33m\u001b[0m\u001b[0m\n\u001b[0m",
      "\u001b[1;31mNameError\u001b[0m: name 'student_model' is not defined"
     ]
    }
   ],
   "source": [
    "# Close current tf sessions\n",
    "teacher_model.close_session()\n",
    "student_model.close_session()"
   ]
  },
  {
   "cell_type": "markdown",
   "metadata": {},
   "source": [
    "- ### 1.2 Learn from Probabilities (only 7s and 8s)\n",
    "Take multiple classes out from the training set for the Distilled Model, and later test the accuracy for those classes. "
   ]
  },
  {
   "cell_type": "code",
   "execution_count": 6,
   "metadata": {
    "scrolled": true
   },
   "outputs": [
    {
     "name": "stdout",
     "output_type": "stream",
     "text": [
      "Extracting ./train-images-idx3-ubyte.gz\n",
      "Extracting ./train-labels-idx1-ubyte.gz\n",
      "Extracting ./t10k-images-idx3-ubyte.gz\n",
      "Extracting ./t10k-labels-idx1-ubyte.gz\n",
      "55000\n"
     ]
    }
   ],
   "source": [
    "# MNIST dataset with class 3 excluded from training\n",
    "dataset_ex = data.DatasetExclude(batch_size=128, exclude_class=[0,1,2,3,4,5,6,9])"
   ]
  },
  {
   "cell_type": "markdown",
   "metadata": {},
   "source": [
    "Pretrained **teacher model** loading:"
   ]
  },
  {
   "cell_type": "code",
   "execution_count": 7,
   "metadata": {},
   "outputs": [],
   "source": [
    "checkpoint_dir = \"teachercpt_t1\"\n",
    "log_dir=checkpoint_dir + \"\\logs\""
   ]
  },
  {
   "cell_type": "code",
   "execution_count": 8,
   "metadata": {},
   "outputs": [],
   "source": [
    "# Model definition\n",
    "teacher_model = model.BigModel(num_steps=num_steps, \n",
    "                               batch_size=batch_size,\n",
    "                               learning_rate=learning_rate,\n",
    "                               temperature=temperature,\n",
    "                               dropoutprob=dropout,\n",
    "                               checkpoint_dir=checkpoint_dir,\n",
    "                               log_dir=log_dir,\n",
    "                               model_type=\"teacher\");\n",
    "# Start tf session\n",
    "teacher_model.start_session()"
   ]
  },
  {
   "cell_type": "code",
   "execution_count": 9,
   "metadata": {},
   "outputs": [
    {
     "name": "stdout",
     "output_type": "stream",
     "text": [
      "Reading model parameters from teachercpt_t1\\bigmodel.ckpt\n"
     ]
    }
   ],
   "source": [
    "# Load best model from teacher checkpoint\n",
    "teacher_model.load_model_from_file(checkpoint_dir)"
   ]
  },
  {
   "cell_type": "markdown",
   "metadata": {},
   "source": [
    "Verify **teacher** model state before training **student**:"
   ]
  },
  {
   "cell_type": "code",
   "execution_count": 10,
   "metadata": {
    "scrolled": true
   },
   "outputs": [
    {
     "name": "stdout",
     "output_type": "stream",
     "text": [
      "Testing Accuracy: 0.978529\n"
     ]
    }
   ],
   "source": [
    "# Test the model against the testing set\n",
    "teacher_model.run_inference(dataset)"
   ]
  },
  {
   "cell_type": "markdown",
   "metadata": {},
   "source": [
    "Output directory for distilled student model checkpoint:"
   ]
  },
  {
   "cell_type": "code",
   "execution_count": 11,
   "metadata": {},
   "outputs": [],
   "source": [
    "checkpoint_dir=\"ex1.2_dstudentcpt_t8000\"\n",
    "log_dir=checkpoint_dir + \"\\logs\""
   ]
  },
  {
   "cell_type": "markdown",
   "metadata": {},
   "source": [
    "Student model definition:"
   ]
  },
  {
   "cell_type": "code",
   "execution_count": 12,
   "metadata": {
    "scrolled": true
   },
   "outputs": [],
   "source": [
    "student_model = model.SmallModel(num_steps=5000, \n",
    "                                 batch_size=batch_size,\n",
    "                                 learning_rate=0.001,\n",
    "                                 temperature=8000,\n",
    "                                 dropoutprob=0,\n",
    "                                 checkpoint_dir=checkpoint_dir,\n",
    "                                 log_dir=log_dir,\n",
    "                                 model_type=\"student\");"
   ]
  },
  {
   "cell_type": "markdown",
   "metadata": {},
   "source": [
    "Training:\n",
    "\n",
    "At each step, the validation accuracy is computed and, if maximal, a model checkpoint is created. This is, in a way, analogous to **early stopping**."
   ]
  },
  {
   "cell_type": "code",
   "execution_count": 13,
   "metadata": {},
   "outputs": [],
   "source": [
    "student_model.start_session()"
   ]
  },
  {
   "cell_type": "code",
   "execution_count": 14,
   "metadata": {},
   "outputs": [
    {
     "name": "stdout",
     "output_type": "stream",
     "text": [
      "Starting Training\n",
      "Model Checkpointed to ex1.2_dstudentcpt_t8000\\smallmodel \n",
      "Step 1, Validation Loss= 3158.3208, Validation Accuracy= 0.072\n",
      "Model Checkpointed to ex1.2_dstudentcpt_t8000\\smallmodel \n",
      "Step 100, Validation Loss= 12331.0996, Validation Accuracy= 0.197\n",
      "Model Checkpointed to ex1.2_dstudentcpt_t8000\\smallmodel \n",
      "Step 200, Validation Loss= 9836.1826, Validation Accuracy= 0.202\n",
      "Model Checkpointed to ex1.2_dstudentcpt_t8000\\smallmodel \n",
      "Step 300, Validation Loss= 8621.6064, Validation Accuracy= 0.217\n",
      "Model Checkpointed to ex1.2_dstudentcpt_t8000\\smallmodel \n",
      "Step 400, Validation Loss= 7561.4312, Validation Accuracy= 0.238\n",
      "Model Checkpointed to ex1.2_dstudentcpt_t8000\\smallmodel \n",
      "Step 500, Validation Loss= 7168.3433, Validation Accuracy= 0.255\n",
      "Model Checkpointed to ex1.2_dstudentcpt_t8000\\smallmodel \n",
      "Step 600, Validation Loss= 6517.7607, Validation Accuracy= 0.286\n",
      "Model Checkpointed to ex1.2_dstudentcpt_t8000\\smallmodel \n",
      "Step 700, Validation Loss= 6383.0327, Validation Accuracy= 0.297\n",
      "Model Checkpointed to ex1.2_dstudentcpt_t8000\\smallmodel \n",
      "Step 800, Validation Loss= 5932.5161, Validation Accuracy= 0.312\n",
      "Model Checkpointed to ex1.2_dstudentcpt_t8000\\smallmodel \n",
      "Step 900, Validation Loss= 5637.8638, Validation Accuracy= 0.328\n",
      "Model Checkpointed to ex1.2_dstudentcpt_t8000\\smallmodel \n",
      "Step 1000, Validation Loss= 5481.0962, Validation Accuracy= 0.335\n",
      "Model Checkpointed to ex1.2_dstudentcpt_t8000\\smallmodel \n",
      "Step 1100, Validation Loss= 5358.4951, Validation Accuracy= 0.344\n",
      "Model Checkpointed to ex1.2_dstudentcpt_t8000\\smallmodel \n",
      "Step 1200, Validation Loss= 5291.6548, Validation Accuracy= 0.352\n",
      "Model Checkpointed to ex1.2_dstudentcpt_t8000\\smallmodel \n",
      "Step 1300, Validation Loss= 5235.2065, Validation Accuracy= 0.359\n",
      "Model Checkpointed to ex1.2_dstudentcpt_t8000\\smallmodel \n",
      "Step 1400, Validation Loss= 5371.8896, Validation Accuracy= 0.359\n",
      "Model Checkpointed to ex1.2_dstudentcpt_t8000\\smallmodel \n",
      "Step 1500, Validation Loss= 5074.4702, Validation Accuracy= 0.375\n",
      "Model Checkpointed to ex1.2_dstudentcpt_t8000\\smallmodel \n",
      "Step 1600, Validation Loss= 5029.0947, Validation Accuracy= 0.379\n",
      "Model Checkpointed to ex1.2_dstudentcpt_t8000\\smallmodel \n",
      "Step 1700, Validation Loss= 5108.4536, Validation Accuracy= 0.379\n",
      "Model Checkpointed to ex1.2_dstudentcpt_t8000\\smallmodel \n",
      "Step 1800, Validation Loss= 5022.4819, Validation Accuracy= 0.386\n",
      "Model Checkpointed to ex1.2_dstudentcpt_t8000\\smallmodel \n",
      "Step 1900, Validation Loss= 4811.7100, Validation Accuracy= 0.399\n",
      "Model Checkpointed to ex1.2_dstudentcpt_t8000\\smallmodel \n",
      "Step 2000, Validation Loss= 5107.6987, Validation Accuracy= 0.382\n",
      "Model Checkpointed to ex1.2_dstudentcpt_t8000\\smallmodel \n",
      "Step 2100, Validation Loss= 4900.9321, Validation Accuracy= 0.398\n",
      "Model Checkpointed to ex1.2_dstudentcpt_t8000\\smallmodel \n",
      "Step 2200, Validation Loss= 4914.3047, Validation Accuracy= 0.402\n",
      "Model Checkpointed to ex1.2_dstudentcpt_t8000\\smallmodel \n",
      "Step 2300, Validation Loss= 4802.7451, Validation Accuracy= 0.409\n",
      "Model Checkpointed to ex1.2_dstudentcpt_t8000\\smallmodel \n",
      "Step 2400, Validation Loss= 4884.9385, Validation Accuracy= 0.412\n",
      "Model Checkpointed to ex1.2_dstudentcpt_t8000\\smallmodel \n",
      "Step 2500, Validation Loss= 4955.1094, Validation Accuracy= 0.398\n",
      "Model Checkpointed to ex1.2_dstudentcpt_t8000\\smallmodel \n",
      "Step 2600, Validation Loss= 5003.9873, Validation Accuracy= 0.403\n",
      "Model Checkpointed to ex1.2_dstudentcpt_t8000\\smallmodel \n",
      "Step 2700, Validation Loss= 5283.8555, Validation Accuracy= 0.390\n",
      "Model Checkpointed to ex1.2_dstudentcpt_t8000\\smallmodel \n",
      "Step 2800, Validation Loss= 5208.8818, Validation Accuracy= 0.397\n",
      "Model Checkpointed to ex1.2_dstudentcpt_t8000\\smallmodel \n",
      "Step 2900, Validation Loss= 5257.1382, Validation Accuracy= 0.391\n",
      "Model Checkpointed to ex1.2_dstudentcpt_t8000\\smallmodel \n",
      "Step 3000, Validation Loss= 4944.3760, Validation Accuracy= 0.409\n",
      "Model Checkpointed to ex1.2_dstudentcpt_t8000\\smallmodel \n",
      "Step 3100, Validation Loss= 4862.6362, Validation Accuracy= 0.419\n",
      "Model Checkpointed to ex1.2_dstudentcpt_t8000\\smallmodel \n",
      "Step 3200, Validation Loss= 4912.4858, Validation Accuracy= 0.414\n",
      "Model Checkpointed to ex1.2_dstudentcpt_t8000\\smallmodel \n",
      "Step 3300, Validation Loss= 5220.3281, Validation Accuracy= 0.395\n",
      "Model Checkpointed to ex1.2_dstudentcpt_t8000\\smallmodel \n",
      "Step 3400, Validation Loss= 4884.3149, Validation Accuracy= 0.414\n",
      "Model Checkpointed to ex1.2_dstudentcpt_t8000\\smallmodel \n",
      "Step 3500, Validation Loss= 4995.9868, Validation Accuracy= 0.412\n",
      "Model Checkpointed to ex1.2_dstudentcpt_t8000\\smallmodel \n",
      "Step 3600, Validation Loss= 4960.9941, Validation Accuracy= 0.421\n",
      "Model Checkpointed to ex1.2_dstudentcpt_t8000\\smallmodel \n",
      "Step 3700, Validation Loss= 4889.5723, Validation Accuracy= 0.414\n",
      "Model Checkpointed to ex1.2_dstudentcpt_t8000\\smallmodel \n",
      "Step 3800, Validation Loss= 4994.0078, Validation Accuracy= 0.407\n",
      "Model Checkpointed to ex1.2_dstudentcpt_t8000\\smallmodel \n",
      "Step 3900, Validation Loss= 5148.0625, Validation Accuracy= 0.408\n",
      "Model Checkpointed to ex1.2_dstudentcpt_t8000\\smallmodel \n",
      "Step 4000, Validation Loss= 5403.2290, Validation Accuracy= 0.395\n",
      "Model Checkpointed to ex1.2_dstudentcpt_t8000\\smallmodel \n",
      "Step 4100, Validation Loss= 5276.9824, Validation Accuracy= 0.402\n",
      "Model Checkpointed to ex1.2_dstudentcpt_t8000\\smallmodel \n",
      "Step 4200, Validation Loss= 5168.1006, Validation Accuracy= 0.408\n",
      "Model Checkpointed to ex1.2_dstudentcpt_t8000\\smallmodel \n",
      "Step 4300, Validation Loss= 4890.9297, Validation Accuracy= 0.426\n",
      "Model Checkpointed to ex1.2_dstudentcpt_t8000\\smallmodel \n",
      "Step 4400, Validation Loss= 5107.5293, Validation Accuracy= 0.406\n",
      "Model Checkpointed to ex1.2_dstudentcpt_t8000\\smallmodel \n",
      "Step 4500, Validation Loss= 4994.8735, Validation Accuracy= 0.410\n",
      "Model Checkpointed to ex1.2_dstudentcpt_t8000\\smallmodel \n",
      "Step 4600, Validation Loss= 5067.3057, Validation Accuracy= 0.413\n",
      "Model Checkpointed to ex1.2_dstudentcpt_t8000\\smallmodel \n",
      "Step 4700, Validation Loss= 5092.0977, Validation Accuracy= 0.403\n",
      "Model Checkpointed to ex1.2_dstudentcpt_t8000\\smallmodel \n",
      "Step 4800, Validation Loss= 5184.8169, Validation Accuracy= 0.409\n",
      "Model Checkpointed to ex1.2_dstudentcpt_t8000\\smallmodel \n",
      "Step 4900, Validation Loss= 4870.6338, Validation Accuracy= 0.424\n",
      "Model Checkpointed to ex1.2_dstudentcpt_t8000\\smallmodel \n",
      "Step 5000, Validation Loss= 4789.8911, Validation Accuracy= 0.425\n",
      "Model Checkpointed to ex1.2_dstudentcpt_t8000\\smallmodel \n",
      "Step 5000, Validation Loss= 4789.8911, Validation Accuracy= 0.425\n",
      "Optimization Finished!\n"
     ]
    }
   ],
   "source": [
    "student_model.train(dataset_ex, teacher_model)"
   ]
  },
  {
   "cell_type": "markdown",
   "metadata": {},
   "source": [
    "Test the **distilled student model** (compute its accuracy againts the testing dataset) on the best model based on the validation set, this is, the *checkpointed model*. "
   ]
  },
  {
   "cell_type": "code",
   "execution_count": 15,
   "metadata": {
    "scrolled": true
   },
   "outputs": [
    {
     "name": "stdout",
     "output_type": "stream",
     "text": [
      "Reading model parameters from ex1.2_dstudentcpt_t8000\\smallmodel\n",
      "Testing Accuracy: 0.405558\n"
     ]
    }
   ],
   "source": [
    "# Load the best model from created checkpoint\n",
    "student_model.load_model_from_file(checkpoint_dir)\n",
    "# Test the model against the testing set\n",
    "student_model.run_inference(dataset)"
   ]
  },
  {
   "cell_type": "code",
   "execution_count": 16,
   "metadata": {},
   "outputs": [
    {
     "name": "stdout",
     "output_type": "stream",
     "text": [
      "Testing Accuracy: 0.17301923\n"
     ]
    }
   ],
   "source": [
    "# Test the model againts a testing set containing only the initially excluded class\n",
    "student_model.run_inference_ex(dataset_ex)"
   ]
  },
  {
   "cell_type": "code",
   "execution_count": 17,
   "metadata": {},
   "outputs": [],
   "source": [
    "# Close current tf sessions\n",
    "teacher_model.close_session()\n",
    "student_model.close_session()"
   ]
  },
  {
   "cell_type": "markdown",
   "metadata": {},
   "source": [
    "- ### 2. Train distilled model with a transfer set"
   ]
  },
  {
   "cell_type": "markdown",
   "metadata": {},
   "source": [
    "### Tests"
   ]
  },
  {
   "cell_type": "code",
   "execution_count": 12,
   "metadata": {},
   "outputs": [],
   "source": [
    "only3Data = dataset_ex.get_test_data_ex()"
   ]
  },
  {
   "cell_type": "code",
   "execution_count": 13,
   "metadata": {},
   "outputs": [],
   "source": [
    "test_images_ex, test_labels_ex = dataset_ex.get_test_data_ex()"
   ]
  },
  {
   "cell_type": "code",
   "execution_count": 14,
   "metadata": {
    "scrolled": false
   },
   "outputs": [
    {
     "data": {
      "text/plain": [
       "array([[0., 0., 0., ..., 0., 0., 0.],\n",
       "       [0., 0., 0., ..., 0., 0., 0.],\n",
       "       [0., 0., 0., ..., 0., 0., 0.],\n",
       "       ...,\n",
       "       [0., 0., 1., ..., 0., 0., 0.],\n",
       "       [0., 0., 0., ..., 0., 1., 0.],\n",
       "       [0., 0., 0., ..., 0., 0., 0.]], dtype=float32)"
      ]
     },
     "execution_count": 14,
     "metadata": {},
     "output_type": "execute_result"
    }
   ],
   "source": [
    "res3 = student_model.predict(test_images_ex)\n",
    "res3"
   ]
  },
  {
   "cell_type": "code",
   "execution_count": 15,
   "metadata": {},
   "outputs": [
    {
     "data": {
      "image/png": "[encoded data removed]",
      "text/plain": [
       "<Figure size 432x288 with 1 Axes>"
      ]
     },
     "metadata": {
      "needs_background": "light"
     },
     "output_type": "display_data"
    }
   ],
   "source": [
    "plt.imshow(res3[10:20], cmap='gnuplot', interpolation='nearest')\n",
    "plt.show()"
   ]
  },
  {
   "cell_type": "code",
   "execution_count": 19,
   "metadata": {
    "scrolled": false
   },
   "outputs": [],
   "source": [
    "labels = [np.argmax(x) for x in res3];"
   ]
  },
  {
   "cell_type": "code",
   "execution_count": 22,
   "metadata": {},
   "outputs": [
    {
     "data": {
      "text/plain": [
       "894"
      ]
     },
     "execution_count": 22,
     "metadata": {},
     "output_type": "execute_result"
    }
   ],
   "source": [
    "len([x for x in labels if x != 3])"
   ]
  },
  {
   "cell_type": "markdown",
   "metadata": {},
   "source": [
    "Softness"
   ]
  },
  {
   "cell_type": "code",
   "execution_count": 15,
   "metadata": {},
   "outputs": [],
   "source": [
    "test_images, test_labels = dataset.get_test_data()"
   ]
  },
  {
   "cell_type": "code",
   "execution_count": 19,
   "metadata": {},
   "outputs": [
    {
     "data": {
      "text/plain": [
       "<matplotlib.image.AxesImage at 0x2310693f4a8>"
      ]
     },
     "execution_count": 19,
     "metadata": {},
     "output_type": "execute_result"
    },
    {
     "data": {
      "image/png": "[encoded data removed]",
      "text/plain": [
       "<Figure size 432x288 with 1 Axes>"
      ]
     },
     "metadata": {
      "needs_background": "light"
     },
     "output_type": "display_data"
    }
   ],
   "source": [
    "plt.imshow(test_images[0].reshape((28,28)),cmap='gray')"
   ]
  },
  {
   "cell_type": "code",
   "execution_count": 23,
   "metadata": {},
   "outputs": [
    {
     "data": {
      "text/plain": [
       "array([[0.04089586, 0.04092737, 0.04962095, 0.04136375, 0.08206078,\n",
       "        0.1001733 , 0.01421009, 0.06718715, 0.4887782 , 0.07478254],\n",
       "       [0.01569097, 0.01682891, 0.06861551, 0.01637091, 0.5929583 ,\n",
       "        0.02770383, 0.07067044, 0.06026499, 0.05569917, 0.07519696],\n",
       "       [0.05117282, 0.5726818 , 0.07585127, 0.02457857, 0.04660194,\n",
       "        0.01990474, 0.09778718, 0.02279269, 0.06157516, 0.02705398],\n",
       "       [0.05328405, 0.361957  , 0.08642762, 0.04911255, 0.07693649,\n",
       "        0.05879812, 0.02697551, 0.06795635, 0.13335422, 0.08519803],\n",
       "       [0.04993464, 0.44455495, 0.05293648, 0.03638805, 0.08600125,\n",
       "        0.04866466, 0.06455316, 0.08096633, 0.09197461, 0.04402595],\n",
       "       [0.01002602, 0.02438503, 0.8622043 , 0.03399917, 0.0053475 ,\n",
       "        0.00176408, 0.01026637, 0.01981735, 0.0239258 , 0.00826431],\n",
       "       [0.02450964, 0.01329821, 0.01889596, 0.04763559, 0.04371953,\n",
       "        0.02689198, 0.02553801, 0.02993845, 0.06133112, 0.7082415 ],\n",
       "       [0.07719847, 0.36419636, 0.07425387, 0.04830993, 0.09950029,\n",
       "        0.02973901, 0.0671064 , 0.07071219, 0.07315332, 0.09583012],\n",
       "       [0.00203856, 0.01339167, 0.01656042, 0.9053911 , 0.00338892,\n",
       "        0.01219921, 0.00127498, 0.00620898, 0.00450663, 0.03503957],\n",
       "       [0.00503751, 0.01080732, 0.04646214, 0.7900324 , 0.0028177 ,\n",
       "        0.01441883, 0.00652431, 0.02740553, 0.06693941, 0.02955493]],\n",
       "      dtype=float32)"
      ]
     },
     "execution_count": 23,
     "metadata": {},
     "output_type": "execute_result"
    }
   ],
   "source": [
    "res = teacher_model.predict(test_images[:10],10000)\n",
    "res"
   ]
  },
  {
   "cell_type": "code",
   "execution_count": 18,
   "metadata": {
    "scrolled": true
   },
   "outputs": [
    {
     "data": {
      "text/plain": [
       "array([[ -3977.8525,  -3970.1506,  -2044.0066,  -3864.0913,   2986.4612,\n",
       "          4980.877 , -14548.611 ,    986.6786,  20830.955 ,   2057.7039],\n",
       "       [-12461.821 , -11761.687 ,   2292.5142, -12037.602 ,  23858.572 ,\n",
       "         -6776.9575,   2587.6118,    994.8457,    206.9818,   3208.4446],\n",
       "       [ -1510.3839,  22640.832 ,   2425.2754,  -8843.718 ,  -2446.0474,\n",
       "        -10952.892 ,   4965.4717,  -9598.065 ,    340.1169,  -7884.1284]],\n",
       "      dtype=float32)"
      ]
     },
     "execution_count": 18,
     "metadata": {},
     "output_type": "execute_result"
    }
   ],
   "source": [
    "res = teacher_model.predict_logits(test_images[:3],1)\n",
    "res"
   ]
  },
  {
   "cell_type": "code",
   "execution_count": 14,
   "metadata": {},
   "outputs": [
    {
     "name": "stdout",
     "output_type": "stream",
     "text": [
      "[[2.7916129e-03 4.2871856e-03 1.3053397e-03 6.1616125e-03 8.8885218e-01\n",
      "  4.8505040e-03 4.9903276e-03 2.8985638e-02 6.0165520e-03 5.1758908e-02]\n",
      " [5.3022010e-03 1.4904720e-03 3.9358661e-02 8.6619437e-01 4.1309278e-03\n",
      "  4.1009989e-02 2.3818229e-05 3.0705535e-03 6.6504464e-03 3.2768480e-02]\n",
      " [1.7348994e-02 9.1900963e-01 1.3496629e-02 1.1434292e-02 5.0344146e-03\n",
      "  7.2072139e-03 4.0047048e-03 9.3770269e-03 9.6641490e-03 3.4228223e-03]]\n"
     ]
    }
   ],
   "source": [
    "print(teacher_model.sess.run(tf.nn.softmax(res)))"
   ]
  },
  {
   "cell_type": "code",
   "execution_count": 21,
   "metadata": {},
   "outputs": [
    {
     "data": {
      "text/plain": [
       "array([[0., 1., 0., 0., 0., 0., 0., 0., 0., 0.],\n",
       "       [0., 0., 0., 0., 0., 0., 0., 0., 1., 0.],\n",
       "       [1., 0., 0., 0., 0., 0., 0., 0., 0., 0.]], dtype=float32)"
      ]
     },
     "execution_count": 21,
     "metadata": {},
     "output_type": "execute_result"
    }
   ],
   "source": [
    "student_model.predict(test_images[:3],5000)"
   ]
  },
  {
   "cell_type": "code",
   "execution_count": 18,
   "metadata": {},
   "outputs": [
    {
     "data": {
      "text/plain": [
       "array([[0., 1., 0., 0., 0., 0., 0., 0., 0., 0.],\n",
       "       [0., 0., 0., 0., 0., 1., 0., 0., 0., 0.],\n",
       "       [0., 0., 0., 0., 0., 0., 0., 0., 1., 0.]])"
      ]
     },
     "execution_count": 18,
     "metadata": {},
     "output_type": "execute_result"
    }
   ],
   "source": [
    "test_labels[:3]"
   ]
  },
  {
   "cell_type": "code",
   "execution_count": 25,
   "metadata": {},
   "outputs": [
    {
     "data": {
      "image/png": "[encoded data removed]",
      "text/plain": [
       "<Figure size 432x288 with 1 Axes>"
      ]
     },
     "metadata": {
      "needs_background": "light"
     },
     "output_type": "display_data"
    }
   ],
   "source": [
    "plt.imshow(res, cmap='gnuplot', interpolation='nearest')\n",
    "plt.show()"
   ]
  },
  {
   "cell_type": "code",
   "execution_count": 22,
   "metadata": {},
   "outputs": [
    {
     "data": {
      "image/png": "[encoded data removed]",
      "text/plain": [
       "<Figure size 432x288 with 1 Axes>"
      ]
     },
     "metadata": {
      "needs_background": "light"
     },
     "output_type": "display_data"
    }
   ],
   "source": [
    "plt.imshow(test_labels[:10], cmap='hot', interpolation='nearest')\n",
    "plt.show()"
   ]
  },
  {
   "cell_type": "code",
   "execution_count": 23,
   "metadata": {},
   "outputs": [
    {
     "data": {
      "text/plain": [
       "(10000, 784)"
      ]
     },
     "execution_count": 23,
     "metadata": {},
     "output_type": "execute_result"
    }
   ],
   "source": [
    "test_images.shape"
   ]
  },
  {
   "cell_type": "markdown",
   "metadata": {},
   "source": [
    "From Nga's mnist:"
   ]
  },
  {
   "cell_type": "code",
   "execution_count": null,
   "metadata": {},
   "outputs": [],
   "source": [
    "# Data used in ResNet164\n",
    "(x_train, y_train), (x_val, y_val), (x_test, y_test) = load_mnist()"
   ]
  }
 ],
 "metadata": {
  "kernelspec": {
   "display_name": "TensorFlow-GPU",
   "language": "python",
   "name": "tensorflow-gpu"
  },
  "language_info": {
   "codemirror_mode": {
    "name": "ipython",
    "version": 3
   },
   "file_extension": ".py",
   "mimetype": "text/x-python",
   "name": "python",
   "nbconvert_exporter": "python",
   "pygments_lexer": "ipython3",
   "version": "3.6.8"
  }
 },
 "nbformat": 4,
 "nbformat_minor": 2
}
