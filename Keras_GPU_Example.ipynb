{
 "cells": [
  {
   "cell_type": "code",
   "execution_count": 1,
   "metadata": {},
   "outputs": [
    {
     "name": "stderr",
     "output_type": "stream",
     "text": [
      "Using TensorFlow backend.\n"
     ]
    }
   ],
   "source": [
    "import keras\n",
    "from keras.datasets import mnist\n",
    "from keras.models import Sequential\n",
    "from keras.layers import Dense, Dropout\n",
    "from keras.layers import Flatten,  MaxPooling2D, Conv2D\n",
    "from keras.callbacks import TensorBoard"
   ]
  },
  {
   "cell_type": "code",
   "execution_count": 2,
   "metadata": {},
   "outputs": [
    {
     "name": "stdout",
     "output_type": "stream",
     "text": [
      "Downloading data from https://s3.amazonaws.com/img-datasets/mnist.npz\n",
      "11493376/11490434 [==============================] - 22s 2us/step\n"
     ]
    }
   ],
   "source": [
    "(X_train,y_train), (X_test, y_test) = mnist.load_data()\n",
    "\n",
    "X_train = X_train.reshape(60000,28,28,1).astype('float32')\n",
    "X_test = X_test.reshape(10000,28,28,1).astype('float32')\n",
    "\n",
    "X_train /= 255\n",
    "X_test /= 255\n",
    "\n",
    "n_classes = 10\n",
    "y_train = keras.utils.to_categorical(y_train, n_classes)\n",
    "y_test = keras.utils.to_categorical(y_test, n_classes)"
   ]
  },
  {
   "cell_type": "code",
   "execution_count": 3,
   "metadata": {},
   "outputs": [],
   "source": [
    "model = Sequential()\n",
    "model.add(Conv2D(32, kernel_size=(3,3), activation='relu', input_shape=(28,28,1)) )\n",
    "model.add(Conv2D(64, kernel_size=(3,3), activation='relu'))\n",
    "model.add(MaxPooling2D(pool_size=(2,2)))\n",
    "model.add(Dropout(0.25))\n",
    "model.add(Flatten())          \n",
    "model.add(Dense(128, activation='relu'))\n",
    "model.add(Dropout(0.5))\n",
    "model.add(Dense(n_classes, activation='softmax'))"
   ]
  },
  {
   "cell_type": "code",
   "execution_count": 4,
   "metadata": {},
   "outputs": [],
   "source": [
    "model.compile(loss='categorical_crossentropy', optimizer='adam', metrics=['accuracy'])"
   ]
  },
  {
   "cell_type": "code",
   "execution_count": 5,
   "metadata": {},
   "outputs": [],
   "source": [
    "tensor_board = TensorBoard('./logs/LeNet-MNIST-1')"
   ]
  },
  {
   "cell_type": "code",
   "execution_count": 6,
   "metadata": {},
   "outputs": [
    {
     "name": "stdout",
     "output_type": "stream",
     "text": [
      "Train on 60000 samples, validate on 10000 samples\n",
      "Epoch 1/15\n",
      "60000/60000 [==============================] - 25s 419us/step - loss: 0.2218 - acc: 0.9337 - val_loss: 0.0516 - val_acc: 0.9832\n",
      "Epoch 2/15\n",
      "60000/60000 [==============================] - 15s 248us/step - loss: 0.0798 - acc: 0.9765 - val_loss: 0.0417 - val_acc: 0.9865\n",
      "Epoch 3/15\n",
      "60000/60000 [==============================] - 15s 253us/step - loss: 0.0620 - acc: 0.9810 - val_loss: 0.0309 - val_acc: 0.9887\n",
      "Epoch 4/15\n",
      "60000/60000 [==============================] - 15s 255us/step - loss: 0.0494 - acc: 0.9848 - val_loss: 0.0272 - val_acc: 0.9912\n",
      "Epoch 5/15\n",
      "60000/60000 [==============================] - 16s 270us/step - loss: 0.0417 - acc: 0.9871 - val_loss: 0.0329 - val_acc: 0.9888\n",
      "Epoch 6/15\n",
      "60000/60000 [==============================] - 15s 253us/step - loss: 0.0368 - acc: 0.9883 - val_loss: 0.0272 - val_acc: 0.9908\n",
      "Epoch 7/15\n",
      "60000/60000 [==============================] - 15s 257us/step - loss: 0.0333 - acc: 0.9897 - val_loss: 0.0295 - val_acc: 0.9913\n",
      "Epoch 8/15\n",
      "60000/60000 [==============================] - 14s 235us/step - loss: 0.0299 - acc: 0.9901 - val_loss: 0.0268 - val_acc: 0.9915\n",
      "Epoch 9/15\n",
      "60000/60000 [==============================] - 15s 248us/step - loss: 0.0271 - acc: 0.9911 - val_loss: 0.0287 - val_acc: 0.9908\n",
      "Epoch 10/15\n",
      "60000/60000 [==============================] - 15s 244us/step - loss: 0.0237 - acc: 0.9924 - val_loss: 0.0279 - val_acc: 0.9916\n",
      "Epoch 11/15\n",
      "60000/60000 [==============================] - 14s 238us/step - loss: 0.0235 - acc: 0.9925 - val_loss: 0.0281 - val_acc: 0.9923\n",
      "Epoch 12/15\n",
      "60000/60000 [==============================] - 15s 250us/step - loss: 0.0198 - acc: 0.9936 - val_loss: 0.0269 - val_acc: 0.9920\n",
      "Epoch 13/15\n",
      "60000/60000 [==============================] - 15s 243us/step - loss: 0.0196 - acc: 0.9936 - val_loss: 0.0282 - val_acc: 0.9923\n",
      "Epoch 14/15\n",
      "60000/60000 [==============================] - 14s 239us/step - loss: 0.0193 - acc: 0.9939 - val_loss: 0.0294 - val_acc: 0.9915\n",
      "Epoch 15/15\n",
      "60000/60000 [==============================] - 16s 266us/step - loss: 0.0179 - acc: 0.9939 - val_loss: 0.0290 - val_acc: 0.9917\n"
     ]
    },
    {
     "data": {
      "text/plain": [
       "<keras.callbacks.History at 0x2071866ad68>"
      ]
     },
     "execution_count": 6,
     "metadata": {},
     "output_type": "execute_result"
    }
   ],
   "source": [
    "model.fit(X_train, y_train, batch_size=128, epochs=15, verbose=1,\n",
    "          validation_data=(X_test,y_test), callbacks=[tensor_board])"
   ]
  },
  {
   "cell_type": "code",
   "execution_count": null,
   "metadata": {},
   "outputs": [],
   "source": []
  }
 ],
 "metadata": {
  "kernelspec": {
   "display_name": "TensorFlow-GPU",
   "language": "python",
   "name": "tensorflow-gpu"
  },
  "language_info": {
   "codemirror_mode": {
    "name": "ipython",
    "version": 3
   },
   "file_extension": ".py",
   "mimetype": "text/x-python",
   "name": "python",
   "nbconvert_exporter": "python",
   "pygments_lexer": "ipython3",
   "version": "3.6.8"
  }
 },
 "nbformat": 4,
 "nbformat_minor": 2
}
