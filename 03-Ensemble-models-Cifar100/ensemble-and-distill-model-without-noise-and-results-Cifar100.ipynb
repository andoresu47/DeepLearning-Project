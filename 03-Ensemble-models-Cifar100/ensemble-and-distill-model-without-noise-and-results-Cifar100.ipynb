{
 "cells": [
  {
   "cell_type": "code",
   "execution_count": 1,
   "metadata": {},
   "outputs": [
    {
     "name": "stderr",
     "output_type": "stream",
     "text": [
      "Using TensorFlow backend.\n"
     ]
    }
   ],
   "source": [
    "import numpy as np\n",
    "import matplotlib.pyplot as plt\n",
    "\n",
    "from CNN import ThreeLayerConvNet\n",
    "from model import myModel\n",
    "\n",
    "from keras.models import Model\n",
    "\n",
    "import h5py\n",
    "import time\n",
    "import pickle\n",
    "import timeit, os, math\n",
    "\n",
    "%matplotlib inline\n",
    "plt.rcParams['figure.figsize'] = (10.0, 8.0) # set default size of plots\n",
    "plt.rcParams['image.interpolation'] = 'nearest'\n",
    "plt.rcParams['image.cmap'] = 'gray'\n",
    "\n",
    "# for auto-reloading external modules\n",
    "# see http://stackoverflow.com/questions/1907993/autoreload-of-modules-in-ipython\n",
    "%load_ext autoreload\n",
    "%autoreload 2"
   ]
  },
  {
   "cell_type": "code",
   "execution_count": 2,
   "metadata": {},
   "outputs": [],
   "source": [
    "import tensorflow as tf\n",
    "import numpy as np\n",
    "import time\n",
    "from datetime import timedelta\n",
    "import os\n",
    "import keras\n",
    "from keras.datasets import cifar100\n",
    "from keras.utils import to_categorical"
   ]
  },
  {
   "cell_type": "code",
   "execution_count": 3,
   "metadata": {},
   "outputs": [],
   "source": [
    "def SoftMax(s):\n",
    "    # minus max to avoid large s case\n",
    "    p = np.exp(s-np.expand_dims(np.max(s,axis=1),axis=1))/\\\n",
    "    np.expand_dims(np.exp(s-np.expand_dims(np.max(s,axis=1),axis=1)).sum(axis=1),axis=1)  # matrix of size NxK\n",
    "    return p"
   ]
  },
  {
   "cell_type": "code",
   "execution_count": 4,
   "metadata": {},
   "outputs": [],
   "source": [
    "teacher_train_logits = np.load(\n",
    "    'best_ensemble_logits_100.npz')['arr_0']"
   ]
  },
  {
   "cell_type": "code",
   "execution_count": 5,
   "metadata": {},
   "outputs": [],
   "source": [
    "tf.logging.set_verbosity(tf.logging.ERROR)"
   ]
  },
  {
   "cell_type": "code",
   "execution_count": 6,
   "metadata": {},
   "outputs": [],
   "source": [
    "(images_train, cls_train), (images_test, cls_test) =  cifar100.load_data()\n",
    "images_train = images_train.astype('float32')\n",
    "images_test = images_test.astype('float32')\n",
    "images_train /= 255\n",
    "images_test /= 255\n",
    "n_classes = 100\n",
    "labels_train = to_categorical(cls_train, n_classes)\n",
    "labels_test = to_categorical(cls_test, n_classes)"
   ]
  },
  {
   "cell_type": "code",
   "execution_count": 7,
   "metadata": {},
   "outputs": [],
   "source": [
    "# Prepare data to train with small model\n",
    "data = {'X_train': images_train.transpose(0,3,1,2).copy(), 'y_train': np.argmax(labels_train,axis=1),\n",
    "        'X_val': images_test.transpose(0,3,1,2).copy(), 'y_val': np.argmax(labels_test,axis=1),\n",
    "       }"
   ]
  },
  {
   "cell_type": "code",
   "execution_count": 65,
   "metadata": {
    "scrolled": true
   },
   "outputs": [
    {
     "name": "stdout",
     "output_type": "stream",
     "text": [
      "(Iteration 1 / 500) loss: 1442.086722\n",
      "(Epoch 0 / 1) train acc: 0.011560; val_acc: 0.011300\n",
      "(Iteration 101 / 500) loss: 1439.532134\n",
      "(Iteration 201 / 500) loss: 1439.545030\n",
      "(Iteration 301 / 500) loss: 1439.022397\n",
      "(Iteration 401 / 500) loss: 1438.837636\n",
      "(Epoch 1 / 1) train acc: 0.284000; val_acc: 0.257000\n",
      "Execution time:  689.5261387825012\n",
      "Test accuracy: 0.257\n",
      "(Iteration 1 / 500) loss: 2075.586770\n",
      "(Epoch 0 / 1) train acc: 0.010120; val_acc: 0.010000\n",
      "(Iteration 101 / 500) loss: 2073.183427\n",
      "(Iteration 201 / 500) loss: 2072.743119\n",
      "(Iteration 301 / 500) loss: 2071.954125\n",
      "(Iteration 401 / 500) loss: 2072.243606\n",
      "(Epoch 1 / 1) train acc: 0.245740; val_acc: 0.231700\n",
      "Execution time:  672.6511619091034\n",
      "Test accuracy: 0.2317\n",
      "(Iteration 1 / 500) loss: 2823.934401\n",
      "(Epoch 0 / 1) train acc: 0.009820; val_acc: 0.010000\n",
      "(Iteration 101 / 500) loss: 2821.536494\n",
      "(Iteration 201 / 500) loss: 2821.132117\n",
      "(Iteration 301 / 500) loss: 2820.420532\n",
      "(Iteration 401 / 500) loss: 2820.668885\n",
      "(Epoch 1 / 1) train acc: 0.237900; val_acc: 0.214200\n",
      "Execution time:  654.5536561012268\n",
      "Test accuracy: 0.2142\n",
      "(Iteration 1 / 500) loss: 3687.126844\n",
      "(Epoch 0 / 1) train acc: 0.011600; val_acc: 0.010500\n",
      "(Iteration 101 / 500) loss: 3684.607819\n",
      "(Iteration 201 / 500) loss: 3684.441152\n",
      "(Iteration 301 / 500) loss: 3684.191445\n",
      "(Iteration 401 / 500) loss: 3683.940062\n",
      "(Epoch 1 / 1) train acc: 0.269540; val_acc: 0.249600\n",
      "Execution time:  651.3226759433746\n",
      "Test accuracy: 0.2496\n",
      "(Iteration 1 / 500) loss: 4665.738803\n",
      "(Epoch 0 / 1) train acc: 0.010220; val_acc: 0.009400\n",
      "(Iteration 101 / 500) loss: 4663.393996\n",
      "(Iteration 201 / 500) loss: 4663.202813\n",
      "(Iteration 301 / 500) loss: 4662.445688\n",
      "(Iteration 401 / 500) loss: 4662.369947\n",
      "(Epoch 1 / 1) train acc: 0.276660; val_acc: 0.251900\n",
      "Execution time:  691.3204259872437\n",
      "Test accuracy: 0.2519\n",
      "(Iteration 1 / 500) loss: 5759.625987\n",
      "(Epoch 0 / 1) train acc: 0.009860; val_acc: 0.010100\n",
      "(Iteration 101 / 500) loss: 5757.182112\n",
      "(Iteration 201 / 500) loss: 5756.757987\n",
      "(Iteration 301 / 500) loss: 5756.247377\n",
      "(Iteration 401 / 500) loss: 5756.697203\n",
      "(Epoch 1 / 1) train acc: 0.259440; val_acc: 0.232000\n",
      "Execution time:  693.0021779537201\n",
      "Test accuracy: 0.232\n"
     ]
    }
   ],
   "source": [
    "# temp = [t+1 for t in range(20)]\n",
    "temp = [25,30,35,40,45,50]\n",
    "results = {}\n",
    "for t in temp:\n",
    "    num_networks=15\n",
    "    temp=t\n",
    "    models_s_15 = teacher_train_logits/temp\n",
    "    softmax_ensemb_models_15 = np.zeros_like(models_s_15)\n",
    "    for i in range(num_networks):\n",
    "           softmax_ensemb_models_15[i] = SoftMax(models_s_15[i])\n",
    "    average_softmax_15 = np.mean(softmax_ensemb_models_15, axis=0)\n",
    "    \n",
    "    net_15 = ThreeLayerConvNet(input_dim=(3, 32, 32),num_classes=100,num_filters=16,filter_size=5,hidden_dim=512,\n",
    "                        reg=0.001,weight_scale=1,dtype=np.float32)\n",
    "    small_model_15 = myModel(net_15, data,\n",
    "                          num_epochs=1, batch_size=100,\n",
    "                          optimizer='adam',\n",
    "                          optim_config={\n",
    "                              'learning_rate': 1e-3,},\n",
    "                          temperature=temp, soft_target=average_softmax_15, distill_mode='proba',\n",
    "                          verbose=True, print_every=100)\n",
    "    tic = time.time()\n",
    "    small_model_15.train()\n",
    "    toc = time.time()\n",
    "    print('Execution time: ',toc-tic)\n",
    "    val_acc = small_model_15.check_accuracy(data['X_val'],data['y_val'])\n",
    "    print('Test accuracy: {}'.format(val_acc))\n",
    "    results[temp] =  val_acc\n",
    "    \n",
    "    "
   ]
  },
  {
   "cell_type": "code",
   "execution_count": 64,
   "metadata": {},
   "outputs": [],
   "source": [
    "#save results first temperature tests.\n",
    "np.savez('temp-tests-nonnoise-ensembling-t1-t20', results)"
   ]
  },
  {
   "cell_type": "code",
   "execution_count": 111,
   "metadata": {},
   "outputs": [],
   "source": [
    "#Getting results non-noise ensemble.\n",
    "resultst1t20 = np.load('temp-tests-nonnoise-ensembling-t1-t20.npz')['arr_0']\n",
    "temperaturest1t20= list(resultst1t20.item().keys())\n",
    "accuraciest1t20 = list(resultst1t20.item().values())\n",
    "temperaturest25t50 = list(results.keys())\n",
    "accuracies25t50 = list(results.values())\n",
    "\n",
    "temp_tested_no_noise_ensembling = temperaturest1t20 + temperaturest25t50\n",
    "acc_no_noise_ensembling = accuraciest1t20 + accuracies25t50"
   ]
  },
  {
   "cell_type": "code",
   "execution_count": 144,
   "metadata": {},
   "outputs": [],
   "source": [
    "accuracies_noisy_esemblingt1t20= np.load('accuracies_noisy_esemblingt1t20.npz')['arr_0']\n",
    "accuracies_noisy_esemblingt1t20 = list(accuracies_noisy_esemblingt1t20)"
   ]
  },
  {
   "cell_type": "code",
   "execution_count": 150,
   "metadata": {},
   "outputs": [],
   "source": [
    "#Getting results noisy ensembling.\n",
    "accuracies_noisy_esemblingt1t20= np.load('accuracies_noisy_esemblingt1t20.npz')['arr_0']\n",
    "accuracies_noisy_esemblingt1t20 = list(accuracies_noisy_esemblingt1t20)\n",
    "temperatures_noisy_esemblingt1t20 = [i+1 for i in range(20)]\n",
    "results_noise_introduction = np.load('resultst25t50.npz')['arr_0']\n",
    "accuracies_noisy_esemblingt25t50 = list(results_noise_introduction.item().values())\n",
    "temperatures_noisy_esemblingt25t50 = list(results_noise_introduction.item().keys())\n",
    "\n",
    "temp_tested_no_noise_ensembling\n",
    "acc_noise_ensembling = accuracies_noisy_esemblingt1t20 + accuracies_noisy_esemblingt25t50\n",
    "temp_noise_ensembling = temperatures_noisy_esemblingt1t20 + temperatures_noisy_esemblingt25t50"
   ]
  },
  {
   "cell_type": "code",
   "execution_count": 152,
   "metadata": {
    "scrolled": true
   },
   "outputs": [
    {
     "data": {
      "image/png": "[encoded data removed]",
      "text/plain": [
       "<Figure size 432x288 with 1 Axes>"
      ]
     },
     "metadata": {
      "needs_background": "light"
     },
     "output_type": "display_data"
    }
   ],
   "source": [
    "#Student model trained without distilling gave a 11.3% accuracy for 1 epoch  & 1e-3 learning rate \n",
    "#with the same parameters we're trainnining the student model.\n",
    "y = [0.113] * len(list(temp_noise_ensembling))\n",
    "fig = plt.figure()\n",
    "plt.scatter(temp_noise_ensembling,acc_noise_ensembling, alpha=0.8, label='3-layer CNN + Noisy Ensemble model')\n",
    "plt.plot(temp_noise_ensembling, y ,c='red', label='3-layer CNN without distilling')\n",
    "plt.xlabel(\"Temperature\")\n",
    "plt.ylabel(\"Validation accuracy\")\n",
    "plt.legend(loc='best')\n",
    "plt.ylim(0.0, 0.30)\n",
    "fig.savefig('distill_cifar100_with-prepro.pdf')\n",
    "plt.show()"
   ]
  },
  {
   "cell_type": "code",
   "execution_count": 125,
   "metadata": {},
   "outputs": [
    {
     "data": {
      "image/png": "[encoded data removed]",
      "text/plain": [
       "<Figure size 432x288 with 1 Axes>"
      ]
     },
     "metadata": {
      "needs_background": "light"
     },
     "output_type": "display_data"
    }
   ],
   "source": [
    "#Student model trained without distilling gave a 11.3% accuracy for 1 epoch  & 1e-3 learning rate \n",
    "#with the same parameters we're trainnining the student model.\n",
    "y = [0.113] * len(list(temp_tested_no_noise_ensembling))\n",
    "fig = plt.figure()\n",
    "plt.scatter(temp_tested_no_noise_ensembling, acc_no_noise_ensembling, alpha=0.8, label='3-layer CNN + Ensemble model')\n",
    "plt.plot(list(temp_tested_no_noise_ensembling), y ,c='red', label='3-layer CNN without distilling')\n",
    "plt.xlabel(\"Temperature\")\n",
    "plt.ylabel(\"Validation accuracy\")\n",
    "plt.legend(loc='best')\n",
    "plt.ylim(0.0, 0.30)\n",
    "fig.savefig('distill_cifar100_without-prepro.pdf')\n",
    "plt.show()"
   ]
  }
 ],
 "metadata": {
  "kernelspec": {
   "display_name": "Python 3",
   "language": "python",
   "name": "python3"
  },
  "language_info": {
   "codemirror_mode": {
    "name": "ipython",
    "version": 3
   },
   "file_extension": ".py",
   "mimetype": "text/x-python",
   "name": "python",
   "nbconvert_exporter": "python",
   "pygments_lexer": "ipython3",
   "version": "3.6.8"
  }
 },
 "nbformat": 4,
 "nbformat_minor": 2
}
