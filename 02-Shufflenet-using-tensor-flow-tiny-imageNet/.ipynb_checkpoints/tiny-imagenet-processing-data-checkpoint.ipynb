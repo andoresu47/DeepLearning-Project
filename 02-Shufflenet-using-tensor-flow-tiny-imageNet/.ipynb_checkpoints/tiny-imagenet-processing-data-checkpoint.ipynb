{
 "cells": [
  {
   "cell_type": "code",
   "execution_count": 2,
   "metadata": {},
   "outputs": [],
   "source": [
    "#getting tiny-imagenet data set\n",
    "#http://cs231n.stanford.edu/tiny-imagenet-200.zip"
   ]
  },
  {
   "cell_type": "code",
   "execution_count": 1,
   "metadata": {},
   "outputs": [],
   "source": [
    "import data\n",
    "import model\n",
    "import tensorflow as tf\n",
    "import numpy as np\n",
    "import matplotlib.pyplot as plt"
   ]
  },
  {
   "cell_type": "code",
   "execution_count": 2,
   "metadata": {},
   "outputs": [
    {
     "name": "stdout",
     "output_type": "stream",
     "text": [
      "loading data for classes 20 / 200\n",
      "loading data for classes 40 / 200\n",
      "loading data for classes 60 / 200\n",
      "loading data for classes 80 / 200\n",
      "loading data for classes 100 / 200\n",
      "loading data for classes 120 / 200\n",
      "loading data for classes 140 / 200\n",
      "loading data for classes 160 / 200\n",
      "loading data for classes 180 / 200\n",
      "loading data for classes 200 / 200\n",
      "sample size: 100000\n"
     ]
    }
   ],
   "source": [
    "dataset = data.Dataset(batch_size=128)"
   ]
  },
  {
   "cell_type": "code",
   "execution_count": 11,
   "metadata": {
    "scrolled": true
   },
   "outputs": [
    {
     "data": {
      "image/png": "[encoded data removed]",
      "text/plain": [
       "<Figure size 432x288 with 1 Axes>"
      ]
     },
     "metadata": {
      "needs_background": "light"
     },
     "output_type": "display_data"
    }
   ],
   "source": [
    "plt.imshow(dataset.train.images[0].transpose(1,2,0))\n",
    "plt.show()"
   ]
  }
 ],
 "metadata": {
  "kernelspec": {
   "display_name": "Python 3",
   "language": "python",
   "name": "python3"
  },
  "language_info": {
   "codemirror_mode": {
    "name": "ipython",
    "version": 3
   },
   "file_extension": ".py",
   "mimetype": "text/x-python",
   "name": "python",
   "nbconvert_exporter": "python",
   "pygments_lexer": "ipython3",
   "version": "3.6.8"
  }
 },
 "nbformat": 4,
 "nbformat_minor": 2
}
